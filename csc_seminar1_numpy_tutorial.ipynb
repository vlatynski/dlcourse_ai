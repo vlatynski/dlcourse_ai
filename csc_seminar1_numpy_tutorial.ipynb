{
  "nbformat": 4,
  "nbformat_minor": 0,
  "metadata": {
    "colab": {
      "name": "csc_seminar1_numpy_tutorial.ipynb",
      "version": "0.3.2",
      "provenance": []
    },
    "kernelspec": {
      "display_name": "Python 3",
      "language": "python",
      "name": "python3"
    }
  },
  "cells": [
    {
      "metadata": {
        "id": "XSwMtPCMTCdy",
        "colab_type": "text"
      },
      "cell_type": "markdown",
      "source": [
        "## Краткий туториал по NumPy\n",
        "\n",
        "Данное руководство ни в коем случае не предентует на полноту изложения\n",
        "\n",
        "[NumPy](https://docs.scipy.org/doc/numpy/user/index.html)\n",
        "\n",
        "[Quickstart guide](https://docs.scipy.org/doc/numpy/user/quickstart.html)"
      ]
    },
    {
      "metadata": {
        "id": "We20nfUPTCd1",
        "colab_type": "text"
      },
      "cell_type": "markdown",
      "source": [
        "Библеотека NumPy предоставляет возможность удобно работать с многомерными массивами\n",
        "\n",
        "**Преимущества** `NumPy`:\n",
        "* Векторизованные вычисления\n",
        "* Broadcasting\n",
        "\n",
        "**Сравнение производительности**\n",
        "![Imgur](https://i.imgur.com/z4GzOX6.png)\n",
        "\n",
        "Основным использующимся классом библиотеки NumPy является [ndarray](https://docs.scipy.org/doc/numpy/reference/generated/numpy.ndarray.html)\n",
        "\n",
        "**Отличия** `ndarray` и Python sequences: \n",
        "* ndarray может содержать объекты только одного типа\n",
        "* ndarray имеет фиксированную длину, которая определяется в момент его создания"
      ]
    },
    {
      "metadata": {
        "id": "82Ye9qb8TCd5",
        "colab_type": "code",
        "colab": {}
      },
      "cell_type": "code",
      "source": [
        "import numpy as np"
      ],
      "execution_count": 0,
      "outputs": []
    },
    {
      "metadata": {
        "id": "8quuneNWTCeE",
        "colab_type": "text"
      },
      "cell_type": "markdown",
      "source": [
        "### Способы создания Numpy arrays\n",
        "* Конвертация из стуктур данных Python (e.g., lists, tuples)\n",
        "* Генерация с помощью встроенных функций (e.g., arange, ones, zeros, etc.)\n",
        "* Чтение с диска"
      ]
    },
    {
      "metadata": {
        "id": "C9Nf0yusTCeG",
        "colab_type": "text"
      },
      "cell_type": "markdown",
      "source": [
        "### Конвертация из стуктур данных Python"
      ]
    },
    {
      "metadata": {
        "id": "IQGZdFLZTCeJ",
        "colab_type": "code",
        "colab": {},
        "outputId": "2cda8437-25ad-4fb7-f798-4528d4052a04"
      },
      "cell_type": "code",
      "source": [
        "np.array([1, 2, 3, 4, 5])"
      ],
      "execution_count": 0,
      "outputs": [
        {
          "output_type": "execute_result",
          "data": {
            "text/plain": [
              "array([1, 2, 3, 4, 5])"
            ]
          },
          "metadata": {
            "tags": []
          },
          "execution_count": 2
        }
      ]
    },
    {
      "metadata": {
        "id": "f6l6ydpLTCeT",
        "colab_type": "text"
      },
      "cell_type": "markdown",
      "source": [
        "При конвертации можно задавать тип данных с помощью аргумента [dtype](https://docs.scipy.org/doc/numpy/reference/generated/numpy.dtype.html): "
      ]
    },
    {
      "metadata": {
        "id": "Ejl2QV-KTCeU",
        "colab_type": "code",
        "colab": {},
        "outputId": "18fb85f4-c305-4dbb-8c22-44d371fbfc37"
      },
      "cell_type": "code",
      "source": [
        "np.array([1, 2, 3, 4, 5], dtype=np.float32)"
      ],
      "execution_count": 0,
      "outputs": [
        {
          "output_type": "execute_result",
          "data": {
            "text/plain": [
              "array([1., 2., 3., 4., 5.], dtype=float32)"
            ]
          },
          "metadata": {
            "tags": []
          },
          "execution_count": 3
        }
      ]
    },
    {
      "metadata": {
        "id": "WVodhb-pTCeZ",
        "colab_type": "text"
      },
      "cell_type": "markdown",
      "source": [
        "Аналогичное преобразование:"
      ]
    },
    {
      "metadata": {
        "id": "lWXa9-v3TCeb",
        "colab_type": "code",
        "colab": {},
        "outputId": "7cfbd572-9d35-4820-faaa-99cecc2e1ad8"
      },
      "cell_type": "code",
      "source": [
        "np.float32([1, 2, 3, 4, 5])"
      ],
      "execution_count": 0,
      "outputs": [
        {
          "output_type": "execute_result",
          "data": {
            "text/plain": [
              "array([1., 2., 3., 4., 5.], dtype=float32)"
            ]
          },
          "metadata": {
            "tags": []
          },
          "execution_count": 4
        }
      ]
    },
    {
      "metadata": {
        "id": "LNnwaTyjTCeg",
        "colab_type": "text"
      },
      "cell_type": "markdown",
      "source": [
        "**Но**: элементы NumPy array должны быть одного типа"
      ]
    },
    {
      "metadata": {
        "id": "TM7VijUiTCeh",
        "colab_type": "code",
        "colab": {},
        "outputId": "3fa85eeb-4f8b-4cf4-bdb3-e94b3fb56609"
      },
      "cell_type": "code",
      "source": [
        "a = [1, 'a', 1.2, []]\n",
        "np.array(a)"
      ],
      "execution_count": 0,
      "outputs": [
        {
          "output_type": "error",
          "ename": "ValueError",
          "evalue": "setting an array element with a sequence",
          "traceback": [
            "\u001b[1;31m---------------------------------------------------------------------------\u001b[0m",
            "\u001b[1;31mValueError\u001b[0m                                Traceback (most recent call last)",
            "\u001b[1;32m<ipython-input-5-e7c469eeeaa8>\u001b[0m in \u001b[0;36m<module>\u001b[1;34m()\u001b[0m\n\u001b[0;32m      1\u001b[0m \u001b[0ma\u001b[0m \u001b[1;33m=\u001b[0m \u001b[1;33m[\u001b[0m\u001b[1;36m1\u001b[0m\u001b[1;33m,\u001b[0m \u001b[1;34m'a'\u001b[0m\u001b[1;33m,\u001b[0m \u001b[1;36m1.2\u001b[0m\u001b[1;33m,\u001b[0m \u001b[1;33m[\u001b[0m\u001b[1;33m]\u001b[0m\u001b[1;33m]\u001b[0m\u001b[1;33m\u001b[0m\u001b[0m\n\u001b[1;32m----> 2\u001b[1;33m \u001b[0mnp\u001b[0m\u001b[1;33m.\u001b[0m\u001b[0marray\u001b[0m\u001b[1;33m(\u001b[0m\u001b[0ma\u001b[0m\u001b[1;33m)\u001b[0m\u001b[1;33m\u001b[0m\u001b[0m\n\u001b[0m",
            "\u001b[1;31mValueError\u001b[0m: setting an array element with a sequence"
          ]
        }
      ]
    },
    {
      "metadata": {
        "id": "9TjfKXkWTCel",
        "colab_type": "code",
        "colab": {},
        "outputId": "ebe844b2-13c4-4e60-f75f-af9229272981"
      },
      "cell_type": "code",
      "source": [
        "np.array(a, dtype=object)"
      ],
      "execution_count": 0,
      "outputs": [
        {
          "output_type": "execute_result",
          "data": {
            "text/plain": [
              "array([1, 'a', 1.2, list([])], dtype=object)"
            ]
          },
          "metadata": {
            "tags": []
          },
          "execution_count": 6
        }
      ]
    },
    {
      "metadata": {
        "id": "Jq2rOydATCeo",
        "colab_type": "text"
      },
      "cell_type": "markdown",
      "source": [
        "### Генерация с помощью встроенных функций"
      ]
    },
    {
      "metadata": {
        "id": "GRks4lzKTCep",
        "colab_type": "text"
      },
      "cell_type": "markdown",
      "source": [
        "* [arange](https://docs.scipy.org/doc/numpy/reference/generated/numpy.arange.html) — аналог range из Python, можно передать нецелочисленный шаг\n",
        "* [linspace](https://docs.scipy.org/doc/numpy/reference/generated/numpy.linspace.html) — равномерное разбиение отрезка на n-1 интервал\n",
        "* [logspace](https://docs.scipy.org/doc/numpy/reference/generated/numpy.logspace.html) — разбиение отрезка по логарифмической шкале\n",
        "* [zeros](https://docs.scipy.org/doc/numpy/reference/generated/numpy.zeros.html) — массив из нулей заданной размерности\n",
        "* [ones](https://docs.scipy.org/doc/numpy/reference/generated/numpy.ones.html) — массив из единиц\n",
        "* [empty](https://docs.scipy.org/doc/numpy/reference/generated/numpy.empty.html) — массив неинициализированный никаким значением\n",
        "* [random](https://docs.scipy.org/doc/numpy/reference/routines.random.html) - модуль, предоставляющий различные функции создания случайных массивов"
      ]
    },
    {
      "metadata": {
        "id": "-mr6BEngTCeq",
        "colab_type": "code",
        "colab": {},
        "outputId": "87ff1a4e-ac7e-4731-96e1-2e91716d8271"
      },
      "cell_type": "code",
      "source": [
        "np.arange(0, 3, 0.5)"
      ],
      "execution_count": 0,
      "outputs": [
        {
          "output_type": "execute_result",
          "data": {
            "text/plain": [
              "array([0. , 0.5, 1. , 1.5, 2. , 2.5])"
            ]
          },
          "metadata": {
            "tags": []
          },
          "execution_count": 7
        }
      ]
    },
    {
      "metadata": {
        "id": "jiNATFA5TCet",
        "colab_type": "code",
        "colab": {},
        "outputId": "2dd044a1-6f05-48c0-e2f1-2e7ef2e70e6d"
      },
      "cell_type": "code",
      "source": [
        "np.linspace(0, 3, 7)"
      ],
      "execution_count": 0,
      "outputs": [
        {
          "output_type": "execute_result",
          "data": {
            "text/plain": [
              "array([0. , 0.5, 1. , 1.5, 2. , 2.5, 3. ])"
            ]
          },
          "metadata": {
            "tags": []
          },
          "execution_count": 8
        }
      ]
    },
    {
      "metadata": {
        "id": "QsGfjtekTCex",
        "colab_type": "code",
        "colab": {},
        "outputId": "07de1f9a-1995-4695-abfc-7640ed0c2cc4"
      },
      "cell_type": "code",
      "source": [
        "np.logspace(0, 9, 10, base=2)"
      ],
      "execution_count": 0,
      "outputs": [
        {
          "output_type": "execute_result",
          "data": {
            "text/plain": [
              "array([  1.,   2.,   4.,   8.,  16.,  32.,  64., 128., 256., 512.])"
            ]
          },
          "metadata": {
            "tags": []
          },
          "execution_count": 9
        }
      ]
    },
    {
      "metadata": {
        "id": "KMGHHsKGTCe0",
        "colab_type": "code",
        "colab": {},
        "outputId": "a0c637d2-6b93-4d11-e278-dd33027ddc1a"
      },
      "cell_type": "code",
      "source": [
        "np.zeros((3, 3))"
      ],
      "execution_count": 0,
      "outputs": [
        {
          "output_type": "execute_result",
          "data": {
            "text/plain": [
              "array([[0., 0., 0.],\n",
              "       [0., 0., 0.],\n",
              "       [0., 0., 0.]])"
            ]
          },
          "metadata": {
            "tags": []
          },
          "execution_count": 10
        }
      ]
    },
    {
      "metadata": {
        "id": "vAd63Ni8TCe3",
        "colab_type": "code",
        "colab": {},
        "outputId": "0e5f5f74-3429-47c4-8cf0-490be9e34253"
      },
      "cell_type": "code",
      "source": [
        "np.ones((3, 5))"
      ],
      "execution_count": 0,
      "outputs": [
        {
          "output_type": "execute_result",
          "data": {
            "text/plain": [
              "array([[1., 1., 1., 1., 1.],\n",
              "       [1., 1., 1., 1., 1.],\n",
              "       [1., 1., 1., 1., 1.]])"
            ]
          },
          "metadata": {
            "tags": []
          },
          "execution_count": 11
        }
      ]
    },
    {
      "metadata": {
        "id": "6sWOCJz7TCe7",
        "colab_type": "code",
        "colab": {},
        "outputId": "d500435e-6f55-4c46-dd79-0e07390b4375"
      },
      "cell_type": "code",
      "source": [
        "np.empty((2, 4))"
      ],
      "execution_count": 0,
      "outputs": [
        {
          "output_type": "execute_result",
          "data": {
            "text/plain": [
              "array([[0.00e+000, 0.00e+000, 0.00e+000, 0.00e+000],\n",
              "       [0.00e+000, 5.77e-321, 0.00e+000, 0.00e+000]])"
            ]
          },
          "metadata": {
            "tags": []
          },
          "execution_count": 12
        }
      ]
    },
    {
      "metadata": {
        "id": "2Ib2P0AGTCe-",
        "colab_type": "code",
        "colab": {},
        "outputId": "630ce164-3897-4450-87a8-e64ed6e6815d"
      },
      "cell_type": "code",
      "source": [
        "np.random.rand(10)"
      ],
      "execution_count": 0,
      "outputs": [
        {
          "output_type": "execute_result",
          "data": {
            "text/plain": [
              "array([0.45451331, 0.46554607, 0.38322748, 0.38330382, 0.6318929 ,\n",
              "       0.90907971, 0.16550165, 0.1144789 , 0.62025869, 0.63267327])"
            ]
          },
          "metadata": {
            "tags": []
          },
          "execution_count": 13
        }
      ]
    },
    {
      "metadata": {
        "id": "QgKTi7eHTCfB",
        "colab_type": "text"
      },
      "cell_type": "markdown",
      "source": [
        "Pазмеры массива хранятся в поле **shape**, а количество размерностей - в **ndim**"
      ]
    },
    {
      "metadata": {
        "scrolled": true,
        "id": "w8EevkWwTCfC",
        "colab_type": "code",
        "colab": {},
        "outputId": "46631ba3-d756-479e-f9fa-ff7433ef5fa9"
      },
      "cell_type": "code",
      "source": [
        "array = np.ones((2, 3))\n",
        "print('Размерность массива - {}, количество размерностей - {}'.format(array.shape, array.ndim))"
      ],
      "execution_count": 0,
      "outputs": [
        {
          "output_type": "stream",
          "text": [
            "Размерность массива - (2, 3), количество размерностей - 2\n"
          ],
          "name": "stdout"
        }
      ]
    },
    {
      "metadata": {
        "id": "1-2isWpyTCfF",
        "colab_type": "text"
      },
      "cell_type": "markdown",
      "source": [
        "Метод [reshape](https://docs.scipy.org/doc/numpy/reference/generated/numpy.reshape.html) возвращает новое `view` массива, если возможно. Если нет, то возвращается копия"
      ]
    },
    {
      "metadata": {
        "id": "yZh_sFAiTCfG",
        "colab_type": "code",
        "colab": {},
        "outputId": "64568890-8ea9-4b64-8f7b-5d4e0de45d77"
      },
      "cell_type": "code",
      "source": [
        "array = np.arange(0, 10, 1)\n",
        "array = array.reshape((2, 5))\n",
        "array"
      ],
      "execution_count": 0,
      "outputs": [
        {
          "output_type": "execute_result",
          "data": {
            "text/plain": [
              "array([[0, 1, 2, 3, 4],\n",
              "       [5, 6, 7, 8, 9]])"
            ]
          },
          "metadata": {
            "tags": []
          },
          "execution_count": 15
        }
      ]
    },
    {
      "metadata": {
        "id": "6cjuBJ5mTCfJ",
        "colab_type": "text"
      },
      "cell_type": "markdown",
      "source": [
        "Если нужно, чтобы возникала ошибка при копировании, стоит присваивать новое значение атрибута `shape`, а не пользоваться функцией `reshape`"
      ]
    },
    {
      "metadata": {
        "id": "lcs5WdXfTCfK",
        "colab_type": "text"
      },
      "cell_type": "markdown",
      "source": [
        "Функция [ravel](https://docs.scipy.org/doc/numpy/reference/generated/numpy.ravel.html) позволяет развернуть многомерный массив в вектор "
      ]
    },
    {
      "metadata": {
        "id": "nISHTY9NTCfK",
        "colab_type": "code",
        "colab": {},
        "outputId": "e02f2931-2708-4058-e548-991a2806139c"
      },
      "cell_type": "code",
      "source": [
        "array = np.ravel(array)\n",
        "array"
      ],
      "execution_count": 0,
      "outputs": [
        {
          "output_type": "execute_result",
          "data": {
            "text/plain": [
              "array([0, 1, 2, 3, 4, 5, 6, 7, 8, 9])"
            ]
          },
          "metadata": {
            "tags": []
          },
          "execution_count": 16
        }
      ]
    },
    {
      "metadata": {
        "id": "iaHwvCXqTCfM",
        "colab_type": "code",
        "colab": {},
        "outputId": "f5ce6413-132b-4220-ae4c-bc2ca2ba23c3"
      },
      "cell_type": "code",
      "source": [
        "a = np.zeros((10, 2))\n",
        "# A transpose makes the array non-contiguous\n",
        "b = a.T\n",
        "# Taking a view makes it possible to modify the shape without modifying\n",
        "# the initial object.\n",
        "c = b.view()\n",
        "c.shape = (20)"
      ],
      "execution_count": 0,
      "outputs": [
        {
          "output_type": "error",
          "ename": "AttributeError",
          "evalue": "incompatible shape for a non-contiguous array",
          "traceback": [
            "\u001b[1;31m---------------------------------------------------------------------------\u001b[0m",
            "\u001b[1;31mAttributeError\u001b[0m                            Traceback (most recent call last)",
            "\u001b[1;32m<ipython-input-17-b6752c6307d0>\u001b[0m in \u001b[0;36m<module>\u001b[1;34m()\u001b[0m\n\u001b[0;32m      5\u001b[0m \u001b[1;31m# the initial object.\u001b[0m\u001b[1;33m\u001b[0m\u001b[1;33m\u001b[0m\u001b[0m\n\u001b[0;32m      6\u001b[0m \u001b[0mc\u001b[0m \u001b[1;33m=\u001b[0m \u001b[0mb\u001b[0m\u001b[1;33m.\u001b[0m\u001b[0mview\u001b[0m\u001b[1;33m(\u001b[0m\u001b[1;33m)\u001b[0m\u001b[1;33m\u001b[0m\u001b[0m\n\u001b[1;32m----> 7\u001b[1;33m \u001b[0mc\u001b[0m\u001b[1;33m.\u001b[0m\u001b[0mshape\u001b[0m \u001b[1;33m=\u001b[0m \u001b[1;33m(\u001b[0m\u001b[1;36m20\u001b[0m\u001b[1;33m)\u001b[0m\u001b[1;33m\u001b[0m\u001b[0m\n\u001b[0m",
            "\u001b[1;31mAttributeError\u001b[0m: incompatible shape for a non-contiguous array"
          ]
        }
      ]
    },
    {
      "metadata": {
        "id": "PvGMMGskTCfP",
        "colab_type": "text"
      },
      "cell_type": "markdown",
      "source": [
        "### Индексация"
      ]
    },
    {
      "metadata": {
        "id": "Df4FyOUlTCfQ",
        "colab_type": "text"
      },
      "cell_type": "markdown",
      "source": [
        "NumPy использует привычную индексацию Python, в том числе отрицательные индексы и срезы"
      ]
    },
    {
      "metadata": {
        "id": "F6H83igFTCfR",
        "colab_type": "code",
        "colab": {},
        "outputId": "9d529e99-6097-4144-9eab-11b6def494eb"
      },
      "cell_type": "code",
      "source": [
        "print(array)\n",
        "print(array[3])\n",
        "print(array[-1])\n",
        "print(array[1:-1])\n",
        "print(array[1:-1:2])\n",
        "print(array[::-1])"
      ],
      "execution_count": 0,
      "outputs": [
        {
          "output_type": "stream",
          "text": [
            "[0 1 2 3 4 5 6 7 8 9]\n",
            "3\n",
            "9\n",
            "[1 2 3 4 5 6 7 8]\n",
            "[1 3 5 7]\n",
            "[9 8 7 6 5 4 3 2 1 0]\n"
          ],
          "name": "stdout"
        }
      ]
    },
    {
      "metadata": {
        "id": "pf7F7uFjTCfV",
        "colab_type": "text"
      },
      "cell_type": "markdown",
      "source": [
        "**Замечание 1** Срезы в numpy возвращают `view`, а не копию массива"
      ]
    },
    {
      "metadata": {
        "id": "h0vJz6x9TCfW",
        "colab_type": "text"
      },
      "cell_type": "markdown",
      "source": [
        "**Замечание 2**: При индексации многомерных массивов можно использовать только одну пару квадратных скобоок, т.е. вместо `array[i][j]` можно писать `array[i, j]`"
      ]
    },
    {
      "metadata": {
        "id": "96YpGkIOTCfX",
        "colab_type": "text"
      },
      "cell_type": "markdown",
      "source": [
        "В качестве индексов можно использовать массивы индексов и булевые маски:"
      ]
    },
    {
      "metadata": {
        "id": "exHSWtr_TCfY",
        "colab_type": "code",
        "colab": {},
        "outputId": "9ee96e68-5507-476b-ecf4-62d5ffe4076d"
      },
      "cell_type": "code",
      "source": [
        "array[[0, 2, 4, 6, 8]]"
      ],
      "execution_count": 0,
      "outputs": [
        {
          "output_type": "execute_result",
          "data": {
            "text/plain": [
              "array([0, 2, 4, 6, 8])"
            ]
          },
          "metadata": {
            "tags": []
          },
          "execution_count": 19
        }
      ]
    },
    {
      "metadata": {
        "id": "fxrdGowcTCfa",
        "colab_type": "code",
        "colab": {},
        "outputId": "64f875e5-58ae-4b72-cf77-9774a73bbba4"
      },
      "cell_type": "code",
      "source": [
        "array[[True, False, True, False, True, False, True, False, True, False]]"
      ],
      "execution_count": 0,
      "outputs": [
        {
          "output_type": "execute_result",
          "data": {
            "text/plain": [
              "array([0, 2, 4, 6, 8])"
            ]
          },
          "metadata": {
            "tags": []
          },
          "execution_count": 20
        }
      ]
    },
    {
      "metadata": {
        "id": "Iv0gpaxGTCfd",
        "colab_type": "text"
      },
      "cell_type": "markdown",
      "source": [
        "`:` - полный срез по оси"
      ]
    },
    {
      "metadata": {
        "id": "Ia0yJPzGTCfe",
        "colab_type": "code",
        "colab": {},
        "outputId": "a15e376b-4e64-4253-c181-acada15702c4"
      },
      "cell_type": "code",
      "source": [
        "x = np.array([[[1, 2, 3], [4, 5, 6]]])\n",
        "x[:, :, 0]"
      ],
      "execution_count": 0,
      "outputs": [
        {
          "output_type": "execute_result",
          "data": {
            "text/plain": [
              "array([[1, 4]])"
            ]
          },
          "metadata": {
            "tags": []
          },
          "execution_count": 21
        }
      ]
    },
    {
      "metadata": {
        "id": "8Km0b9IvTCfh",
        "colab_type": "text"
      },
      "cell_type": "markdown",
      "source": [
        "Если количество индексов меньше количества осей, то пропущенные индексы считаются равными `:`"
      ]
    },
    {
      "metadata": {
        "id": "Ka5a0G7VTCfi",
        "colab_type": "code",
        "colab": {},
        "outputId": "1523b148-ce18-4831-cc44-98d4df90aeb1"
      },
      "cell_type": "code",
      "source": [
        "x[0]"
      ],
      "execution_count": 0,
      "outputs": [
        {
          "output_type": "execute_result",
          "data": {
            "text/plain": [
              "array([[1, 2, 3],\n",
              "       [4, 5, 6]])"
            ]
          },
          "metadata": {
            "tags": []
          },
          "execution_count": 22
        }
      ]
    },
    {
      "metadata": {
        "id": "vK16cQ0-TCfm",
        "colab_type": "text"
      },
      "cell_type": "markdown",
      "source": [
        "`...` (**dots**) - удобный синтаксис, когда нужно использовать несколько `:` для задания полного индекса\n",
        "\n",
        "Например, пусть `x` - `np.array` с 5 осями. Тогда\n",
        "\n",
        "```\n",
        "x[1, 2, ...] - то же самое, что x[1, 2, :, :, :],\n",
        "x[..., 3] эквивалетно x[:, :, :, :, 3]\n",
        "x[4, ..., 5, :] эквивалентно x[4, :, :, 5, :]\n",
        "```"
      ]
    },
    {
      "metadata": {
        "id": "VnpJltkqTCfn",
        "colab_type": "code",
        "colab": {},
        "outputId": "cb481c42-db38-4a8c-f029-49a3e89be2a0"
      },
      "cell_type": "code",
      "source": [
        "x[..., 0]"
      ],
      "execution_count": 0,
      "outputs": [
        {
          "output_type": "execute_result",
          "data": {
            "text/plain": [
              "array([[1, 4]])"
            ]
          },
          "metadata": {
            "tags": []
          },
          "execution_count": 23
        }
      ]
    },
    {
      "metadata": {
        "id": "EbYYBNhcTCfq",
        "colab_type": "text"
      },
      "cell_type": "markdown",
      "source": [
        "`np.newaxis` и `None`"
      ]
    },
    {
      "metadata": {
        "id": "o7p-MvCjTCfr",
        "colab_type": "code",
        "colab": {},
        "outputId": "cd156822-770c-4001-f343-e25e79aaaf1e"
      },
      "cell_type": "code",
      "source": [
        "x = np.array([10, 20])\n",
        "print(x, x.shape)\n",
        "print(x[np.newaxis], x[np.newaxis].shape, x[None].shape)\n",
        "print(x[np.newaxis, :], x[np.newaxis, :].shape)\n",
        "print(x[:, np.newaxis], x[:, np.newaxis].shape)"
      ],
      "execution_count": 0,
      "outputs": [
        {
          "output_type": "stream",
          "text": [
            "[10 20] (2,)\n",
            "[[10 20]] (1, 2) (1, 2)\n",
            "[[10 20]] (1, 2)\n",
            "[[10]\n",
            " [20]] (2, 1)\n"
          ],
          "name": "stdout"
        }
      ]
    },
    {
      "metadata": {
        "id": "_q7DFVWtTCft",
        "colab_type": "text"
      },
      "cell_type": "markdown",
      "source": [
        "### Операции"
      ]
    },
    {
      "metadata": {
        "collapsed": true,
        "id": "SkGPNExkTCft",
        "colab_type": "text"
      },
      "cell_type": "markdown",
      "source": [
        "`NumPy` позволяет производить операции над массивами одинаковой размерности (в том числе над многомерными) без использования циклов"
      ]
    },
    {
      "metadata": {
        "id": "h5X4q_T5TCfu",
        "colab_type": "code",
        "colab": {}
      },
      "cell_type": "code",
      "source": [
        "a = np.array([0, 2, 4, 6, 8, 10])\n",
        "b = np.array([10, 12, 14, 16, 18, 110])"
      ],
      "execution_count": 0,
      "outputs": []
    },
    {
      "metadata": {
        "id": "ceYVgJITTCfw",
        "colab_type": "code",
        "colab": {},
        "outputId": "e38ddbf4-abb2-45c8-cb0a-9be1c5ab75f5"
      },
      "cell_type": "code",
      "source": [
        "print(a - b)\n",
        "print(a + b)\n",
        "print(a * b)\n",
        "print(a - b)"
      ],
      "execution_count": 0,
      "outputs": [
        {
          "output_type": "stream",
          "text": [
            "[ -10  -10  -10  -10  -10 -100]\n",
            "[ 10  14  18  22  26 120]\n",
            "[   0   24   56   96  144 1100]\n",
            "[ -10  -10  -10  -10  -10 -100]\n"
          ],
          "name": "stdout"
        }
      ]
    },
    {
      "metadata": {
        "id": "-fBwdcYNTCfy",
        "colab_type": "text"
      },
      "cell_type": "markdown",
      "source": [
        "Также `NumPy` предоставляет разнообразные математические операции"
      ]
    },
    {
      "metadata": {
        "id": "-gXhF6W5TCfy",
        "colab_type": "code",
        "colab": {},
        "outputId": "44c69fdb-46b5-40d5-a322-6888b03796c3"
      },
      "cell_type": "code",
      "source": [
        "print(np.sin(10))\n",
        "print(np.sqrt(100))\n",
        "print(np.exp(2))"
      ],
      "execution_count": 0,
      "outputs": [
        {
          "output_type": "stream",
          "text": [
            "-0.5440211108893698\n",
            "10.0\n",
            "7.38905609893065\n"
          ],
          "name": "stdout"
        }
      ]
    },
    {
      "metadata": {
        "id": "cecc0-kBTCf0",
        "colab_type": "text"
      },
      "cell_type": "markdown",
      "source": [
        "**Замечание:** Все арифметические операции над массивами одинаковой размерности производятся поэлементно"
      ]
    },
    {
      "metadata": {
        "id": "jaeG_33wTCf1",
        "colab_type": "text"
      },
      "cell_type": "markdown",
      "source": [
        "### [Broadcasting](https://docs.scipy.org/doc/numpy/user/basics.broadcasting.html)"
      ]
    },
    {
      "metadata": {
        "id": "L6nE6DL5TCf1",
        "colab_type": "text"
      },
      "cell_type": "markdown",
      "source": [
        "Broadcasting позволяет производить арифметические операции над массивами разных, но согласованных размерностей.\n",
        "\n",
        "Правило согласования размерностей: `Two dimensions are compatible when they are equal, or one of them is 1`\n",
        "\n",
        "В противном случае будет выброшено исключение `ValueError: operands could not be broadcast together `\n",
        "\n",
        "Пример: умножение вектора на число:\n",
        "\n",
        "![Imgur](https://i.imgur.com/tE3ZCWG.gif)"
      ]
    },
    {
      "metadata": {
        "id": "dAfYnnhLTCf2",
        "colab_type": "code",
        "colab": {},
        "outputId": "3d684dd1-510e-40de-ad37-39f8c4fa7f3a"
      },
      "cell_type": "code",
      "source": [
        "np.arange(1, 4) * 2"
      ],
      "execution_count": 0,
      "outputs": [
        {
          "output_type": "execute_result",
          "data": {
            "text/plain": [
              "array([2, 4, 6])"
            ]
          },
          "metadata": {
            "tags": []
          },
          "execution_count": 28
        }
      ]
    },
    {
      "metadata": {
        "id": "taLpQCYSTCf4",
        "colab_type": "text"
      },
      "cell_type": "markdown",
      "source": [
        "Если количество размерностей не совпадает, то к массиву меньшей размерности добавляются размерности \"слева\""
      ]
    },
    {
      "metadata": {
        "id": "WcEJoIU5TCf4",
        "colab_type": "code",
        "colab": {},
        "outputId": "ce01570c-5e28-4077-e16f-3bfb57891686"
      },
      "cell_type": "code",
      "source": [
        "a = np.ones((2,3,4))\n",
        "b = np.ones(4)\n",
        "c = a * b  # a.shape == (2, 3, 4) -> b.shape is considered to be (1, 1, 4)\n",
        "\n",
        "print(a.shape, b.shape, c.shape)"
      ],
      "execution_count": 0,
      "outputs": [
        {
          "output_type": "stream",
          "text": [
            "(2, 3, 4) (4,) (2, 3, 4)\n"
          ],
          "name": "stdout"
        }
      ]
    },
    {
      "metadata": {
        "id": "C8XiVOERTCf6",
        "colab_type": "text"
      },
      "cell_type": "markdown",
      "source": [
        "Сложение строк матрицы с одним и тем же вектором:"
      ]
    },
    {
      "metadata": {
        "id": "rfef_9UXTCf6",
        "colab_type": "text"
      },
      "cell_type": "markdown",
      "source": [
        "![Imgur](https://i.imgur.com/VsP2dqT.gif)"
      ]
    },
    {
      "metadata": {
        "id": "fJUHYfv_TCf7",
        "colab_type": "code",
        "colab": {},
        "outputId": "cf29a0e8-c860-411a-c869-149080501507"
      },
      "cell_type": "code",
      "source": [
        "a = np.array(\n",
        "    [[0, 0, 0],\n",
        "     [10, 10, 10],\n",
        "     [20, 20, 20],\n",
        "     [30, 30, 30]]\n",
        ")\n",
        "b = np.arange(3)\n",
        "\n",
        "c = a + b\n",
        "print(c)"
      ],
      "execution_count": 0,
      "outputs": [
        {
          "output_type": "stream",
          "text": [
            "[[ 0  1  2]\n",
            " [10 11 12]\n",
            " [20 21 22]\n",
            " [30 31 32]]\n"
          ],
          "name": "stdout"
        }
      ]
    },
    {
      "metadata": {
        "id": "otnMNu6ATCf9",
        "colab_type": "text"
      },
      "cell_type": "markdown",
      "source": [
        "Сложить вектор со столбцами, а не со строками, не получится, т.к. вектор должен состоять из 4 элементов и поэтому размерности будут не согласованы"
      ]
    },
    {
      "metadata": {
        "id": "k1W1C3SiTCf9",
        "colab_type": "text"
      },
      "cell_type": "markdown",
      "source": [
        "![Imgur](https://i.imgur.com/9LvGoeL.gif)"
      ]
    },
    {
      "metadata": {
        "id": "jNEjeQL9TCf9",
        "colab_type": "text"
      },
      "cell_type": "markdown",
      "source": [
        "Для такой операции нужно преобразовать вектор:"
      ]
    },
    {
      "metadata": {
        "id": "g7LSGzKoTCf-",
        "colab_type": "code",
        "colab": {},
        "outputId": "31aa2af6-40bf-4f2e-8927-c83d59db50ef"
      },
      "cell_type": "code",
      "source": [
        "b = np.arange(4)[:, np.newaxis]\n",
        "b"
      ],
      "execution_count": 0,
      "outputs": [
        {
          "output_type": "execute_result",
          "data": {
            "text/plain": [
              "array([[0],\n",
              "       [1],\n",
              "       [2],\n",
              "       [3]])"
            ]
          },
          "metadata": {
            "tags": []
          },
          "execution_count": 31
        }
      ]
    },
    {
      "metadata": {
        "id": "jrlIIRYYTCgA",
        "colab_type": "text"
      },
      "cell_type": "markdown",
      "source": [
        "А затем сложить его с матрицей:"
      ]
    },
    {
      "metadata": {
        "id": "dBL8dh4LTCgA",
        "colab_type": "code",
        "colab": {},
        "outputId": "7672685f-c40b-4e3e-c9bb-0cb74132283a"
      },
      "cell_type": "code",
      "source": [
        "a = np.array([[0, 0, 0], [10, 10, 10], [20, 20, 20], [30, 30, 30]])\n",
        "b + a"
      ],
      "execution_count": 0,
      "outputs": [
        {
          "output_type": "execute_result",
          "data": {
            "text/plain": [
              "array([[ 0,  0,  0],\n",
              "       [11, 11, 11],\n",
              "       [22, 22, 22],\n",
              "       [33, 33, 33]])"
            ]
          },
          "metadata": {
            "tags": []
          },
          "execution_count": 32
        }
      ]
    },
    {
      "metadata": {
        "id": "CMD1nzg0TCgD",
        "colab_type": "text"
      },
      "cell_type": "markdown",
      "source": [
        "Оператор `*` выполняет поэлеметное умножение массивов. Для умножения по правилу перемножения матриц следует использовать функцию [np.dot](https://docs.scipy.org/doc/numpy/reference/generated/numpy.dot.html)\n",
        "\n",
        "Для траспонирования матриц можно использовать `ndarray.T` (пример: `a.T`) или [np.transpose](https://docs.scipy.org/doc/numpy/reference/generated/numpy.ndarray.transpose.html)\n",
        "\n",
        "Так же в NumPy реализованно много полезных операций для работы с массивами:\n",
        "- [np.min](https://docs.scipy.org/doc/numpy/reference/generated/numpy.ndarray.min.html),\n",
        "- [np.max](https://docs.scipy.org/doc/numpy/reference/generated/numpy.ndarray.max.html),\n",
        "- [np.sum](https://docs.scipy.org/doc/numpy/reference/generated/numpy.sum.html),\n",
        "- [np.mean](https://docs.scipy.org/doc/numpy/reference/generated/numpy.mean.html)\n",
        "- ...\n",
        "\n",
        "**Замечание:** многие функции имеют параметр **axis**, который указывает по какому измерению производить данную операцию. По умолчанию операция производится по всем значениям массива\n",
        "\n",
        "Например,"
      ]
    },
    {
      "metadata": {
        "id": "IS-CYD1CTCgD",
        "colab_type": "code",
        "colab": {},
        "outputId": "4dec7914-7181-4e99-9854-c309393ad4a9"
      },
      "cell_type": "code",
      "source": [
        "a = [[1, 2, 3],\n",
        "    [20, 40, 60],\n",
        "    [300, 600, 900]\n",
        "]\n",
        "\n",
        "\n",
        "print('Среднее всех значений: {}'.format(np.mean(a)))\n",
        "print('Среднее значение по строкам: {}'.format(np.mean(a, axis=0)))\n",
        "print('Среднее значение по столбцам: {}'.format(np.mean(a, axis=1)))"
      ],
      "execution_count": 0,
      "outputs": [
        {
          "output_type": "stream",
          "text": [
            "Среднее всех значений: 214.0\n",
            "Среднее значение по строкам: [107. 214. 321.]\n",
            "Среднее значение по столбцам: [  2.  40. 600.]\n"
          ],
          "name": "stdout"
        }
      ]
    },
    {
      "metadata": {
        "id": "P8KnhrTFTCgG",
        "colab_type": "text"
      },
      "cell_type": "markdown",
      "source": [
        "### Конкатенация многомерных массивов\n",
        "\n",
        "Конкатенировать несколько массивом можно с помощью функций [**np.concatenate, np.hstack, np.vstack**](https://stackoverflow.com/questions/33356442/when-should-i-use-hstack-vstack-vs-append-vs-concatenate-vs-column-stack)"
      ]
    },
    {
      "metadata": {
        "id": "y_v99YBGTCgG",
        "colab_type": "code",
        "colab": {}
      },
      "cell_type": "code",
      "source": [
        "a = [[1, 2, 3],\n",
        "    [20, 40, 60],\n",
        "    [300, 600, 900]]\n",
        "\n",
        "b = [[-1, -2, -3],\n",
        "    [-20, -40, -60],\n",
        "    [-300, -600, -900]]"
      ],
      "execution_count": 0,
      "outputs": []
    },
    {
      "metadata": {
        "id": "sDe3Qdb9TCgH",
        "colab_type": "code",
        "colab": {},
        "outputId": "c2dc6b70-3f64-4659-fc05-5969614b892f"
      },
      "cell_type": "code",
      "source": [
        "np.hstack([a, b])"
      ],
      "execution_count": 0,
      "outputs": [
        {
          "output_type": "execute_result",
          "data": {
            "text/plain": [
              "array([[   1,    2,    3,   -1,   -2,   -3],\n",
              "       [  20,   40,   60,  -20,  -40,  -60],\n",
              "       [ 300,  600,  900, -300, -600, -900]])"
            ]
          },
          "metadata": {
            "tags": []
          },
          "execution_count": 35
        }
      ]
    },
    {
      "metadata": {
        "id": "FLZISay5TCgJ",
        "colab_type": "code",
        "colab": {},
        "outputId": "9c8fadf7-b749-4a82-ab1a-fb62257b9471"
      },
      "cell_type": "code",
      "source": [
        "np.vstack([a, b])"
      ],
      "execution_count": 0,
      "outputs": [
        {
          "output_type": "execute_result",
          "data": {
            "text/plain": [
              "array([[   1,    2,    3],\n",
              "       [  20,   40,   60],\n",
              "       [ 300,  600,  900],\n",
              "       [  -1,   -2,   -3],\n",
              "       [ -20,  -40,  -60],\n",
              "       [-300, -600, -900]])"
            ]
          },
          "metadata": {
            "tags": []
          },
          "execution_count": 36
        }
      ]
    },
    {
      "metadata": {
        "id": "loDG2FXqTCgL",
        "colab_type": "text"
      },
      "cell_type": "markdown",
      "source": [
        "## [Matplotlib](https://matplotlib.org/)"
      ]
    },
    {
      "metadata": {
        "id": "8_UZ78YmTCgM",
        "colab_type": "code",
        "colab": {}
      },
      "cell_type": "code",
      "source": [
        "import matplotlib.pylab as plt"
      ],
      "execution_count": 0,
      "outputs": []
    },
    {
      "metadata": {
        "id": "nvoek1vmTCgQ",
        "colab_type": "code",
        "colab": {},
        "outputId": "0f66d5d6-0ece-4e39-bdfa-dde5b3e195e8"
      },
      "cell_type": "code",
      "source": [
        "x = np.linspace(-10, 10, 1001)\n",
        "y = np.cos(x)\n",
        "\n",
        "plt.figure(figsize=(10, 5))\n",
        "plt.title('cos')\n",
        "plt.plot(x, y, color='blue')\n",
        "plt.xlabel('X')\n",
        "plt.ylabel('cos')\n",
        "plt.show()"
      ],
      "execution_count": 0,
      "outputs": [
        {
          "output_type": "display_data",
          "data": {
            "image/png": "[encoded data removed]",
            "text/plain": [
              "<Figure size 720x360 with 1 Axes>"
            ]
          },
          "metadata": {
            "tags": [],
            "needs_background": "light"
          }
        }
      ]
    },
    {
      "metadata": {
        "id": "TKOfrT3aTCgd",
        "colab_type": "text"
      },
      "cell_type": "markdown",
      "source": [
        "Два графика вместе"
      ]
    },
    {
      "metadata": {
        "id": "D0CK4bJFTCge",
        "colab_type": "code",
        "colab": {},
        "outputId": "3bbab430-625d-4610-f0b3-3a1d05efc6cb"
      },
      "cell_type": "code",
      "source": [
        "x = np.linspace(-1, 10, 1001)\n",
        "y1 = 2 ** x\n",
        "y2 = np.exp(x)\n",
        "\n",
        "plt.figure(figsize=(10, 5))\n",
        "plt.title('Graphs')\n",
        "plt.plot(x, y1, color='blue', label='2**x')\n",
        "plt.plot(x, y2, color='lime', label='exp(x)')\n",
        "\n",
        "plt.legend(loc='upper left')\n",
        "plt.xlabel('x')\n",
        "plt.ylabel('y')\n",
        "plt.show()"
      ],
      "execution_count": 0,
      "outputs": [
        {
          "output_type": "display_data",
          "data": {
            "image/png": "[encoded data removed]",
            "text/plain": [
              "<Figure size 720x360 with 1 Axes>"
            ]
          },
          "metadata": {
            "tags": [],
            "needs_background": "light"
          }
        }
      ]
    },
    {
      "metadata": {
        "id": "BPWUsGTzTCgf",
        "colab_type": "text"
      },
      "cell_type": "markdown",
      "source": [
        "`subplotes`"
      ]
    },
    {
      "metadata": {
        "id": "XjQmJmUkTCgf",
        "colab_type": "code",
        "colab": {},
        "outputId": "d53db620-3b32-486c-8536-0a81aa5c9392"
      },
      "cell_type": "code",
      "source": [
        "plt.figure(figsize=(12, 4))\n",
        "\n",
        "plt.subplot(121)\n",
        "plt.title('sin')\n",
        "plt.plot(x, y1, color='darkgreen')\n",
        "plt.xlabel('x')\n",
        "plt.ylabel('y')\n",
        "\n",
        "plt.subplot(122)\n",
        "plt.title('cos')\n",
        "plt.plot(x, y2, color='orange')\n",
        "plt.xlabel('x')\n",
        "\n",
        "plt.show()"
      ],
      "execution_count": 0,
      "outputs": [
        {
          "output_type": "display_data",
          "data": {
            "image/png": "[encoded data removed]",
            "text/plain": [
              "<Figure size 864x288 with 2 Axes>"
            ]
          },
          "metadata": {
            "tags": [],
            "needs_background": "light"
          }
        }
      ]
    },
    {
      "metadata": {
        "id": "D_9O_Vl3TCgh",
        "colab_type": "code",
        "colab": {},
        "outputId": "ed70a2b3-f62a-4812-feaa-66e1a361d27c"
      },
      "cell_type": "code",
      "source": [
        "x1 = np.random.rand(1000)\n",
        "x2 = np.random.rand(1000) * 0.3\n",
        "\n",
        "plt.figure(figsize=(10, 5))\n",
        "for x, label, color in zip([x1, x2], ['x1', 'x2'], ['lime', 'purple']):\n",
        "    plt.hist(x, bins=20, color=color, label=label)\n",
        "plt.xlabel('hist')\n",
        "plt.ylabel('count')\n",
        "plt.legend()\n",
        "plt.show()"
      ],
      "execution_count": 0,
      "outputs": [
        {
          "output_type": "display_data",
          "data": {
            "image/png": "[encoded data removed]",
            "text/plain": [
              "<Figure size 720x360 with 1 Axes>"
            ]
          },
          "metadata": {
            "tags": [],
            "needs_background": "light"
          }
        }
      ]
    },
    {
      "metadata": {
        "id": "5feLurkYTCgi",
        "colab_type": "code",
        "colab": {},
        "outputId": "2c216f1e-e84b-4f27-c818-3a78bdac955f"
      },
      "cell_type": "code",
      "source": [
        "plt.figure(figsize=(5, 5))\n",
        "plt.scatter(x1, x2, color='black')\n",
        "plt.xlabel('x1')\n",
        "plt.ylabel('x2')\n",
        "plt.show()"
      ],
      "execution_count": 0,
      "outputs": [
        {
          "output_type": "display_data",
          "data": {
            "image/png": "[encoded data removed]",
            "text/plain": [
              "<Figure size 360x360 with 1 Axes>"
            ]
          },
          "metadata": {
            "tags": [],
            "needs_background": "light"
          }
        }
      ]
    },
    {
      "metadata": {
        "id": "0EbjVZKETCgj",
        "colab_type": "code",
        "colab": {}
      },
      "cell_type": "code",
      "source": [
        ""
      ],
      "execution_count": 0,
      "outputs": []
    }
  ]
}