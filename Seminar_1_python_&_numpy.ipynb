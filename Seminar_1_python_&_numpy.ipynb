{
  "nbformat": 4,
  "nbformat_minor": 0,
  "metadata": {
    "colab": {
      "name": "Seminar 1 - python & numpy",
      "version": "0.3.2",
      "provenance": [],
      "collapsed_sections": []
    },
    "kernelspec": {
      "name": "python3",
      "display_name": "Python 3"
    }
  },
  "cells": [
    {
      "metadata": {
        "id": "S5T2mEB-ZvF-",
        "colab_type": "text"
      },
      "cell_type": "markdown",
      "source": [
        "# Массивы"
      ]
    },
    {
      "metadata": {
        "id": "s59N8EYR_9bO",
        "colab_type": "code",
        "colab": {}
      },
      "cell_type": "code",
      "source": [
        "import numpy"
      ],
      "execution_count": 0,
      "outputs": []
    },
    {
      "metadata": {
        "id": "jY0A5RyoAAjw",
        "colab_type": "code",
        "colab": {}
      },
      "cell_type": "code",
      "source": [
        "a = numpy.zeros((2, 3), dtype=numpy.float32)  # ничего не вывело"
      ],
      "execution_count": 0,
      "outputs": []
    },
    {
      "metadata": {
        "id": "geYTJI96APBa",
        "colab_type": "code",
        "outputId": "3fc9de03-0c2f-4f7e-f839-162d0f2304c3",
        "colab": {
          "base_uri": "https://localhost:8080/",
          "height": 51
        }
      },
      "cell_type": "code",
      "source": [
        "a  # выведет а, по оси Y левая координата (внешняя), по оси X правая (внутренняя) "
      ],
      "execution_count": 0,
      "outputs": [
        {
          "output_type": "execute_result",
          "data": {
            "text/plain": [
              "array([[0., 0., 0.],\n",
              "       [0., 0., 0.]], dtype=float32)"
            ]
          },
          "metadata": {
            "tags": []
          },
          "execution_count": 4
        }
      ]
    },
    {
      "metadata": {
        "id": "k87_0_pAAP9N",
        "colab_type": "code",
        "colab": {}
      },
      "cell_type": "code",
      "source": [
        "a;  # не выведет а"
      ],
      "execution_count": 0,
      "outputs": []
    },
    {
      "metadata": {
        "id": "69_lVpi5HtQ5",
        "colab_type": "code",
        "outputId": "f494f235-d3b5-4190-b068-ffa06b72025b",
        "colab": {
          "base_uri": "https://localhost:8080/",
          "height": 34
        }
      },
      "cell_type": "code",
      "source": [
        "type(a)"
      ],
      "execution_count": 0,
      "outputs": [
        {
          "output_type": "execute_result",
          "data": {
            "text/plain": [
              "numpy.ndarray"
            ]
          },
          "metadata": {
            "tags": []
          },
          "execution_count": 6
        }
      ]
    },
    {
      "metadata": {
        "id": "6qFgWZSIIbHC",
        "colab_type": "code",
        "outputId": "ca5926de-3e6a-4180-ca94-a96cf67593fa",
        "colab": {
          "base_uri": "https://localhost:8080/",
          "height": 34
        }
      },
      "cell_type": "code",
      "source": [
        "a.__class__"
      ],
      "execution_count": 0,
      "outputs": [
        {
          "output_type": "execute_result",
          "data": {
            "text/plain": [
              "numpy.ndarray"
            ]
          },
          "metadata": {
            "tags": []
          },
          "execution_count": 7
        }
      ]
    },
    {
      "metadata": {
        "id": "4RUgwQgdAR0b",
        "colab_type": "code",
        "outputId": "2cec4da8-3770-4472-e1bb-8ddabc5fea2c",
        "colab": {
          "base_uri": "https://localhost:8080/",
          "height": 136
        }
      },
      "cell_type": "code",
      "source": [
        "a = numpy.zeros((2, 3, 4), dtype=numpy.float32); a  # выведет новый а, по оси X правая координата, по оси Y -- внешние координаты"
      ],
      "execution_count": 0,
      "outputs": [
        {
          "output_type": "execute_result",
          "data": {
            "text/plain": [
              "array([[[0., 0., 0., 0.],\n",
              "        [0., 0., 0., 0.],\n",
              "        [0., 0., 0., 0.]],\n",
              "\n",
              "       [[0., 0., 0., 0.],\n",
              "        [0., 0., 0., 0.],\n",
              "        [0., 0., 0., 0.]]], dtype=float32)"
            ]
          },
          "metadata": {
            "tags": []
          },
          "execution_count": 8
        }
      ]
    },
    {
      "metadata": {
        "id": "5L3fS2jPAVFY",
        "colab_type": "code",
        "outputId": "beafefda-962f-4186-b36e-695120b947fd",
        "colab": {
          "base_uri": "https://localhost:8080/",
          "height": 255
        }
      },
      "cell_type": "code",
      "source": [
        "a += 1; display(a); a *=2; display(a);  # сложение со скаляром, умножение на скаляр; display -- вывод с помощью jupyter (colab)"
      ],
      "execution_count": 0,
      "outputs": [
        {
          "output_type": "display_data",
          "data": {
            "text/plain": [
              "array([[[1., 1., 1., 1.],\n",
              "        [1., 1., 1., 1.],\n",
              "        [1., 1., 1., 1.]],\n",
              "\n",
              "       [[1., 1., 1., 1.],\n",
              "        [1., 1., 1., 1.],\n",
              "        [1., 1., 1., 1.]]], dtype=float32)"
            ]
          },
          "metadata": {
            "tags": []
          }
        },
        {
          "output_type": "display_data",
          "data": {
            "text/plain": [
              "array([[[2., 2., 2., 2.],\n",
              "        [2., 2., 2., 2.],\n",
              "        [2., 2., 2., 2.]],\n",
              "\n",
              "       [[2., 2., 2., 2.],\n",
              "        [2., 2., 2., 2.],\n",
              "        [2., 2., 2., 2.]]], dtype=float32)"
            ]
          },
          "metadata": {
            "tags": []
          }
        }
      ]
    },
    {
      "metadata": {
        "id": "0z5eIC8NC8bn",
        "colab_type": "code",
        "colab": {}
      },
      "cell_type": "code",
      "source": [
        "ones = lambda *shape: numpy.ones(shape, dtype=numpy.float32)"
      ],
      "execution_count": 0,
      "outputs": []
    },
    {
      "metadata": {
        "id": "7-tuzZB_qQZR",
        "colab_type": "code",
        "outputId": "534ac8ff-f235-4933-9ea5-28128b16e278",
        "colab": {
          "base_uri": "https://localhost:8080/",
          "height": 34
        }
      },
      "cell_type": "code",
      "source": [
        "ones(0,0)"
      ],
      "execution_count": 0,
      "outputs": [
        {
          "output_type": "execute_result",
          "data": {
            "text/plain": [
              "array([], shape=(0, 0), dtype=float32)"
            ]
          },
          "metadata": {
            "tags": []
          },
          "execution_count": 11
        }
      ]
    },
    {
      "metadata": {
        "id": "DJHEVqDgZzDz",
        "colab_type": "text"
      },
      "cell_type": "markdown",
      "source": [
        "# Задача"
      ]
    },
    {
      "metadata": {
        "id": "6I1Rg6xyAfyc",
        "colab_type": "code",
        "outputId": "d628a10f-9fe0-4c03-d5ea-6944b7d48b88",
        "colab": {
          "base_uri": "https://localhost:8080/",
          "height": 289
        }
      },
      "cell_type": "code",
      "source": [
        "\"\"\"\n",
        "Задача: \n",
        "вывести красиво операцию A + B = C на экран\n",
        "\"\"\"\n",
        "my_input = [ones(2, 3), '+', ones(2, 3), '=', ones(2,3)*2]\n",
        "print(my_input)\n",
        "print(*my_input)\n",
        "display(*my_input)"
      ],
      "execution_count": 0,
      "outputs": [
        {
          "output_type": "stream",
          "text": [
            "[array([[1., 1., 1.],\n",
            "       [1., 1., 1.]], dtype=float32), '+', array([[1., 1., 1.],\n",
            "       [1., 1., 1.]], dtype=float32), '=', array([[2., 2., 2.],\n",
            "       [2., 2., 2.]], dtype=float32)]\n",
            "[[1. 1. 1.]\n",
            " [1. 1. 1.]] + [[1. 1. 1.]\n",
            " [1. 1. 1.]] = [[2. 2. 2.]\n",
            " [2. 2. 2.]]\n"
          ],
          "name": "stdout"
        },
        {
          "output_type": "display_data",
          "data": {
            "text/plain": [
              "array([[1., 1., 1.],\n",
              "       [1., 1., 1.]], dtype=float32)"
            ]
          },
          "metadata": {
            "tags": []
          }
        },
        {
          "output_type": "display_data",
          "data": {
            "text/plain": [
              "'+'"
            ]
          },
          "metadata": {
            "tags": []
          }
        },
        {
          "output_type": "display_data",
          "data": {
            "text/plain": [
              "array([[1., 1., 1.],\n",
              "       [1., 1., 1.]], dtype=float32)"
            ]
          },
          "metadata": {
            "tags": []
          }
        },
        {
          "output_type": "display_data",
          "data": {
            "text/plain": [
              "'='"
            ]
          },
          "metadata": {
            "tags": []
          }
        },
        {
          "output_type": "display_data",
          "data": {
            "text/plain": [
              "array([[2., 2., 2.],\n",
              "       [2., 2., 2.]], dtype=float32)"
            ]
          },
          "metadata": {
            "tags": []
          }
        }
      ]
    },
    {
      "metadata": {
        "id": "cbOUFzTcCv12",
        "colab_type": "code",
        "colab": {}
      },
      "cell_type": "code",
      "source": [
        "# пусть наша функция имеет такой формат:\n",
        "def pp(*lst):\n",
        "    pass\n",
        "pp(*my_input)"
      ],
      "execution_count": 0,
      "outputs": []
    },
    {
      "metadata": {
        "id": "ZUATzsgJEJYE",
        "colab_type": "code",
        "outputId": "60667ed6-ebe3-410e-f4bc-bd4677a0f51b",
        "colab": {
          "base_uri": "https://localhost:8080/",
          "height": 102
        }
      },
      "cell_type": "code",
      "source": [
        "lines = [repr(a).split('\\n') for a in my_input]; lines"
      ],
      "execution_count": 0,
      "outputs": [
        {
          "output_type": "execute_result",
          "data": {
            "text/plain": [
              "[['array([[1., 1., 1.],', '       [1., 1., 1.]], dtype=float32)'],\n",
              " [\"'+'\"],\n",
              " ['array([[1., 1., 1.],', '       [1., 1., 1.]], dtype=float32)'],\n",
              " [\"'='\"],\n",
              " ['array([[2., 2., 2.],', '       [2., 2., 2.]], dtype=float32)']]"
            ]
          },
          "metadata": {
            "tags": []
          },
          "execution_count": 14
        }
      ]
    },
    {
      "metadata": {
        "id": "W9FGnSspDegd",
        "colab_type": "code",
        "outputId": "2ef7c6bd-ebc3-4910-814f-af55690ef50d",
        "colab": {
          "base_uri": "https://localhost:8080/",
          "height": 102
        }
      },
      "cell_type": "code",
      "source": [
        "lines = [str(a).split('\\n') for a in my_input]; lines"
      ],
      "execution_count": 0,
      "outputs": [
        {
          "output_type": "execute_result",
          "data": {
            "text/plain": [
              "[['[[1. 1. 1.]', ' [1. 1. 1.]]'],\n",
              " ['+'],\n",
              " ['[[1. 1. 1.]', ' [1. 1. 1.]]'],\n",
              " ['='],\n",
              " ['[[2. 2. 2.]', ' [2. 2. 2.]]']]"
            ]
          },
          "metadata": {
            "tags": []
          },
          "execution_count": 15
        }
      ]
    },
    {
      "metadata": {
        "id": "yiBDcWHKD8Rw",
        "colab_type": "code",
        "outputId": "efaca12d-c8fb-4917-f966-4185b5880629",
        "colab": {
          "base_uri": "https://localhost:8080/",
          "height": 34
        }
      },
      "cell_type": "code",
      "source": [
        "max_lines = max([len(line) for line in lines])\n",
        "max_lines"
      ],
      "execution_count": 0,
      "outputs": [
        {
          "output_type": "execute_result",
          "data": {
            "text/plain": [
              "2"
            ]
          },
          "metadata": {
            "tags": []
          },
          "execution_count": 16
        }
      ]
    },
    {
      "metadata": {
        "colab_type": "code",
        "id": "G1WhRCxgNjl9",
        "outputId": "4803b723-bacc-4b53-f673-f31e5c4da65d",
        "colab": {
          "base_uri": "https://localhost:8080/",
          "height": 102
        }
      },
      "cell_type": "code",
      "source": [
        "lines = [line+['']*(max_lines-len(line)) for line in lines]; lines"
      ],
      "execution_count": 0,
      "outputs": [
        {
          "output_type": "execute_result",
          "data": {
            "text/plain": [
              "[['[[1. 1. 1.]', ' [1. 1. 1.]]'],\n",
              " ['+', ''],\n",
              " ['[[1. 1. 1.]', ' [1. 1. 1.]]'],\n",
              " ['=', ''],\n",
              " ['[[2. 2. 2.]', ' [2. 2. 2.]]']]"
            ]
          },
          "metadata": {
            "tags": []
          },
          "execution_count": 17
        }
      ]
    },
    {
      "metadata": {
        "id": "nOmfUeYUaS8U",
        "colab_type": "text"
      },
      "cell_type": "markdown",
      "source": [
        "### транспонирование, reshape, операция получения максимума"
      ]
    },
    {
      "metadata": {
        "id": "VfM5D9kMI3O_",
        "colab_type": "code",
        "outputId": "5dc77d79-01e2-47ae-8691-526e60978fb4",
        "colab": {
          "base_uri": "https://localhost:8080/",
          "height": 68
        }
      },
      "cell_type": "code",
      "source": [
        "lines_arr = numpy.array(lines); lines_arr.T"
      ],
      "execution_count": 0,
      "outputs": [
        {
          "output_type": "execute_result",
          "data": {
            "text/plain": [
              "array([['[[1. 1. 1.]', '+', '[[1. 1. 1.]', '=', '[[2. 2. 2.]'],\n",
              "       [' [1. 1. 1.]]', '', ' [1. 1. 1.]]', '', ' [2. 2. 2.]]']],\n",
              "      dtype='<U12')"
            ]
          },
          "metadata": {
            "tags": []
          },
          "execution_count": 18
        }
      ]
    },
    {
      "metadata": {
        "id": "hHqZMQZ-I9hi",
        "colab_type": "code",
        "outputId": "29bd7f9b-bc23-4ae5-b6f8-852076e899a8",
        "colab": {
          "base_uri": "https://localhost:8080/",
          "height": 34
        }
      },
      "cell_type": "code",
      "source": [
        "widths = [len(x) for x in lines]; display(widths)"
      ],
      "execution_count": 0,
      "outputs": [
        {
          "output_type": "display_data",
          "data": {
            "text/plain": [
              "[2, 2, 2, 2, 2]"
            ]
          },
          "metadata": {
            "tags": []
          }
        }
      ]
    },
    {
      "metadata": {
        "id": "adTwt4DKJbeV",
        "colab_type": "code",
        "outputId": "2358ea1b-6bde-4c63-a70d-d322bec41187",
        "colab": {
          "base_uri": "https://localhost:8080/",
          "height": 34
        }
      },
      "cell_type": "code",
      "source": [
        "lines_arr.shape; lines_arr.flatten().shape"
      ],
      "execution_count": 0,
      "outputs": [
        {
          "output_type": "execute_result",
          "data": {
            "text/plain": [
              "(10,)"
            ]
          },
          "metadata": {
            "tags": []
          },
          "execution_count": 20
        }
      ]
    },
    {
      "metadata": {
        "id": "90FIUhBsKZQF",
        "colab_type": "code",
        "outputId": "73525b15-1545-45e1-e31a-4197dd963754",
        "colab": {
          "base_uri": "https://localhost:8080/",
          "height": 119
        }
      },
      "cell_type": "code",
      "source": [
        "widths = numpy.array([len(x) for x in lines_arr.flatten()]); display(widths)\n",
        "widths = widths.reshape(len(lines_arr), -1); display(widths)"
      ],
      "execution_count": 0,
      "outputs": [
        {
          "output_type": "display_data",
          "data": {
            "text/plain": [
              "array([11, 12,  1,  0, 11, 12,  1,  0, 11, 12])"
            ]
          },
          "metadata": {
            "tags": []
          }
        },
        {
          "output_type": "display_data",
          "data": {
            "text/plain": [
              "array([[11, 12],\n",
              "       [ 1,  0],\n",
              "       [11, 12],\n",
              "       [ 1,  0],\n",
              "       [11, 12]])"
            ]
          },
          "metadata": {
            "tags": []
          }
        }
      ]
    },
    {
      "metadata": {
        "id": "WEZLTDTrN-pY",
        "colab_type": "code",
        "outputId": "f39a24fd-350d-4041-85f2-d5b40ec2cb53",
        "colab": {
          "base_uri": "https://localhost:8080/",
          "height": 102
        }
      },
      "cell_type": "code",
      "source": [
        "widths = widths.reshape(*lines_arr.shape); display(widths)"
      ],
      "execution_count": 0,
      "outputs": [
        {
          "output_type": "display_data",
          "data": {
            "text/plain": [
              "array([[11, 12],\n",
              "       [ 1,  0],\n",
              "       [11, 12],\n",
              "       [ 1,  0],\n",
              "       [11, 12]])"
            ]
          },
          "metadata": {
            "tags": []
          }
        }
      ]
    },
    {
      "metadata": {
        "id": "ye8MODh_KqTp",
        "colab_type": "code",
        "outputId": "371fa479-6175-4e69-eab6-26754737ff2f",
        "colab": {
          "base_uri": "https://localhost:8080/",
          "height": 34
        }
      },
      "cell_type": "code",
      "source": [
        "numpy.max(widths)"
      ],
      "execution_count": 0,
      "outputs": [
        {
          "output_type": "execute_result",
          "data": {
            "text/plain": [
              "12"
            ]
          },
          "metadata": {
            "tags": []
          },
          "execution_count": 23
        }
      ]
    },
    {
      "metadata": {
        "id": "3kHxU4NeMCs5",
        "colab_type": "code",
        "outputId": "867feee5-a8fe-4e9c-f33e-2eef4f1165be",
        "colab": {
          "base_uri": "https://localhost:8080/",
          "height": 102
        }
      },
      "cell_type": "code",
      "source": [
        "widths"
      ],
      "execution_count": 0,
      "outputs": [
        {
          "output_type": "execute_result",
          "data": {
            "text/plain": [
              "array([[11, 12],\n",
              "       [ 1,  0],\n",
              "       [11, 12],\n",
              "       [ 1,  0],\n",
              "       [11, 12]])"
            ]
          },
          "metadata": {
            "tags": []
          },
          "execution_count": 24
        }
      ]
    },
    {
      "metadata": {
        "id": "JKMecpu7MEBo",
        "colab_type": "code",
        "outputId": "6a62a4d2-197d-4ba2-8356-c34277791e4a",
        "colab": {
          "base_uri": "https://localhost:8080/",
          "height": 34
        }
      },
      "cell_type": "code",
      "source": [
        "widths.max()"
      ],
      "execution_count": 0,
      "outputs": [
        {
          "output_type": "execute_result",
          "data": {
            "text/plain": [
              "12"
            ]
          },
          "metadata": {
            "tags": []
          },
          "execution_count": 25
        }
      ]
    },
    {
      "metadata": {
        "id": "b-oaY66KMFdq",
        "colab_type": "code",
        "outputId": "9efe53e4-6925-4365-f6ba-c34fb0520d78",
        "colab": {
          "base_uri": "https://localhost:8080/",
          "height": 34
        }
      },
      "cell_type": "code",
      "source": [
        "widths.max(axis=1)  # складывает по внутренней оси, "
      ],
      "execution_count": 0,
      "outputs": [
        {
          "output_type": "execute_result",
          "data": {
            "text/plain": [
              "array([12,  1, 12,  1, 12])"
            ]
          },
          "metadata": {
            "tags": []
          },
          "execution_count": 26
        }
      ]
    },
    {
      "metadata": {
        "id": "ca2TQmYsMJiK",
        "colab_type": "code",
        "colab": {}
      },
      "cell_type": "code",
      "source": [
        "line_widths = widths.max(axis=1)"
      ],
      "execution_count": 0,
      "outputs": []
    },
    {
      "metadata": {
        "id": "ugJhTbxGaHla",
        "colab_type": "text"
      },
      "cell_type": "markdown",
      "source": [
        "### форматирование всё равно придётся делать поэлементно. зашли в тупик..."
      ]
    },
    {
      "metadata": {
        "id": "G3btWZgxSM3j",
        "colab_type": "code",
        "outputId": "d2460d7a-c651-47ff-97d9-edc1aaecdcaf",
        "colab": {
          "base_uri": "https://localhost:8080/",
          "height": 34
        }
      },
      "cell_type": "code",
      "source": [
        "lines = [str(a).split('\\n') for a in my_input]; lines\n",
        "max_lines = max([len(line) for line in lines])\n",
        "max_lines"
      ],
      "execution_count": 0,
      "outputs": [
        {
          "output_type": "execute_result",
          "data": {
            "text/plain": [
              "2"
            ]
          },
          "metadata": {
            "tags": []
          },
          "execution_count": 28
        }
      ]
    },
    {
      "metadata": {
        "id": "_hgrRixPSWMb",
        "colab_type": "code",
        "outputId": "e3f9da24-a24a-4660-d26a-9a5269639391",
        "colab": {
          "base_uri": "https://localhost:8080/",
          "height": 68
        }
      },
      "cell_type": "code",
      "source": [
        "def fmt_item(lines, max_lines=0):\n",
        "    max_width = max([len(line) for line in lines])\n",
        "    empty = ' '*max_width\n",
        "    lines = [line.ljust(max_width) for line in lines]\n",
        "    lines += [empty] * (max_lines - len(lines))\n",
        "    return lines    \n",
        "    \n",
        "results = fmt_item(str(numpy.arange(1, 5).reshape(2,-1)).split('\\n'), max_lines=3)\n",
        "print('\\n'.join(results))"
      ],
      "execution_count": 0,
      "outputs": [
        {
          "output_type": "stream",
          "text": [
            "[[1 2] \n",
            " [3 4]]\n",
            "       \n"
          ],
          "name": "stdout"
        }
      ]
    },
    {
      "metadata": {
        "id": "GTwQu-wR7qX5",
        "colab_type": "code",
        "colab": {}
      },
      "cell_type": "code",
      "source": [
        "# а что делать дальше, когда у нас есть такие массивы? \n",
        "# воспользуемся array().T"
      ],
      "execution_count": 0,
      "outputs": []
    },
    {
      "metadata": {
        "id": "_etjxroVTCtS",
        "colab_type": "code",
        "outputId": "63cbf167-ab6e-45c6-fb16-128a980d27cb",
        "colab": {
          "base_uri": "https://localhost:8080/",
          "height": 51
        }
      },
      "cell_type": "code",
      "source": [
        "def pp(*lst):\n",
        "    lines = [str(item).split('\\n') for item in lst]\n",
        "    max_lines = max([len(item) for item in lines])\n",
        "    lines = [fmt_item(item, max_lines=max_lines) for item in lines]\n",
        "    lines_t = numpy.array(lines).T\n",
        "    print('\\n'.join([' '.join(line) for line in lines_t]))\n",
        "    \n",
        "pp(*my_input)\n"
      ],
      "execution_count": 0,
      "outputs": [
        {
          "output_type": "stream",
          "text": [
            "[[1. 1. 1.]  + [[1. 1. 1.]  = [[2. 2. 2.] \n",
            " [1. 1. 1.]]    [1. 1. 1.]]    [2. 2. 2.]]\n"
          ],
          "name": "stdout"
        }
      ]
    },
    {
      "metadata": {
        "id": "aQ9AIQ9hZ_7O",
        "colab_type": "text"
      },
      "cell_type": "markdown",
      "source": [
        "### Попробуем нашу функцию:"
      ]
    },
    {
      "metadata": {
        "id": "yROkCSNbEMhs",
        "colab_type": "code",
        "outputId": "59c7ab18-1241-41ac-d3c5-0f013f7e946d",
        "colab": {
          "base_uri": "https://localhost:8080/",
          "height": 102
        }
      },
      "cell_type": "code",
      "source": [
        "A = numpy.arange(1, 11).reshape(5,2)\n",
        "B = numpy.linspace(10, 30, 10).reshape(5,2)\n",
        "R = A * B\n",
        "pp(A, '*', B, '=', R)"
      ],
      "execution_count": 0,
      "outputs": [
        {
          "output_type": "stream",
          "text": [
            "[[ 1  2]  * [[10.         12.22222222]  = [[ 10.          24.44444444] \n",
            " [ 3  4]     [14.44444444 16.66666667]     [ 43.33333333  66.66666667] \n",
            " [ 5  6]     [18.88888889 21.11111111]     [ 94.44444444 126.66666667] \n",
            " [ 7  8]     [23.33333333 25.55555556]     [163.33333333 204.44444444] \n",
            " [ 9 10]]    [27.77777778 30.        ]]    [250.         300.        ]]\n"
          ],
          "name": "stdout"
        }
      ]
    },
    {
      "metadata": {
        "id": "RD_lME-dDD6O",
        "colab_type": "code",
        "outputId": "8443fce1-1dbf-46a8-fa8d-c5d83f5994f8",
        "colab": {
          "base_uri": "https://localhost:8080/",
          "height": 51
        }
      },
      "cell_type": "code",
      "source": [
        "import operator\n",
        "#operator.add = lambda x, y: x + y\n",
        "\n",
        "def op(x, name, y, func):\n",
        "    r = func(x, y)\n",
        "    pp(x, name, y, '=', r)\n",
        "    \n",
        "op(numpy.array([[1,2],[3,4]]), '+', numpy.array([[5,6],[7,8]]), operator.add)"
      ],
      "execution_count": 0,
      "outputs": [
        {
          "output_type": "stream",
          "text": [
            "[[1 2]  + [[5 6]  = [[ 6  8] \n",
            " [3 4]]    [7 8]]    [10 12]]\n"
          ],
          "name": "stdout"
        }
      ]
    },
    {
      "metadata": {
        "id": "Jz93V8mSAoe2",
        "colab_type": "code",
        "outputId": "9552a94b-e482-4cf1-b4d4-c4ab1463e596",
        "colab": {
          "base_uri": "https://localhost:8080/",
          "height": 102
        }
      },
      "cell_type": "code",
      "source": [
        "# вспомним классы, оформим в виде класса\n",
        "class Op:\n",
        "    def __init__(self, name, func):\n",
        "        self.name = name\n",
        "        self.func = func\n",
        "    \n",
        "    def __call__(self, x, y):\n",
        "        r = self.func(x, y)\n",
        "        pp(x, self.name, y, '=', r)\n",
        "\n",
        "SSum = Op('+', lambda x, y: x + y)\n",
        "SMul = Op('*', lambda x, y: x * y)\n",
        "MMul = Op('@', lambda x, y: x @ y)  # python 3.5+ \n",
        "\n",
        "SMul(A, B)"
      ],
      "execution_count": 0,
      "outputs": [
        {
          "output_type": "stream",
          "text": [
            "[[ 1  2]  * [[10.         12.22222222]  = [[ 10.          24.44444444] \n",
            " [ 3  4]     [14.44444444 16.66666667]     [ 43.33333333  66.66666667] \n",
            " [ 5  6]     [18.88888889 21.11111111]     [ 94.44444444 126.66666667] \n",
            " [ 7  8]     [23.33333333 25.55555556]     [163.33333333 204.44444444] \n",
            " [ 9 10]]    [27.77777778 30.        ]]    [250.         300.        ]]\n"
          ],
          "name": "stdout"
        }
      ]
    },
    {
      "metadata": {
        "id": "v5SZCD5jCjOy",
        "colab_type": "code",
        "outputId": "c16935de-e267-4642-b4e9-5bc6a0057cc7",
        "colab": {
          "base_uri": "https://localhost:8080/",
          "height": 102
        }
      },
      "cell_type": "code",
      "source": [
        "MMul(A.T, B)"
      ],
      "execution_count": 0,
      "outputs": [
        {
          "output_type": "stream",
          "text": [
            "[[ 1  3  5  7  9]  @ [[10.         12.22222222]  = [[561.11111111 616.66666667] \n",
            " [ 2  4  6  8 10]]    [14.44444444 16.66666667]     [655.55555556 722.22222222]]\n",
            "                      [18.88888889 21.11111111]                                 \n",
            "                      [23.33333333 25.55555556]                                 \n",
            "                      [27.77777778 30.        ]]                                \n"
          ],
          "name": "stdout"
        }
      ]
    },
    {
      "metadata": {
        "id": "P8faD7ZcTAHJ",
        "colab_type": "code",
        "colab": {}
      },
      "cell_type": "code",
      "source": [
        ""
      ],
      "execution_count": 0,
      "outputs": []
    },
    {
      "metadata": {
        "id": "QxRiSVhsSjqt",
        "colab_type": "text"
      },
      "cell_type": "markdown",
      "source": [
        "# Простая индексация"
      ]
    },
    {
      "metadata": {
        "id": "LFCcP2gbEylq",
        "colab_type": "code",
        "outputId": "d207706f-c53a-49bc-ca80-3f7e027a67bf",
        "colab": {
          "base_uri": "https://localhost:8080/",
          "height": 34
        }
      },
      "cell_type": "code",
      "source": [
        "pp(B[0, :], B[-1,-2], B[-2:-1, 0])"
      ],
      "execution_count": 0,
      "outputs": [
        {
          "output_type": "stream",
          "text": [
            "[10.         12.22222222] 27.77777777777778 [23.33333333]\n"
          ],
          "name": "stdout"
        }
      ]
    },
    {
      "metadata": {
        "id": "kt4SvIJsRsAB",
        "colab_type": "text"
      },
      "cell_type": "markdown",
      "source": [
        "# Broadcasting и stack"
      ]
    },
    {
      "metadata": {
        "id": "QfWzE9HyFYS2",
        "colab_type": "code",
        "outputId": "3371b674-c46a-4c12-e4b8-a6440cd3b7c4",
        "colab": {
          "base_uri": "https://localhost:8080/",
          "height": 102
        }
      },
      "cell_type": "code",
      "source": [
        "SSum(A, B[0])  # что произойдёт? это преобразование называется broadcasting"
      ],
      "execution_count": 0,
      "outputs": [
        {
          "output_type": "stream",
          "text": [
            "[[ 1  2]  + [10.         12.22222222] = [[11.         14.22222222] \n",
            " [ 3  4]                                 [13.         16.22222222] \n",
            " [ 5  6]                                 [15.         18.22222222] \n",
            " [ 7  8]                                 [17.         20.22222222] \n",
            " [ 9 10]]                                [19.         22.22222222]]\n"
          ],
          "name": "stdout"
        }
      ]
    },
    {
      "metadata": {
        "id": "vp9dN7KhFfYq",
        "colab_type": "code",
        "outputId": "f3a489c5-fa23-4a76-e59b-fc7466696694",
        "colab": {
          "base_uri": "https://localhost:8080/",
          "height": 102
        }
      },
      "cell_type": "code",
      "source": [
        "SMul(A, B[0])  # смотрим ещё раз, на умножении"
      ],
      "execution_count": 0,
      "outputs": [
        {
          "output_type": "stream",
          "text": [
            "[[ 1  2]  * [10.         12.22222222] = [[ 10.          24.44444444] \n",
            " [ 3  4]                                 [ 30.          48.88888889] \n",
            " [ 5  6]                                 [ 50.          73.33333333] \n",
            " [ 7  8]                                 [ 70.          97.77777778] \n",
            " [ 9 10]]                                [ 90.         122.22222222]]\n"
          ],
          "name": "stdout"
        }
      ]
    },
    {
      "metadata": {
        "id": "UbGFHnJuFiYM",
        "colab_type": "code",
        "outputId": "af4772bc-be9e-4c1d-b83a-d06d4720af1e",
        "colab": {
          "base_uri": "https://localhost:8080/",
          "height": 102
        }
      },
      "cell_type": "code",
      "source": [
        "SMul(A, numpy.stack(list(B[0:1])*5))"
      ],
      "execution_count": 0,
      "outputs": [
        {
          "output_type": "stream",
          "text": [
            "[[ 1  2]  * [[10.         12.22222222]  = [[ 10.          24.44444444] \n",
            " [ 3  4]     [10.         12.22222222]     [ 30.          48.88888889] \n",
            " [ 5  6]     [10.         12.22222222]     [ 50.          73.33333333] \n",
            " [ 7  8]     [10.         12.22222222]     [ 70.          97.77777778] \n",
            " [ 9 10]]    [10.         12.22222222]]    [ 90.         122.22222222]]\n"
          ],
          "name": "stdout"
        }
      ]
    },
    {
      "metadata": {
        "id": "KJf6Qh6cRWzC",
        "colab_type": "text"
      },
      "cell_type": "markdown",
      "source": [
        "# Бинарные и логические операции с массивами"
      ]
    },
    {
      "metadata": {
        "id": "Okg0VT9ZF8gF",
        "colab_type": "code",
        "outputId": "69e779bc-0495-4240-cb0f-418ccd947c2f",
        "colab": {
          "base_uri": "https://localhost:8080/",
          "height": 102
        }
      },
      "cell_type": "code",
      "source": [
        "pp(A, A>3, B, B>=10.) # сравнение float -- дело неточное"
      ],
      "execution_count": 0,
      "outputs": [
        {
          "output_type": "stream",
          "text": [
            "[[ 1  2]  [[False False]  [[10.         12.22222222]  [[ True  True] \n",
            " [ 3  4]   [False  True]   [14.44444444 16.66666667]   [ True  True] \n",
            " [ 5  6]   [ True  True]   [18.88888889 21.11111111]   [ True  True] \n",
            " [ 7  8]   [ True  True]   [23.33333333 25.55555556]   [ True  True] \n",
            " [ 9 10]]  [ True  True]]  [27.77777778 30.        ]]  [ True  True]]\n"
          ],
          "name": "stdout"
        }
      ]
    },
    {
      "metadata": {
        "id": "HoNvY1sIt31t",
        "colab_type": "code",
        "outputId": "f92848b4-5499-46ac-e819-5f21a2574c55",
        "colab": {
          "base_uri": "https://localhost:8080/",
          "height": 34
        }
      },
      "cell_type": "code",
      "source": [
        "1<<23"
      ],
      "execution_count": 0,
      "outputs": [
        {
          "output_type": "execute_result",
          "data": {
            "text/plain": [
              "8388608"
            ]
          },
          "metadata": {
            "tags": []
          },
          "execution_count": 42
        }
      ]
    },
    {
      "metadata": {
        "id": "N4_gcEynOrV0",
        "colab_type": "text"
      },
      "cell_type": "markdown",
      "source": [
        "Float 32 format: ![alt text](https://upload.wikimedia.org/wikipedia/commons/thumb/d/d2/Float_example.svg/1180px-Float_example.svg.png) "
      ]
    },
    {
      "metadata": {
        "id": "vqjgnb3yGVM9",
        "colab_type": "code",
        "outputId": "2189358f-8357-4120-8288-06b318a3dce4",
        "colab": {
          "base_uri": "https://localhost:8080/",
          "height": 102
        }
      },
      "cell_type": "code",
      "source": [
        "pp(numpy.isclose(B, 10), (10 - 1e-7 <= B) & (B <= 10 + 1e-7))"
      ],
      "execution_count": 0,
      "outputs": [
        {
          "output_type": "stream",
          "text": [
            "[[ True False]  [[ True False] \n",
            " [False False]   [False False] \n",
            " [False False]   [False False] \n",
            " [False False]   [False False] \n",
            " [False False]]  [False False]]\n"
          ],
          "name": "stdout"
        }
      ]
    },
    {
      "metadata": {
        "id": "oPqy7M6nuCEB",
        "colab_type": "code",
        "colab": {}
      },
      "cell_type": "code",
      "source": [
        ""
      ],
      "execution_count": 0,
      "outputs": []
    },
    {
      "metadata": {
        "id": "S2tIrfYDRfgr",
        "colab_type": "code",
        "outputId": "757e3319-9760-442f-c6f9-aba5abfe73ea",
        "colab": {
          "base_uri": "https://localhost:8080/",
          "height": 34
        }
      },
      "cell_type": "code",
      "source": [
        "idx = numpy.isclose(B, 10) | numpy.isclose(B, 30)\n",
        "B[idx]"
      ],
      "execution_count": 0,
      "outputs": [
        {
          "output_type": "execute_result",
          "data": {
            "text/plain": [
              "array([10., 30.])"
            ]
          },
          "metadata": {
            "tags": []
          },
          "execution_count": 44
        }
      ]
    },
    {
      "metadata": {
        "id": "hPsC5EQBRgsM",
        "colab_type": "text"
      },
      "cell_type": "markdown",
      "source": [
        "# Индексация массивов"
      ]
    },
    {
      "metadata": {
        "id": "b4ajbqkvJZ7Q",
        "colab_type": "code",
        "outputId": "525bdf69-64e6-4517-c9ac-5babdb00c82b",
        "colab": {
          "base_uri": "https://localhost:8080/",
          "height": 153
        }
      },
      "cell_type": "code",
      "source": [
        "pp(B)\n",
        "pp(numpy.isclose(B[1:-1, 1:-1], 10))  # классическая индексация питона\n",
        "pp(numpy.isclose(B[0], 10))   # берём первую строку\n",
        "pp(numpy.isclose(B[:, 1], 10))   # берём второй столбец"
      ],
      "execution_count": 0,
      "outputs": [
        {
          "output_type": "stream",
          "text": [
            "[[10.         12.22222222] \n",
            " [14.44444444 16.66666667] \n",
            " [18.88888889 21.11111111] \n",
            " [23.33333333 25.55555556] \n",
            " [27.77777778 30.        ]]\n",
            "[]\n",
            "[ True False]\n",
            "[False False False False False]\n"
          ],
          "name": "stdout"
        }
      ]
    },
    {
      "metadata": {
        "id": "E6BHYI1qP2ZA",
        "colab_type": "text"
      },
      "cell_type": "markdown",
      "source": [
        "# Cлучайные значения"
      ]
    },
    {
      "metadata": {
        "id": "8JxM_NfYHIvb",
        "colab_type": "code",
        "outputId": "6fefa46e-0f8a-4b13-e890-a9a5c3f21281",
        "colab": {
          "base_uri": "https://localhost:8080/",
          "height": 51
        }
      },
      "cell_type": "code",
      "source": [
        "pp(numpy.random.uniform(0, 1), numpy.random.randn(2, 3), numpy.random.rand(2, 3))"
      ],
      "execution_count": 0,
      "outputs": [
        {
          "output_type": "stream",
          "text": [
            "0.6997004546080527 [[-0.87861221 -0.20696229 -1.87215272]  [[0.65061099 0.55821418 0.49484146] \n",
            "                    [ 1.61704181  2.09550386 -0.78617952]]  [0.0912924  0.53055307 0.55634938]]\n"
          ],
          "name": "stdout"
        }
      ]
    },
    {
      "metadata": {
        "id": "AFWlq4tVPVe0",
        "colab_type": "code",
        "outputId": "0840dd59-3683-4331-ec4b-b90ca1461162",
        "colab": {
          "base_uri": "https://localhost:8080/",
          "height": 51
        }
      },
      "cell_type": "code",
      "source": [
        "import random\n",
        "random.seed(10)\n",
        "numpy.random.seed(10)\n",
        "nr = numpy.random.uniform(0, 1)\n",
        "nr2 = numpy.random.uniform(0, 1)\n",
        "rr = random.uniform(0, 1)\n",
        "rr2 = random.uniform(0, 1)\n",
        "pp(rr, nr, rr2, nr2)\n",
        "\n",
        "random.seed(10)\n",
        "numpy.random.seed(10)\n",
        "rr = random.uniform(0, 1)\n",
        "nr = numpy.random.uniform(0, 1)\n",
        "rr2 = random.uniform(0, 1)\n",
        "nr2 = numpy.random.uniform(0, 1)\n",
        "pp(rr, nr, rr2, nr2)"
      ],
      "execution_count": 0,
      "outputs": [
        {
          "output_type": "stream",
          "text": [
            "0.5714025946899135 0.771320643266746 0.4288890546751146 0.0207519493594015\n",
            "0.5714025946899135 0.771320643266746 0.4288890546751146 0.0207519493594015\n"
          ],
          "name": "stdout"
        }
      ]
    },
    {
      "metadata": {
        "id": "G4VN9KlmU16k",
        "colab_type": "code",
        "outputId": "638555ba-b0e6-4827-da07-4e91fab182a9",
        "colab": {
          "base_uri": "https://localhost:8080/",
          "height": 347
        }
      },
      "cell_type": "code",
      "source": [
        "import matplotlib\n",
        "# значение по умолчанию в colab, но не в локальных ноутбуках\n",
        "matplotlib.rcParams['axes.grid'] = True\n",
        "\n",
        "import matplotlib.pyplot as plt\n",
        "# нарисуем график для 11 случайных нормально распределённых чисел.\n",
        "x = numpy.linspace(0, 10, 11)\n",
        "dots = numpy.random.randn(11)\n",
        "plt.plot(x, dots);"
      ],
      "execution_count": 0,
      "outputs": [
        {
          "output_type": "display_data",
          "data": {
            "image/png": "[encoded data removed]",
            "text/plain": [
              "<Figure size 576x396 with 1 Axes>"
            ]
          },
          "metadata": {
            "tags": []
          }
        }
      ]
    },
    {
      "metadata": {
        "id": "YG61yWFRQC4_",
        "colab_type": "code",
        "outputId": "a9253163-1c68-431e-862a-acc38e67203d",
        "colab": {
          "base_uri": "https://localhost:8080/",
          "height": 347
        }
      },
      "cell_type": "code",
      "source": [
        "import matplotlib\n",
        "matplotlib.rcParams['axes.grid'] = False  # убираем белую клетку (настройки colab)\n",
        "\n",
        "import matplotlib.pyplot as plt\n",
        "plt.plot(x, dots);  # рисуем линию ещё раз"
      ],
      "execution_count": 0,
      "outputs": [
        {
          "output_type": "display_data",
          "data": {
            "image/png": "[encoded data removed]",
            "text/plain": [
              "<Figure size 576x396 with 1 Axes>"
            ]
          },
          "metadata": {
            "tags": []
          }
        }
      ]
    },
    {
      "metadata": {
        "id": "jtANKp8mT2Va",
        "colab_type": "code",
        "outputId": "2968a906-dbd7-427f-9471-69d36bf8f3c5",
        "colab": {
          "base_uri": "https://localhost:8080/",
          "height": 347
        }
      },
      "cell_type": "code",
      "source": [
        "# если надо просто вывести точки, без линий между ними\n",
        "plt.scatter(x, dots);"
      ],
      "execution_count": 0,
      "outputs": [
        {
          "output_type": "display_data",
          "data": {
            "image/png": "[encoded data removed]",
            "text/plain": [
              "<Figure size 576x396 with 1 Axes>"
            ]
          },
          "metadata": {
            "tags": []
          }
        }
      ]
    },
    {
      "metadata": {
        "id": "TR1UodU-T_AI",
        "colab_type": "code",
        "outputId": "32ac8014-0704-43e3-fb89-3803a4f4dea2",
        "colab": {
          "base_uri": "https://localhost:8080/",
          "height": 182
        }
      },
      "cell_type": "code",
      "source": [
        "# выводим двумерный массив, используя цветовую схему 'hot'.\n",
        "# matplotlib автоматически определяет минимум и максимум\n",
        "# по нему настраивает цвета\n",
        "plt.imshow(numpy.arange(0, 120).reshape(6, 20), 'hot');"
      ],
      "execution_count": 0,
      "outputs": [
        {
          "output_type": "display_data",
          "data": {
            "image/png": "[encoded data removed]",
            "text/plain": [
              "<Figure size 576x396 with 1 Axes>"
            ]
          },
          "metadata": {
            "tags": []
          }
        }
      ]
    },
    {
      "metadata": {
        "id": "vu_xEninXHlS",
        "colab_type": "text"
      },
      "cell_type": "markdown",
      "source": [
        "# Строки и словари"
      ]
    },
    {
      "metadata": {
        "id": "BLk5yKFqUYtW",
        "colab_type": "code",
        "outputId": "acbd52c0-60b1-440d-c706-2ca555e8fa50",
        "colab": {
          "base_uri": "https://localhost:8080/",
          "height": 34
        }
      },
      "cell_type": "code",
      "source": [
        "# Задача: определить, какой символ встречается чаще всего в данном тексте,\n",
        "# не считая пробелов!\n",
        "a = \"Кот сидел на крыше тише мыши\"\n",
        "pp(set(list(a)))"
      ],
      "execution_count": 0,
      "outputs": [
        {
          "output_type": "stream",
          "text": [
            "{'К', 'е', 'к', 'с', 'о', 'д', 'р', 'ы', 'а', 'м', 'н', 'и', 'л', ' ', 'ш', 'т'}\n"
          ],
          "name": "stdout"
        }
      ]
    },
    {
      "metadata": {
        "id": "j_4zX9MPWtxE",
        "colab_type": "code",
        "outputId": "c9526655-eec9-4a94-afdd-9e309236a709",
        "colab": {
          "base_uri": "https://localhost:8080/",
          "height": 289
        }
      },
      "cell_type": "code",
      "source": [
        "from collections import Counter\n",
        "# приближённое решение.\n",
        "Counter(list(a)).most_common()\n",
        "# убрать пробел и будет то, что надо. попробуйте сами."
      ],
      "execution_count": 0,
      "outputs": [
        {
          "output_type": "execute_result",
          "data": {
            "text/plain": [
              "[(' ', 5),\n",
              " ('и', 3),\n",
              " ('е', 3),\n",
              " ('ш', 3),\n",
              " ('т', 2),\n",
              " ('ы', 2),\n",
              " ('К', 1),\n",
              " ('о', 1),\n",
              " ('с', 1),\n",
              " ('д', 1),\n",
              " ('л', 1),\n",
              " ('н', 1),\n",
              " ('а', 1),\n",
              " ('к', 1),\n",
              " ('р', 1),\n",
              " ('м', 1)]"
            ]
          },
          "metadata": {
            "tags": []
          },
          "execution_count": 54
        }
      ]
    },
    {
      "metadata": {
        "id": "MlIdvUxCXSjG",
        "colab_type": "code",
        "outputId": "7cc6a1ad-0c61-4656-8014-50f79cf2bfad",
        "colab": {
          "base_uri": "https://localhost:8080/",
          "height": 34
        }
      },
      "cell_type": "code",
      "source": [
        "# напишем вручную код аналогичный тому, что происходит внутри Counter\n",
        "counter = {}\n",
        "for ch in list(a.lower()):\n",
        "    if ch == ' ': continue\n",
        "    if ch in counter:\n",
        "        counter[ch] += 1\n",
        "    else:\n",
        "        counter[ch] = 1\n",
        "    \n",
        "pp(counter)"
      ],
      "execution_count": 0,
      "outputs": [
        {
          "output_type": "stream",
          "text": [
            "{'к': 2, 'о': 1, 'т': 2, 'с': 1, 'и': 3, 'д': 1, 'е': 3, 'л': 1, 'н': 1, 'а': 1, 'р': 1, 'ы': 2, 'ш': 3, 'м': 1}\n"
          ],
          "name": "stdout"
        }
      ]
    },
    {
      "metadata": {
        "id": "lQ5p5DaUYobm",
        "colab_type": "code",
        "outputId": "dfc4f3d3-b127-41a7-c113-dd3f4c67968a",
        "colab": {
          "base_uri": "https://localhost:8080/",
          "height": 34
        }
      },
      "cell_type": "code",
      "source": [
        "pp(type(ch))  # в питоне даже отдельные символы -- это строчки"
      ],
      "execution_count": 0,
      "outputs": [
        {
          "output_type": "stream",
          "text": [
            "<class 'str'>\n"
          ],
          "name": "stdout"
        }
      ]
    },
    {
      "metadata": {
        "id": "dEnQFr0HYq7B",
        "colab_type": "code",
        "outputId": "a0c459f0-352c-4ce5-e7e9-a710efb09c36",
        "colab": {
          "base_uri": "https://localhost:8080/",
          "height": 34
        }
      },
      "cell_type": "code",
      "source": [
        "max(counter.values())  # нашли максимум"
      ],
      "execution_count": 0,
      "outputs": [
        {
          "output_type": "execute_result",
          "data": {
            "text/plain": [
              "3"
            ]
          },
          "metadata": {
            "tags": []
          },
          "execution_count": 57
        }
      ]
    },
    {
      "metadata": {
        "id": "bPTUMoS9Y9B1",
        "colab_type": "code",
        "outputId": "63f16210-ad6e-43b3-df2d-980818c7e8d1",
        "colab": {
          "base_uri": "https://localhost:8080/",
          "height": 34
        }
      },
      "cell_type": "code",
      "source": [
        "# алгоритм для поиска максимума\n",
        "winner_ch = None\n",
        "winner_count = 0\n",
        "for ch, count in counter.items():\n",
        "  if count > winner_count:\n",
        "      winner_count = count\n",
        "      winner_ch = ch\n",
        "print(winner_ch, winner_count)  # и вот наш символ-победитель\n",
        "# имейте в виду, победителя на самом деле три.\n",
        "# исправьте код, чтобы вывести и второй и третий."
      ],
      "execution_count": 0,
      "outputs": [
        {
          "output_type": "stream",
          "text": [
            "и 3\n"
          ],
          "name": "stdout"
        }
      ]
    },
    {
      "metadata": {
        "id": "qIzVzUWIZOjR",
        "colab_type": "code",
        "colab": {}
      },
      "cell_type": "code",
      "source": [
        ""
      ],
      "execution_count": 0,
      "outputs": []
    }
  ]
}