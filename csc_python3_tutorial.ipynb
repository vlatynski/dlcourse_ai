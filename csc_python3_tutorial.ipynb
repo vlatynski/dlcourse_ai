{
  "nbformat": 4,
  "nbformat_minor": 0,
  "metadata": {
    "colab": {
      "name": "csc-python3-tutorial.ipynb",
      "version": "0.3.2",
      "provenance": []
    },
    "kernelspec": {
      "display_name": "Python 3",
      "language": "python",
      "name": "python3"
    }
  },
  "cells": [
    {
      "metadata": {
        "id": "_VOFjJZoTAXq",
        "colab_type": "text"
      },
      "cell_type": "markdown",
      "source": [
        "## Краткий туториал по Python 3"
      ]
    },
    {
      "metadata": {
        "id": "i7dVkZXUTAXs",
        "colab_type": "text"
      },
      "cell_type": "markdown",
      "source": [
        "Данное руководство ни в коем случае не предентует на полноту изложения\n",
        "\n",
        "На курсе мы используем `python 3.6+`\n",
        "\n",
        "Полезные ссылки:\n",
        "\n",
        "- Официальная документация Python 3.6: https://docs.python.org/3.6/\n",
        "- Официальное руководство с примерами: https://docs.python.org/3.6/tutorial/index.html\n",
        "\n",
        "- Официальная документация Python 3.7: https://docs.python.org/3.7/\n",
        "- Официальное руководство с примерами: https://docs.python.org/3.7/tutorial/index.html\n",
        "\n",
        "- Различия между Python2 и Python3 https://wiki.python.org/moin/Python2orPython3"
      ]
    },
    {
      "metadata": {
        "id": "c4duTE7HTAXv",
        "colab_type": "text"
      },
      "cell_type": "markdown",
      "source": [
        "### Установка пакетов\n",
        "\n",
        "**pip** - стандартный способ установки python пакетов"
      ]
    },
    {
      "metadata": {
        "id": "yAMnWeqhTAXx",
        "colab_type": "text"
      },
      "cell_type": "markdown",
      "source": [
        "```\n",
        "pip install numpy\n",
        "pip install numpy==1.16.1\n",
        "pip install git+https://github.com/username/repo.git\n",
        "pip install --user numpy\n",
        "pip install --upgrade numpy\n",
        "\n",
        "pip install -r requirements.txt\n",
        "pip freeze > requirements.txt\n",
        "\n",
        "pip uninstall numpy\n",
        "```"
      ]
    },
    {
      "metadata": {
        "id": "BYiOfFWzTAXz",
        "colab_type": "text"
      },
      "cell_type": "markdown",
      "source": [
        "**Пакет** - архив с необходимыми для локального использования файлами\n",
        "\n",
        "- актуальные форматы пакетов:\n",
        "    - wheel (уже собранные, требуется только положить в правильную папку)\n",
        "    - sdist (требует компиляции)\n",
        "- неактуальный:\n",
        "    - egg (бинарный)"
      ]
    },
    {
      "metadata": {
        "id": "cOqhTZ7uTAX1",
        "colab_type": "text"
      },
      "cell_type": "markdown",
      "source": [
        "### Виртуальное окружение\n",
        "\n",
        "- Что, если нужно использовать две разные версии одной и той же библиотеки?\n",
        "- Страшно что-то сломать при обновлении пакетов?\n",
        "- Недостаточно прав для установки пакетов?\n",
        "\n",
        "**Решение**: использовать виртуальное окружение"
      ]
    },
    {
      "metadata": {
        "id": "BFO4BpgdTAX2",
        "colab_type": "text"
      },
      "cell_type": "markdown",
      "source": [
        "Широко используются две реализации: [virtualenv](https://virtualenv.pypa.io/en/latest/) и [venv](https://docs.python.org/3/library/venv.html)\n",
        "\n",
        "`venv` поставляется с дистрибутивом Python 3.3+, `virtualenv` поддерживает Python 2.6+\n",
        "\n",
        "[обзор альтернативных решений](https://stackoverflow.com/questions/41573587/what-is-the-difference-between-venv-pyvenv-pyenv-virtualenv-virtualenvwrappe/41573588#41573588)"
      ]
    },
    {
      "metadata": {
        "id": "M5MItCqqTAX4",
        "colab_type": "text"
      },
      "cell_type": "markdown",
      "source": [
        "**Типовое использование**\n",
        "\n",
        "```\n",
        "# virtualenv\n",
        "virtualenv VENV_PATH\n",
        "source VENV_PATH/bin/activate\n",
        "```\n",
        "\n",
        "```\n",
        "# venv\n",
        "python3 -m venv VENV_PATH\n",
        "source VENV_PATH/bin/activate  # or . VENV_PATH/bin/activate\n",
        "```\n",
        "\n",
        "В текущей сессии команда python будет запускать интерпретатор из окружения и новые пакеты будут тоже устанавливаться в него\n",
        "\n",
        "Чтобы деактивировать:\n",
        "\n",
        "```\n",
        "deactivate\n",
        "```"
      ]
    },
    {
      "metadata": {
        "id": "rO0qO1-yTAX5",
        "colab_type": "text"
      },
      "cell_type": "markdown",
      "source": [
        "Ну и, конечно, всегда можно использовать [Anaconda](https://www.anaconda.com/) (но лучше привыкать к `venv`)"
      ]
    },
    {
      "metadata": {
        "id": "375ijeuZTAX6",
        "colab_type": "text"
      },
      "cell_type": "markdown",
      "source": [
        "### Python"
      ]
    },
    {
      "metadata": {
        "id": "0GhMpRaCTAX6",
        "colab_type": "text"
      },
      "cell_type": "markdown",
      "source": [
        "### Базовые типы данных и операции"
      ]
    },
    {
      "metadata": {
        "id": "9q8blh2jTAX7",
        "colab_type": "text"
      },
      "cell_type": "markdown",
      "source": [
        "**Арифметические**\n",
        "\n",
        "- int\n",
        "- float"
      ]
    },
    {
      "metadata": {
        "id": "TAmEUT42TAX8",
        "colab_type": "text"
      },
      "cell_type": "markdown",
      "source": [
        "В Python, кроме обычных для других языков арифметических операций, есть и необычные, например, возведение в степень"
      ]
    },
    {
      "metadata": {
        "id": "R7KsL-hqTAX9",
        "colab_type": "code",
        "colab": {},
        "outputId": "c9adc2f6-efc2-4cbe-f113-07de1c81e42c"
      },
      "cell_type": "code",
      "source": [
        "1 + 2 * (3 ** 2) / 7"
      ],
      "execution_count": 0,
      "outputs": [
        {
          "output_type": "execute_result",
          "data": {
            "text/plain": [
              "3.5714285714285716"
            ]
          },
          "metadata": {
            "tags": []
          },
          "execution_count": 1
        }
      ]
    },
    {
      "metadata": {
        "id": "Zk52yAVxTAYE",
        "colab_type": "code",
        "colab": {},
        "outputId": "05945de3-e0a1-4c52-ffbf-691e113b6f56"
      },
      "cell_type": "code",
      "source": [
        "(1 << 2) | (4 >> 2)"
      ],
      "execution_count": 0,
      "outputs": [
        {
          "output_type": "execute_result",
          "data": {
            "text/plain": [
              "5"
            ]
          },
          "metadata": {
            "tags": []
          },
          "execution_count": 2
        }
      ]
    },
    {
      "metadata": {
        "id": "mGY_YirsTAYI",
        "colab_type": "text"
      },
      "cell_type": "markdown",
      "source": [
        "В Python встроена длинная арифметика"
      ]
    },
    {
      "metadata": {
        "id": "v-vP8mA1TAYI",
        "colab_type": "code",
        "colab": {},
        "outputId": "58212d99-cfdb-47db-e023-2c9ab440b9c9"
      },
      "cell_type": "code",
      "source": [
        "print(2 ** 300, type(2 ** 300))"
      ],
      "execution_count": 0,
      "outputs": [
        {
          "output_type": "stream",
          "text": [
            "2037035976334486086268445688409378161051468393665936250636140449354381299763336706183397376 <class 'int'>\n"
          ],
          "name": "stdout"
        }
      ]
    },
    {
      "metadata": {
        "id": "lkmHZnKNTAYL",
        "colab_type": "text"
      },
      "cell_type": "markdown",
      "source": [
        "**Логический**\n",
        "\n",
        "- bool"
      ]
    },
    {
      "metadata": {
        "id": "H43qdqM1TAYL",
        "colab_type": "code",
        "colab": {},
        "outputId": "a980a7b7-fe5f-49b0-a965-ac9696ff497b"
      },
      "cell_type": "code",
      "source": [
        "print(True or False)\n",
        "\n",
        "print(not False or some_var) # lazy evaluation\n",
        "\n",
        "print(7 or True)"
      ],
      "execution_count": 0,
      "outputs": [
        {
          "output_type": "stream",
          "text": [
            "True\n",
            "True\n",
            "7\n"
          ],
          "name": "stdout"
        }
      ]
    },
    {
      "metadata": {
        "id": "x2HBHsmoTAYO",
        "colab_type": "text"
      },
      "cell_type": "markdown",
      "source": [
        "**None**"
      ]
    },
    {
      "metadata": {
        "id": "V46lDdWPTAYO",
        "colab_type": "code",
        "colab": {},
        "outputId": "c5642e3a-7931-4e26-ba11-7f61ad33e640"
      },
      "cell_type": "code",
      "source": [
        "a = None\n",
        "print(a, type(a))\n",
        "\n",
        "print(None == None)\n",
        "\n",
        "print(bool(None))"
      ],
      "execution_count": 0,
      "outputs": [
        {
          "output_type": "stream",
          "text": [
            "None <class 'NoneType'>\n",
            "True\n",
            "False\n"
          ],
          "name": "stdout"
        }
      ]
    },
    {
      "metadata": {
        "id": "7ci7ZNgRTAYZ",
        "colab_type": "text"
      },
      "cell_type": "markdown",
      "source": [
        "**Строки**\n",
        "\n",
        "В Python 3 все строки - unicode, в отличие от Python 2, где unicode был отдельным типом"
      ]
    },
    {
      "metadata": {
        "id": "dJLRHFLwTAYZ",
        "colab_type": "code",
        "colab": {},
        "outputId": "5a0d611e-878b-43d6-e379-bd55d34ecd8d"
      },
      "cell_type": "code",
      "source": [
        "s = 'Hello'\n",
        "print (s[len(s) - 4])"
      ],
      "execution_count": 0,
      "outputs": [
        {
          "output_type": "stream",
          "text": [
            "e\n"
          ],
          "name": "stdout"
        }
      ]
    },
    {
      "metadata": {
        "id": "jmLlK27ETAYb",
        "colab_type": "text"
      },
      "cell_type": "markdown",
      "source": [
        "Строки **неизменяемые**"
      ]
    },
    {
      "metadata": {
        "id": "AiGkVOGgTAYc",
        "colab_type": "code",
        "colab": {},
        "outputId": "0e6c0ab5-94e3-4636-da2d-3df0dce6396e"
      },
      "cell_type": "code",
      "source": [
        "s[0] = 'P'"
      ],
      "execution_count": 0,
      "outputs": [
        {
          "output_type": "error",
          "ename": "TypeError",
          "evalue": "'str' object does not support item assignment",
          "traceback": [
            "\u001b[1;31m---------------------------------------------------------------------------\u001b[0m",
            "\u001b[1;31mTypeError\u001b[0m                                 Traceback (most recent call last)",
            "\u001b[1;32m<ipython-input-7-414ffc780e5f>\u001b[0m in \u001b[0;36m<module>\u001b[1;34m()\u001b[0m\n\u001b[1;32m----> 1\u001b[1;33m \u001b[0ms\u001b[0m\u001b[1;33m[\u001b[0m\u001b[1;36m0\u001b[0m\u001b[1;33m]\u001b[0m \u001b[1;33m=\u001b[0m \u001b[1;34m'P'\u001b[0m\u001b[1;33m\u001b[0m\u001b[0m\n\u001b[0m",
            "\u001b[1;31mTypeError\u001b[0m: 'str' object does not support item assignment"
          ]
        }
      ]
    },
    {
      "metadata": {
        "id": "UsNuYOsVTAYe",
        "colab_type": "text"
      },
      "cell_type": "markdown",
      "source": [
        "Символ в строке можно изменить, например, так:"
      ]
    },
    {
      "metadata": {
        "id": "wn4qG2_bTAYe",
        "colab_type": "code",
        "colab": {},
        "outputId": "027ea649-ee45-4f8f-83b8-16bc555af25c"
      },
      "cell_type": "code",
      "source": [
        "s = 'tha text'\n",
        "s = s[:2] + 'e' + s[3:]\n",
        "print(s)"
      ],
      "execution_count": 0,
      "outputs": [
        {
          "output_type": "stream",
          "text": [
            "the text\n"
          ],
          "name": "stdout"
        }
      ]
    },
    {
      "metadata": {
        "id": "NBaBaNUXTAYg",
        "colab_type": "text"
      },
      "cell_type": "markdown",
      "source": [
        "Строки очень просто \"размножать\""
      ]
    },
    {
      "metadata": {
        "id": "5fHCJIk6TAYg",
        "colab_type": "code",
        "colab": {},
        "outputId": "269f4d87-6c97-427f-dc84-f935f55d4a51"
      },
      "cell_type": "code",
      "source": [
        "print('хрю ' * 17)"
      ],
      "execution_count": 0,
      "outputs": [
        {
          "output_type": "stream",
          "text": [
            "хрю хрю хрю хрю хрю хрю хрю хрю хрю хрю хрю хрю хрю хрю хрю хрю хрю \n"
          ],
          "name": "stdout"
        }
      ]
    },
    {
      "metadata": {
        "id": "UtWi6w7rTAYi",
        "colab_type": "text"
      },
      "cell_type": "markdown",
      "source": [
        "У строк есть много встроенных полезных функций, например, `strip`, `split`, `upper`, `lower` и т.д."
      ]
    },
    {
      "metadata": {
        "id": "39sqDhJUTAYj",
        "colab_type": "code",
        "colab": {},
        "outputId": "95e8b9b2-3057-41ab-84cf-218bf208df6d"
      },
      "cell_type": "code",
      "source": [
        "hi = 'HeLLo wOrld!'\n",
        "hi, hi.upper(), hi.lower()"
      ],
      "execution_count": 0,
      "outputs": [
        {
          "output_type": "execute_result",
          "data": {
            "text/plain": [
              "('HeLLo wOrld!', 'HELLO WORLD!', 'hello world!')"
            ]
          },
          "metadata": {
            "tags": []
          },
          "execution_count": 10
        }
      ]
    },
    {
      "metadata": {
        "id": "l9nmrWVgTAYk",
        "colab_type": "code",
        "colab": {},
        "outputId": "d9dace67-673a-4bc6-b973-b7b67d819d79"
      },
      "cell_type": "code",
      "source": [
        "s = \"\"\"                                 Multiline string\n",
        "          \n",
        "  \n",
        "\"\"\"\n",
        "print(s.strip())"
      ],
      "execution_count": 0,
      "outputs": [
        {
          "output_type": "stream",
          "text": [
            "Multiline string\n"
          ],
          "name": "stdout"
        }
      ]
    },
    {
      "metadata": {
        "id": "4MBKpeafTAYm",
        "colab_type": "code",
        "colab": {},
        "outputId": "a55b5ddf-4c46-42d2-b92f-84247ea572cf"
      },
      "cell_type": "code",
      "source": [
        "s = 'very long text'\n",
        "splitted = s.split(' ') \n",
        "print(splitted)\n",
        "print('_'.join(splitted))"
      ],
      "execution_count": 0,
      "outputs": [
        {
          "output_type": "stream",
          "text": [
            "['very', 'long', 'text']\n",
            "very_long_text\n"
          ],
          "name": "stdout"
        }
      ]
    },
    {
      "metadata": {
        "id": "CCPNMfCqTAYp",
        "colab_type": "text"
      },
      "cell_type": "markdown",
      "source": [
        "Множественное присваивание"
      ]
    },
    {
      "metadata": {
        "id": "P4V5TH-STAYq",
        "colab_type": "code",
        "colab": {},
        "outputId": "ebc2c46d-1247-4b6c-cf43-f5f6ff61fc51"
      },
      "cell_type": "code",
      "source": [
        "a = 10\n",
        "print(a)\n",
        "\n",
        "b, c = 3.14, 15\n",
        "print(b, c)\n",
        "print(type(a), type(b), type(c))\n",
        "\n",
        "b, c = c, b\n",
        "print(b, c)\n",
        "print(type(a), type(b), type(c))"
      ],
      "execution_count": 0,
      "outputs": [
        {
          "output_type": "stream",
          "text": [
            "10\n",
            "3.14 15\n",
            "<class 'int'> <class 'float'> <class 'int'>\n",
            "15 3.14\n",
            "<class 'int'> <class 'int'> <class 'float'>\n"
          ],
          "name": "stdout"
        }
      ]
    },
    {
      "metadata": {
        "id": "SmDb3QPiTAYs",
        "colab_type": "text"
      },
      "cell_type": "markdown",
      "source": [
        "**Неизменяемые (immutable) типы**\n",
        "\n",
        "`int, float, complex, bool, str, tuple, frozenset`\n",
        "\n",
        "При попытке совершить изменяющую операцию с неизменяемым объектом будет создана копия объекта (например, оператор `+=`) или будет выброшено искоючение (например, оператор `[]`)\n",
        "\n",
        "**Изменяемые (mutable) типы**\n",
        "\n",
        "Пример: `list, dict, set`\n",
        "\n",
        "\n",
        "**Создание и удаление**\n",
        "\n",
        "Два созданных отдельно `mutable` объекта будут гарантированно разными, для `immutable` объектов это верно не всегда\n",
        "\n",
        "Об удалении объектов позаботится garbage collector, но, при желании, можно использовать `del` и модуль `gc`"
      ]
    },
    {
      "metadata": {
        "id": "Of7_YRS2TAYs",
        "colab_type": "text"
      },
      "cell_type": "markdown",
      "source": [
        "### Управляющие конструкции"
      ]
    },
    {
      "metadata": {
        "id": "NXBdoT7nTAYt",
        "colab_type": "text"
      },
      "cell_type": "markdown",
      "source": [
        "Условный оператор if-elif-else. Все логические блоки выделяются отступами, по PEP 8 - 4 пробела"
      ]
    },
    {
      "metadata": {
        "id": "Hixpp-1nTAYt",
        "colab_type": "code",
        "colab": {},
        "outputId": "1f6aaad4-a15b-4c5c-dbe3-e33e16f6e9c4"
      },
      "cell_type": "code",
      "source": [
        "a = 2\n",
        "\n",
        "if a > 5:\n",
        "    print('> 5')\n",
        "elif a == 5:\n",
        "    print('5')\n",
        "elif a < 5:\n",
        "    print('< 5')\n",
        "else:\n",
        "    print('WTF?!')"
      ],
      "execution_count": 0,
      "outputs": [
        {
          "output_type": "stream",
          "text": [
            "< 5\n"
          ],
          "name": "stdout"
        }
      ]
    },
    {
      "metadata": {
        "id": "75TGOIsdTAYv",
        "colab_type": "text"
      },
      "cell_type": "markdown",
      "source": [
        "while с постусловием"
      ]
    },
    {
      "metadata": {
        "id": "9ScOPcU6TAYv",
        "colab_type": "code",
        "colab": {},
        "outputId": "78546e50-d4e6-485e-b0a5-71398a7fa7d8"
      },
      "cell_type": "code",
      "source": [
        "i = 0\n",
        "while i < 5:\n",
        "    print(i)\n",
        "    i += 1\n",
        "else:\n",
        "    print('End')"
      ],
      "execution_count": 0,
      "outputs": [
        {
          "output_type": "stream",
          "text": [
            "0\n",
            "1\n",
            "2\n",
            "3\n",
            "4\n",
            "End\n"
          ],
          "name": "stdout"
        }
      ]
    },
    {
      "metadata": {
        "id": "i8p3MIaMTAYx",
        "colab_type": "text"
      },
      "cell_type": "markdown",
      "source": [
        "Аналогично для for"
      ]
    },
    {
      "metadata": {
        "id": "WeL7ydQFTAYy",
        "colab_type": "code",
        "colab": {},
        "outputId": "9224b37e-b907-4d7f-d071-35a8648d8a89"
      },
      "cell_type": "code",
      "source": [
        "for i in range(5):\n",
        "    print(i)\n",
        "else:\n",
        "    print('End')"
      ],
      "execution_count": 0,
      "outputs": [
        {
          "output_type": "stream",
          "text": [
            "0\n",
            "1\n",
            "2\n",
            "3\n",
            "4\n",
            "End\n"
          ],
          "name": "stdout"
        }
      ]
    },
    {
      "metadata": {
        "id": "rTjgwrwUTAY0",
        "colab_type": "text"
      },
      "cell_type": "markdown",
      "source": [
        "При итерировании по списку лучше итерироваться по его содержимому, а не по индексу"
      ]
    },
    {
      "metadata": {
        "id": "wY87BWItTAY0",
        "colab_type": "code",
        "colab": {},
        "outputId": "46243b26-c5a4-4b09-8346-5438bf3ec4a7"
      },
      "cell_type": "code",
      "source": [
        "array = [1, 2, 3, 4, 5]\n",
        "for value in array:\n",
        "    print(value)"
      ],
      "execution_count": 0,
      "outputs": [
        {
          "output_type": "stream",
          "text": [
            "1\n",
            "2\n",
            "3\n",
            "4\n",
            "5\n"
          ],
          "name": "stdout"
        }
      ]
    },
    {
      "metadata": {
        "id": "xj7f8wUVTAY2",
        "colab_type": "text"
      },
      "cell_type": "markdown",
      "source": [
        "Для поиска элемента в массиве лучше использовать `in`, а не итерироваться по нему руками"
      ]
    },
    {
      "metadata": {
        "id": "9pFOYpk_TAY3",
        "colab_type": "code",
        "colab": {},
        "outputId": "5824b8c7-6f7a-4a53-ee21-0e4fb4f20fa1"
      },
      "cell_type": "code",
      "source": [
        "data = [1, 2, 3, 4, 5]\n",
        "element_to_find = 10\n",
        "if element_to_find in data:\n",
        "    print('Found!')\n",
        "else:\n",
        "    print('Not found!')"
      ],
      "execution_count": 0,
      "outputs": [
        {
          "output_type": "stream",
          "text": [
            "Not found!\n"
          ],
          "name": "stdout"
        }
      ]
    },
    {
      "metadata": {
        "id": "1gPMx8TdTAY4",
        "colab_type": "text"
      },
      "cell_type": "markdown",
      "source": [
        "### Тернарный оператор"
      ]
    },
    {
      "metadata": {
        "scrolled": false,
        "id": "S1XIDoV6TAY5",
        "colab_type": "code",
        "colab": {},
        "outputId": "318dd53c-d316-42ed-f69c-e78fd48e73fc"
      },
      "cell_type": "code",
      "source": [
        "b = 10\n",
        "a = b / 2 if b % 2 else b - 1\n",
        "\n",
        "print(a)"
      ],
      "execution_count": 0,
      "outputs": [
        {
          "output_type": "stream",
          "text": [
            "9\n"
          ],
          "name": "stdout"
        }
      ]
    },
    {
      "metadata": {
        "id": "lQI6pHq1TAY6",
        "colab_type": "text"
      },
      "cell_type": "markdown",
      "source": [
        "### Списки (list)"
      ]
    },
    {
      "metadata": {
        "id": "MeNpYkwvTAY7",
        "colab_type": "text"
      },
      "cell_type": "markdown",
      "source": [
        "`list` - аналог массивов в других языках\n",
        "\n",
        "Не стоит путать его со структурой данных (у структуры данных образение по индексу происходит за O(N), у питоновского `list` - O(1))\n",
        "\n",
        "Списки в Python могут содержать объекты разных типов"
      ]
    },
    {
      "metadata": {
        "id": "JE3rev0iTAY7",
        "colab_type": "code",
        "colab": {},
        "outputId": "1752146b-d12c-4163-939e-e277725a5b53"
      },
      "cell_type": "code",
      "source": [
        "print([0, 1, 2, 3, 4, 5])\n",
        "print(list(range(6)))"
      ],
      "execution_count": 0,
      "outputs": [
        {
          "output_type": "stream",
          "text": [
            "[0, 1, 2, 3, 4, 5]\n",
            "[0, 1, 2, 3, 4, 5]\n"
          ],
          "name": "stdout"
        }
      ]
    },
    {
      "metadata": {
        "id": "zWg5BdtUTAY9",
        "colab_type": "code",
        "colab": {},
        "outputId": "b960e7f2-ea21-4530-b4f9-6eebbcd93c1c"
      },
      "cell_type": "code",
      "source": [
        "a = []\n",
        "a.append(1)\n",
        "a += [2, 3]\n",
        "a.remove(2)\n",
        "print(a)"
      ],
      "execution_count": 0,
      "outputs": [
        {
          "output_type": "stream",
          "text": [
            "[1, 3]\n"
          ],
          "name": "stdout"
        }
      ]
    },
    {
      "metadata": {
        "id": "5HSMg9JiTAY-",
        "colab_type": "code",
        "colab": {},
        "outputId": "48853bf9-30ac-401e-f316-1e0f139022ec"
      },
      "cell_type": "code",
      "source": [
        "a = [1, 'str', 3, [1, 2, 3], []]\n",
        "\n",
        "a[0] = 4\n",
        "del a[1]\n",
        "a.insert(1, 'test')\n",
        "\n",
        "print(a)"
      ],
      "execution_count": 0,
      "outputs": [
        {
          "output_type": "stream",
          "text": [
            "[4, 'test', 3, [1, 2, 3], []]\n"
          ],
          "name": "stdout"
        }
      ]
    },
    {
      "metadata": {
        "id": "oD1IkaVtTAZA",
        "colab_type": "text"
      },
      "cell_type": "markdown",
      "source": [
        "Для индексации можно использовать срезы и отрицательные индексы:"
      ]
    },
    {
      "metadata": {
        "id": "YKT4HfhATAZA",
        "colab_type": "code",
        "colab": {},
        "outputId": "5ec9182c-9bad-4a11-b572-18a2b4ef03c0"
      },
      "cell_type": "code",
      "source": [
        "a = list(range(10))\n",
        "print(a)\n",
        "\n",
        "print(a[2:5])   # from 2 to 4\n",
        "print(a[:5])    # begin to 4\n",
        "print(a[:])     # from begin to end\n",
        "print(a[2:8:3]) # every third element from 2 to 7\n",
        "print(a[-1])    # first from the end (last)\n",
        "print(a[-5])    # fifth from the end (last)\n",
        "print(a[::-1])  # reverse list"
      ],
      "execution_count": 0,
      "outputs": [
        {
          "output_type": "stream",
          "text": [
            "[0, 1, 2, 3, 4, 5, 6, 7, 8, 9]\n",
            "[2, 3, 4]\n",
            "[0, 1, 2, 3, 4]\n",
            "[0, 1, 2, 3, 4, 5, 6, 7, 8, 9]\n",
            "[2, 5]\n",
            "9\n",
            "5\n",
            "[9, 8, 7, 6, 5, 4, 3, 2, 1, 0]\n"
          ],
          "name": "stdout"
        }
      ]
    },
    {
      "metadata": {
        "id": "WFSj536RTAZB",
        "colab_type": "text"
      },
      "cell_type": "markdown",
      "source": [
        "Сортировка"
      ]
    },
    {
      "metadata": {
        "id": "cS-P3cSuTAZC",
        "colab_type": "code",
        "colab": {},
        "outputId": "f38396c6-e33e-49e5-b33b-be89f77d1586"
      },
      "cell_type": "code",
      "source": [
        "a = list(range(10, 0, -1))\n",
        "print(a)\n",
        "\n",
        "b = sorted(a)\n",
        "print(a, b)\n",
        "\n",
        "b.sort(reverse=True)\n",
        "print(a, b)"
      ],
      "execution_count": 0,
      "outputs": [
        {
          "output_type": "stream",
          "text": [
            "[10, 9, 8, 7, 6, 5, 4, 3, 2, 1]\n",
            "[10, 9, 8, 7, 6, 5, 4, 3, 2, 1] [1, 2, 3, 4, 5, 6, 7, 8, 9, 10]\n",
            "[10, 9, 8, 7, 6, 5, 4, 3, 2, 1] [10, 9, 8, 7, 6, 5, 4, 3, 2, 1]\n"
          ],
          "name": "stdout"
        }
      ]
    },
    {
      "metadata": {
        "id": "1izpiWw2TAZD",
        "colab_type": "text"
      },
      "cell_type": "markdown",
      "source": [
        "### Кортежи (tuple)\n",
        "\n",
        "`tuple` - `immutable`"
      ]
    },
    {
      "metadata": {
        "id": "xQrkdIfzTAZE",
        "colab_type": "code",
        "colab": {},
        "outputId": "c3c68b4b-33a3-45c9-d32e-a9d6a721ac20"
      },
      "cell_type": "code",
      "source": [
        "a = (1, 2, 3)\n",
        "a[1] = 20"
      ],
      "execution_count": 0,
      "outputs": [
        {
          "output_type": "error",
          "ename": "TypeError",
          "evalue": "'tuple' object does not support item assignment",
          "traceback": [
            "\u001b[1;31m---------------------------------------------------------------------------\u001b[0m",
            "\u001b[1;31mTypeError\u001b[0m                                 Traceback (most recent call last)",
            "\u001b[1;32m<ipython-input-25-c6cfd63bf68d>\u001b[0m in \u001b[0;36m<module>\u001b[1;34m()\u001b[0m\n\u001b[0;32m      1\u001b[0m \u001b[0ma\u001b[0m \u001b[1;33m=\u001b[0m \u001b[1;33m(\u001b[0m\u001b[1;36m1\u001b[0m\u001b[1;33m,\u001b[0m \u001b[1;36m2\u001b[0m\u001b[1;33m,\u001b[0m \u001b[1;36m3\u001b[0m\u001b[1;33m)\u001b[0m\u001b[1;33m\u001b[0m\u001b[0m\n\u001b[1;32m----> 2\u001b[1;33m \u001b[0ma\u001b[0m\u001b[1;33m[\u001b[0m\u001b[1;36m1\u001b[0m\u001b[1;33m]\u001b[0m \u001b[1;33m=\u001b[0m \u001b[1;36m20\u001b[0m\u001b[1;33m\u001b[0m\u001b[0m\n\u001b[0m",
            "\u001b[1;31mTypeError\u001b[0m: 'tuple' object does not support item assignment"
          ]
        }
      ]
    },
    {
      "metadata": {
        "id": "Dpcdvrz-TAZF",
        "colab_type": "text"
      },
      "cell_type": "markdown",
      "source": [
        "Извлечение элементов из кортежей"
      ]
    },
    {
      "metadata": {
        "id": "htCctp-STAZG",
        "colab_type": "code",
        "colab": {},
        "outputId": "ac0a7f5e-670f-4501-8a48-b86aeb83b8c1"
      },
      "cell_type": "code",
      "source": [
        "first = ('first', 42)\n",
        "second = ('second', 7)\n",
        "third = ('third', 1337)\n",
        "data = [first, second, third]\n",
        "print(data)\n",
        "\n",
        "for name, value in data:\n",
        "    print(name + ' is ' + str(value))"
      ],
      "execution_count": 0,
      "outputs": [
        {
          "output_type": "stream",
          "text": [
            "[('first', 42), ('second', 7), ('third', 1337)]\n",
            "first is 42\n",
            "second is 7\n",
            "third is 1337\n"
          ],
          "name": "stdout"
        }
      ]
    },
    {
      "metadata": {
        "id": "yoGB60_RTAZH",
        "colab_type": "text"
      },
      "cell_type": "markdown",
      "source": [
        "### Множества (set)"
      ]
    },
    {
      "metadata": {
        "id": "2HPE8MVJTAZH",
        "colab_type": "text"
      },
      "cell_type": "markdown",
      "source": [
        "`set` может содержать в себе __только__ `immutable` объекты"
      ]
    },
    {
      "metadata": {
        "id": "kY02LNJOTAZH",
        "colab_type": "code",
        "colab": {},
        "outputId": "667edad1-bf2b-473f-ed78-bea35efe3ef5"
      },
      "cell_type": "code",
      "source": [
        "print({1, 2, 2, 1, 3})"
      ],
      "execution_count": 0,
      "outputs": [
        {
          "output_type": "stream",
          "text": [
            "{1, 2, 3}\n"
          ],
          "name": "stdout"
        }
      ]
    },
    {
      "metadata": {
        "id": "bFMFiemnTAZJ",
        "colab_type": "code",
        "colab": {},
        "outputId": "617c0e10-4771-454d-e210-e8d9c3d8a71d"
      },
      "cell_type": "code",
      "source": [
        "print({1, 2, 3, [4, 5]})"
      ],
      "execution_count": 0,
      "outputs": [
        {
          "output_type": "error",
          "ename": "TypeError",
          "evalue": "unhashable type: 'list'",
          "traceback": [
            "\u001b[1;31m---------------------------------------------------------------------------\u001b[0m",
            "\u001b[1;31mTypeError\u001b[0m                                 Traceback (most recent call last)",
            "\u001b[1;32m<ipython-input-28-cbcc8f9f6b74>\u001b[0m in \u001b[0;36m<module>\u001b[1;34m()\u001b[0m\n\u001b[1;32m----> 1\u001b[1;33m \u001b[0mprint\u001b[0m\u001b[1;33m(\u001b[0m\u001b[1;33m{\u001b[0m\u001b[1;36m1\u001b[0m\u001b[1;33m,\u001b[0m \u001b[1;36m2\u001b[0m\u001b[1;33m,\u001b[0m \u001b[1;36m3\u001b[0m\u001b[1;33m,\u001b[0m \u001b[1;33m[\u001b[0m\u001b[1;36m4\u001b[0m\u001b[1;33m,\u001b[0m \u001b[1;36m5\u001b[0m\u001b[1;33m]\u001b[0m\u001b[1;33m}\u001b[0m\u001b[1;33m)\u001b[0m\u001b[1;33m\u001b[0m\u001b[0m\n\u001b[0m",
            "\u001b[1;31mTypeError\u001b[0m: unhashable type: 'list'"
          ]
        }
      ]
    },
    {
      "metadata": {
        "id": "32RDwMB6TAZK",
        "colab_type": "text"
      },
      "cell_type": "markdown",
      "source": [
        "Операции над множествами"
      ]
    },
    {
      "metadata": {
        "id": "3fqRwn22TAZK",
        "colab_type": "code",
        "colab": {},
        "outputId": "7ff7fddb-b787-4a63-8e05-a88759618254"
      },
      "cell_type": "code",
      "source": [
        "a = {1, 2, 3}\n",
        "b = set([2, 3, 4])\n",
        "\n",
        "a.add(5)\n",
        "b.update({5, 6})\n",
        "a, b"
      ],
      "execution_count": 0,
      "outputs": [
        {
          "output_type": "execute_result",
          "data": {
            "text/plain": [
              "({1, 2, 3, 5}, {2, 3, 4, 5, 6})"
            ]
          },
          "metadata": {
            "tags": []
          },
          "execution_count": 29
        }
      ]
    },
    {
      "metadata": {
        "id": "m1tfRaLqTAZL",
        "colab_type": "code",
        "colab": {},
        "outputId": "fddee892-6da6-4ea2-8316-41864365b96a"
      },
      "cell_type": "code",
      "source": [
        "print (a - b)\n",
        "print (b - a)\n",
        "print (a | b)\n",
        "print (a & b)\n",
        "print (a < b)"
      ],
      "execution_count": 0,
      "outputs": [
        {
          "output_type": "stream",
          "text": [
            "{1}\n",
            "{4, 6}\n",
            "{1, 2, 3, 4, 5, 6}\n",
            "{2, 3, 5}\n",
            "False\n"
          ],
          "name": "stdout"
        }
      ]
    },
    {
      "metadata": {
        "id": "6si7220DTAZN",
        "colab_type": "code",
        "colab": {},
        "outputId": "4508f763-892c-483f-8f38-2db37988b438"
      },
      "cell_type": "code",
      "source": [
        "2 in a"
      ],
      "execution_count": 0,
      "outputs": [
        {
          "output_type": "execute_result",
          "data": {
            "text/plain": [
              "True"
            ]
          },
          "metadata": {
            "tags": []
          },
          "execution_count": 31
        }
      ]
    },
    {
      "metadata": {
        "id": "U9LE6MMjTAZO",
        "colab_type": "text"
      },
      "cell_type": "markdown",
      "source": [
        "### Словари (dict)\n",
        "\n",
        "Ключи должны быть `immutable`, а вот значения нет"
      ]
    },
    {
      "metadata": {
        "id": "TGkWQWxKTAZO",
        "colab_type": "code",
        "colab": {},
        "outputId": "d6abce3a-a817-4e98-9798-2e103d5629f4"
      },
      "cell_type": "code",
      "source": [
        "a = {None: 10, 'key': [1, 2, 3], (-1, 1): 0}\n",
        "a['key'][1] = 10\n",
        "\n",
        "print(a)"
      ],
      "execution_count": 0,
      "outputs": [
        {
          "output_type": "stream",
          "text": [
            "{None: 10, 'key': [1, 10, 3], (-1, 1): 0}\n"
          ],
          "name": "stdout"
        }
      ]
    },
    {
      "metadata": {
        "id": "hp3hHK0WTAZP",
        "colab_type": "text"
      },
      "cell_type": "markdown",
      "source": [
        "**Замечение:** пустые фигурные скобки - пустой `dict`, а не `set`"
      ]
    },
    {
      "metadata": {
        "id": "vanm0YjQTAZQ",
        "colab_type": "code",
        "colab": {},
        "outputId": "22a7a32a-7a73-4013-daf7-645753d204c4"
      },
      "cell_type": "code",
      "source": [
        "print({} == set())\n",
        "print({} == dict())"
      ],
      "execution_count": 0,
      "outputs": [
        {
          "output_type": "stream",
          "text": [
            "False\n",
            "True\n"
          ],
          "name": "stdout"
        }
      ]
    },
    {
      "metadata": {
        "id": "qsU_OAlXTAZR",
        "colab_type": "text"
      },
      "cell_type": "markdown",
      "source": [
        "Распаковка словарей"
      ]
    },
    {
      "metadata": {
        "id": "m8EInoomTAZR",
        "colab_type": "code",
        "colab": {},
        "outputId": "d543c330-b2bf-41ec-fc66-7248e39ee47a"
      },
      "cell_type": "code",
      "source": [
        "settings = {'city' : 'London', 'country' : 'Great Britain'}\n",
        "\n",
        "'{city} is the capital of {country}'.format(**settings)"
      ],
      "execution_count": 0,
      "outputs": [
        {
          "output_type": "execute_result",
          "data": {
            "text/plain": [
              "'London is the capital of Great Britain'"
            ]
          },
          "metadata": {
            "tags": []
          },
          "execution_count": 34
        }
      ]
    },
    {
      "metadata": {
        "id": "ePWPYx2MTAZT",
        "colab_type": "text"
      },
      "cell_type": "markdown",
      "source": [
        "`defaultdict`"
      ]
    },
    {
      "metadata": {
        "id": "tYixsepGTAZT",
        "colab_type": "code",
        "colab": {},
        "outputId": "31109dcd-47a3-4f38-9bb7-24ad53f2ef15"
      },
      "cell_type": "code",
      "source": [
        "from collections import defaultdict\n",
        "d = defaultdict(float)\n",
        "\n",
        "print(d)\n",
        "\n",
        "d[345]\n",
        "\n",
        "print(d)"
      ],
      "execution_count": 0,
      "outputs": [
        {
          "output_type": "stream",
          "text": [
            "defaultdict(<class 'float'>, {})\n",
            "defaultdict(<class 'float'>, {345: 0.0})\n"
          ],
          "name": "stdout"
        }
      ]
    },
    {
      "metadata": {
        "id": "TnEe9AtWTAZV",
        "colab_type": "text"
      },
      "cell_type": "markdown",
      "source": [
        "`OrderedDict`"
      ]
    },
    {
      "metadata": {
        "id": "OsjCjGdKTAZV",
        "colab_type": "code",
        "colab": {},
        "outputId": "49992402-01a4-489f-9389-1b6caa611f53"
      },
      "cell_type": "code",
      "source": [
        "from collections import OrderedDict\n",
        "\n",
        "data = {str(i): i for i in range(5)}\n",
        "\n",
        "print(dict(data))\n",
        "print(OrderedDict(data))"
      ],
      "execution_count": 0,
      "outputs": [
        {
          "output_type": "stream",
          "text": [
            "{'0': 0, '1': 1, '2': 2, '3': 3, '4': 4}\n",
            "OrderedDict([('0', 0), ('1', 1), ('2', 2), ('3', 3), ('4', 4)])\n"
          ],
          "name": "stdout"
        }
      ]
    },
    {
      "metadata": {
        "id": "xyjBYDvATAZW",
        "colab_type": "text"
      },
      "cell_type": "markdown",
      "source": [
        "### Генераторы"
      ]
    },
    {
      "metadata": {
        "id": "WFp7vliETAZX",
        "colab_type": "code",
        "colab": {},
        "outputId": "0e976985-1293-4eb9-c5e9-455b241505e0"
      },
      "cell_type": "code",
      "source": [
        "l = [i ** 2 for i in range(5)]\n",
        "l"
      ],
      "execution_count": 0,
      "outputs": [
        {
          "output_type": "execute_result",
          "data": {
            "text/plain": [
              "[0, 1, 4, 9, 16]"
            ]
          },
          "metadata": {
            "tags": []
          },
          "execution_count": 37
        }
      ]
    },
    {
      "metadata": {
        "id": "vlSO5qhKTAZY",
        "colab_type": "code",
        "colab": {},
        "outputId": "c9a71b5f-581c-40ac-fc68-82e26282712a"
      },
      "cell_type": "code",
      "source": [
        "d = {i : i ** 2 for i in range(5)}\n",
        "d"
      ],
      "execution_count": 0,
      "outputs": [
        {
          "output_type": "execute_result",
          "data": {
            "text/plain": [
              "{0: 0, 1: 1, 2: 4, 3: 9, 4: 16}"
            ]
          },
          "metadata": {
            "tags": []
          },
          "execution_count": 38
        }
      ]
    },
    {
      "metadata": {
        "id": "h1IjSfOzTAZZ",
        "colab_type": "code",
        "colab": {},
        "outputId": "d50b9dab-671a-4a3a-fc6a-f54b080bb7bd"
      },
      "cell_type": "code",
      "source": [
        "s = {i ** 2 for i in range(5)}\n",
        "s"
      ],
      "execution_count": 0,
      "outputs": [
        {
          "output_type": "execute_result",
          "data": {
            "text/plain": [
              "{0, 1, 4, 9, 16}"
            ]
          },
          "metadata": {
            "tags": []
          },
          "execution_count": 39
        }
      ]
    },
    {
      "metadata": {
        "id": "_AFVLVTnTAZa",
        "colab_type": "text"
      },
      "cell_type": "markdown",
      "source": [
        "### Хэширование"
      ]
    },
    {
      "metadata": {
        "id": "ftg2fsYLTAZb",
        "colab_type": "text"
      },
      "cell_type": "markdown",
      "source": [
        "Для каждого `immutable` объекта можно посчитать хэш"
      ]
    },
    {
      "metadata": {
        "id": "pXVzZpvjTAZb",
        "colab_type": "code",
        "colab": {},
        "outputId": "7c167bd1-e79e-498b-96bd-245e121a1210"
      },
      "cell_type": "code",
      "source": [
        "print(hash(1234))\n",
        "print(hash(-12.34))\n",
        "print(hash('smth'))\n",
        "print(hash(('smth', 42)))"
      ],
      "execution_count": 0,
      "outputs": [
        {
          "output_type": "stream",
          "text": [
            "1234\n",
            "-783986623132655628\n",
            "-2850576505802683175\n",
            "-8849478880898631552\n"
          ],
          "name": "stdout"
        }
      ]
    },
    {
      "metadata": {
        "id": "N-Pk4xjqTAZc",
        "colab_type": "text"
      },
      "cell_type": "markdown",
      "source": [
        "Для `mutable` объектов хэш посчитать нельзя"
      ]
    },
    {
      "metadata": {
        "id": "0ZbLmr1JTAZc",
        "colab_type": "code",
        "colab": {},
        "outputId": "aefba3ef-dfbc-4899-a092-97c5dee01a92"
      },
      "cell_type": "code",
      "source": [
        "hash(['smth', 42])"
      ],
      "execution_count": 0,
      "outputs": [
        {
          "output_type": "error",
          "ename": "TypeError",
          "evalue": "unhashable type: 'list'",
          "traceback": [
            "\u001b[1;31m---------------------------------------------------------------------------\u001b[0m",
            "\u001b[1;31mTypeError\u001b[0m                                 Traceback (most recent call last)",
            "\u001b[1;32m<ipython-input-41-7393059bd620>\u001b[0m in \u001b[0;36m<module>\u001b[1;34m()\u001b[0m\n\u001b[1;32m----> 1\u001b[1;33m \u001b[0mhash\u001b[0m\u001b[1;33m(\u001b[0m\u001b[1;33m[\u001b[0m\u001b[1;34m'smth'\u001b[0m\u001b[1;33m,\u001b[0m \u001b[1;36m42\u001b[0m\u001b[1;33m]\u001b[0m\u001b[1;33m)\u001b[0m\u001b[1;33m\u001b[0m\u001b[0m\n\u001b[0m",
            "\u001b[1;31mTypeError\u001b[0m: unhashable type: 'list'"
          ]
        }
      ]
    },
    {
      "metadata": {
        "id": "P3qy5Y1NTAZe",
        "colab_type": "text"
      },
      "cell_type": "markdown",
      "source": [
        "### Ввод и вывод"
      ]
    },
    {
      "metadata": {
        "id": "mVRDR1kYTAZe",
        "colab_type": "code",
        "colab": {},
        "outputId": "7c7dde50-7c78-4279-8d76-5c6aa9b40c2a"
      },
      "cell_type": "code",
      "source": [
        "a = input()\n",
        "print(2 ** int(a))"
      ],
      "execution_count": 0,
      "outputs": [
        {
          "output_type": "stream",
          "text": [
            "10\n",
            "1024\n"
          ],
          "name": "stdout"
        }
      ]
    },
    {
      "metadata": {
        "id": "WpF--AmmTAZg",
        "colab_type": "text"
      },
      "cell_type": "markdown",
      "source": [
        "`stdin`, `stderr`, `stdout`"
      ]
    },
    {
      "metadata": {
        "id": "CJUl9pZdTAZg",
        "colab_type": "code",
        "colab": {}
      },
      "cell_type": "code",
      "source": [
        "import sys\n",
        "\n",
        "for line in sys.stdin:\n",
        "    sys.stdout.write(line[::-1])"
      ],
      "execution_count": 0,
      "outputs": []
    },
    {
      "metadata": {
        "id": "sTIeKUEfTAZh",
        "colab_type": "text"
      },
      "cell_type": "markdown",
      "source": [
        "Считывание данных из файла с данными"
      ]
    },
    {
      "metadata": {
        "id": "51-rMGcSTAZh",
        "colab_type": "code",
        "colab": {}
      },
      "cell_type": "code",
      "source": [
        "f = open('file.txt', 'r', encoding='utf8')\n",
        "lines = f.readlines()\n",
        "f.close()"
      ],
      "execution_count": 0,
      "outputs": []
    },
    {
      "metadata": {
        "id": "XG5yh2CBTAZi",
        "colab_type": "text"
      },
      "cell_type": "markdown",
      "source": [
        "**Замечение:** при работе с файлами и другими ресурсами лучше всего использовать context manager"
      ]
    },
    {
      "metadata": {
        "id": "coY4N1PaTAZj",
        "colab_type": "code",
        "colab": {}
      },
      "cell_type": "code",
      "source": [
        "with open('file.txt') as f:\n",
        "    print(f.read())"
      ],
      "execution_count": 0,
      "outputs": []
    },
    {
      "metadata": {
        "id": "7c2zpefPTAZk",
        "colab_type": "text"
      },
      "cell_type": "markdown",
      "source": [
        "В Python имя каждого объекта - ссылка на соответствующую область памяти. При присваивании объектов происходит копирование ссылки"
      ]
    },
    {
      "metadata": {
        "id": "Plgk93IlTAZk",
        "colab_type": "code",
        "colab": {},
        "outputId": "ca01e366-2f6d-4f42-8d7e-2c2cde249d6a"
      },
      "cell_type": "code",
      "source": [
        "a = [1, 2, 3]\n",
        "b = a\n",
        "b[1] = 100\n",
        "print(a, b)\n",
        "\n",
        "b = [1, 2, 3]\n",
        "print(a, b)"
      ],
      "execution_count": 0,
      "outputs": [
        {
          "output_type": "stream",
          "text": [
            "[1, 100, 3] [1, 100, 3]\n",
            "[1, 100, 3] [1, 2, 3]\n"
          ],
          "name": "stdout"
        }
      ]
    },
    {
      "metadata": {
        "id": "4Zj-oqtcTAZl",
        "colab_type": "text"
      },
      "cell_type": "markdown",
      "source": [
        "Функции и лямбды"
      ]
    },
    {
      "metadata": {
        "id": "qHzSCkJyTAZm",
        "colab_type": "code",
        "colab": {},
        "outputId": "3a9601e4-b2b4-4115-c813-d95040317db6"
      },
      "cell_type": "code",
      "source": [
        "def get_degrees(n):\n",
        "    return n ** 2, n ** 3\n",
        "\n",
        "print(get_degrees(12))\n",
        "print((lambda n: (n ** 2, n ** 3))(12))"
      ],
      "execution_count": 0,
      "outputs": [
        {
          "output_type": "stream",
          "text": [
            "(144, 1728)\n",
            "(144, 1728)\n"
          ],
          "name": "stdout"
        }
      ]
    },
    {
      "metadata": {
        "id": "eV5mhum8TAZn",
        "colab_type": "text"
      },
      "cell_type": "markdown",
      "source": [
        "В Python поддерживаются именованные аргументы"
      ]
    },
    {
      "metadata": {
        "id": "Z63Zy9-UTAZn",
        "colab_type": "code",
        "colab": {},
        "outputId": "23a14cf3-ba5a-46b0-8832-4e5db9f8c3f6"
      },
      "cell_type": "code",
      "source": [
        "def func(param1, param2='ML', param3=42):\n",
        "    print(param1, param2, param3)\n",
        "\n",
        "func(param2='DL', param1=[0, 0])"
      ],
      "execution_count": 0,
      "outputs": [
        {
          "output_type": "stream",
          "text": [
            "[0, 0] DL 42\n"
          ],
          "name": "stdout"
        }
      ]
    },
    {
      "metadata": {
        "id": "D6H4ks4TTAZp",
        "colab_type": "code",
        "colab": {},
        "outputId": "02908433-e74d-4572-b5b3-374103f78d9f"
      },
      "cell_type": "code",
      "source": [
        "def func_2(param1, *, param2='ML', param3=42):\n",
        "    print(param1, param2, param3)\n",
        "\n",
        "func_2([0, 0], 'DL')"
      ],
      "execution_count": 0,
      "outputs": [
        {
          "output_type": "error",
          "ename": "TypeError",
          "evalue": "func_2() takes 1 positional argument but 2 were given",
          "traceback": [
            "\u001b[1;31m---------------------------------------------------------------------------\u001b[0m",
            "\u001b[1;31mTypeError\u001b[0m                                 Traceback (most recent call last)",
            "\u001b[1;32m<ipython-input-48-5931be575cc5>\u001b[0m in \u001b[0;36m<module>\u001b[1;34m()\u001b[0m\n\u001b[0;32m      2\u001b[0m     \u001b[0mprint\u001b[0m\u001b[1;33m(\u001b[0m\u001b[0mparam1\u001b[0m\u001b[1;33m,\u001b[0m \u001b[0mparam2\u001b[0m\u001b[1;33m,\u001b[0m \u001b[0mparam3\u001b[0m\u001b[1;33m)\u001b[0m\u001b[1;33m\u001b[0m\u001b[0m\n\u001b[0;32m      3\u001b[0m \u001b[1;33m\u001b[0m\u001b[0m\n\u001b[1;32m----> 4\u001b[1;33m \u001b[0mfunc_2\u001b[0m\u001b[1;33m(\u001b[0m\u001b[1;33m[\u001b[0m\u001b[1;36m0\u001b[0m\u001b[1;33m,\u001b[0m \u001b[1;36m0\u001b[0m\u001b[1;33m]\u001b[0m\u001b[1;33m,\u001b[0m \u001b[1;34m'DL'\u001b[0m\u001b[1;33m)\u001b[0m\u001b[1;33m\u001b[0m\u001b[0m\n\u001b[0m",
            "\u001b[1;31mTypeError\u001b[0m: func_2() takes 1 positional argument but 2 were given"
          ]
        }
      ]
    },
    {
      "metadata": {
        "id": "1LjC-KFjTAZq",
        "colab_type": "text"
      },
      "cell_type": "markdown",
      "source": [
        "### Классы"
      ]
    },
    {
      "metadata": {
        "id": "s7RkW9CkTAZq",
        "colab_type": "code",
        "colab": {},
        "outputId": "a4ef4235-a69e-4bf4-a04f-e2c9142beb0c"
      },
      "cell_type": "code",
      "source": [
        "class MyClass:\n",
        "    def __init__(self, param):\n",
        "        self.field = param\n",
        "\n",
        "    def get_squared_param(self):\n",
        "        return self.field ** 2\n",
        "\n",
        "a = MyClass(10)\n",
        "print(a)\n",
        "print(a.field)\n",
        "print(a.get_squared_param())"
      ],
      "execution_count": 0,
      "outputs": [
        {
          "output_type": "stream",
          "text": [
            "<__main__.MyClass object at 0x0000024492F46908>\n",
            "10\n",
            "100\n"
          ],
          "name": "stdout"
        }
      ]
    },
    {
      "metadata": {
        "id": "9QAsKqpXTAZr",
        "colab_type": "text"
      },
      "cell_type": "markdown",
      "source": [
        "- Служебные методы принято называть с двумя подчеркиваниями в начале и конце. Так, например, `__init__` — конструктор (на самом деле, не совсем привычный по C++ конструктор)\n",
        "- Первый параметр каждого метода — сам объект, для которого вызывается метод. Принято называть его `self`"
      ]
    },
    {
      "metadata": {
        "id": "XwbFjwVvTAZr",
        "colab_type": "text"
      },
      "cell_type": "markdown",
      "source": [
        "**_ и __ в именах**\n",
        "\n",
        "- \\_single_leading_underscore\n",
        "\n",
        "weak \"internal use\" indicator. E.g. `from M import *` does not import objects whose name starts with an underscore.\n",
        "\n",
        "- single_trailing_underscore_\n",
        "\n",
        "used by convention to avoid conflicts with Python keyword, e.g. `Tkinter.Toplevel(master, class_='ClassName')`\n",
        "\n",
        "- \\_\\_double_leading_underscore\n",
        "\n",
        "when naming a class attribute, invokes name mangling: inside class FooBar, `__boo` becomes `_FooBar__boo`\n",
        "\n",
        "- \\_\\_double_leading_and_trailing_underscore\\_\\_\n",
        "\n",
        "\"magic\" objects or attributes that live in user-controlled namespaces. E.g. `__init__`,  `__import__` or `__file__`. Never invent such names; only use them as documented."
      ]
    },
    {
      "metadata": {
        "id": "dY1mVktdTAZs",
        "colab_type": "code",
        "colab": {},
        "outputId": "747183f6-fe7b-4f56-cea4-dd4044bcc813"
      },
      "cell_type": "code",
      "source": [
        "class MyClass:\n",
        "    def __init__(self):\n",
        "        self._internal_param = 6\n",
        "        self.__mangled_param = 2\n",
        "\n",
        "obj = MyClass()\n",
        "\n",
        "print(obj._internal_param)\n",
        "print(obj.__mangled_param)"
      ],
      "execution_count": 0,
      "outputs": [
        {
          "output_type": "stream",
          "text": [
            "6\n"
          ],
          "name": "stdout"
        },
        {
          "output_type": "error",
          "ename": "AttributeError",
          "evalue": "'MyClass' object has no attribute '__mangled_param'",
          "traceback": [
            "\u001b[1;31m---------------------------------------------------------------------------\u001b[0m",
            "\u001b[1;31mAttributeError\u001b[0m                            Traceback (most recent call last)",
            "\u001b[1;32m<ipython-input-50-98b2bb4eb28f>\u001b[0m in \u001b[0;36m<module>\u001b[1;34m()\u001b[0m\n\u001b[0;32m      7\u001b[0m \u001b[1;33m\u001b[0m\u001b[0m\n\u001b[0;32m      8\u001b[0m \u001b[0mprint\u001b[0m\u001b[1;33m(\u001b[0m\u001b[0mobj\u001b[0m\u001b[1;33m.\u001b[0m\u001b[0m_internal_param\u001b[0m\u001b[1;33m)\u001b[0m\u001b[1;33m\u001b[0m\u001b[0m\n\u001b[1;32m----> 9\u001b[1;33m \u001b[0mprint\u001b[0m\u001b[1;33m(\u001b[0m\u001b[0mobj\u001b[0m\u001b[1;33m.\u001b[0m\u001b[0m__mangled_param\u001b[0m\u001b[1;33m)\u001b[0m\u001b[1;33m\u001b[0m\u001b[0m\n\u001b[0m",
            "\u001b[1;31mAttributeError\u001b[0m: 'MyClass' object has no attribute '__mangled_param'"
          ]
        }
      ]
    },
    {
      "metadata": {
        "id": "-k3KgJhWTAZt",
        "colab_type": "text"
      },
      "cell_type": "markdown",
      "source": [
        "### Внутренние переменные"
      ]
    },
    {
      "metadata": {
        "id": "s4xfISU_TAZt",
        "colab_type": "text"
      },
      "cell_type": "markdown",
      "source": [
        "Работа с полями объекта - работа с его `__dict__`"
      ]
    },
    {
      "metadata": {
        "id": "BV6iTN6PTAZt",
        "colab_type": "code",
        "colab": {},
        "outputId": "627fdec5-d46b-4c9c-e100-18bd163250d9"
      },
      "cell_type": "code",
      "source": [
        "class MyClass:\n",
        "    CLASS_COSTANT = 42\n",
        "    \n",
        "    def __init__(self):\n",
        "        self.var = 123\n",
        "        self.name = 'my_class_name'\n",
        "\n",
        "t = MyClass()\n",
        "print('class dict:', MyClass.__dict__)\n",
        "print('CLASS_COSTANT:', MyClass.__dict__['CLASS_COSTANT'])\n",
        "print('obj dict:', t.__dict__)"
      ],
      "execution_count": 0,
      "outputs": [
        {
          "output_type": "stream",
          "text": [
            "class dict: {'__module__': '__main__', 'CLASS_COSTANT': 42, '__init__': <function MyClass.__init__ at 0x0000024492E82488>, '__dict__': <attribute '__dict__' of 'MyClass' objects>, '__weakref__': <attribute '__weakref__' of 'MyClass' objects>, '__doc__': None}\n",
            "CLASS_COSTANT: 42\n",
            "obj dict: {'var': 123, 'name': 'my_class_name'}\n"
          ],
          "name": "stdout"
        }
      ]
    },
    {
      "metadata": {
        "id": "ygWphcGATAZv",
        "colab_type": "code",
        "colab": {},
        "outputId": "778e24ea-cf85-4d0a-e472-920dbe1e2670"
      },
      "cell_type": "code",
      "source": [
        "MyClass.__class__"
      ],
      "execution_count": 0,
      "outputs": [
        {
          "output_type": "execute_result",
          "data": {
            "text/plain": [
              "type"
            ]
          },
          "metadata": {
            "tags": []
          },
          "execution_count": 52
        }
      ]
    },
    {
      "metadata": {
        "id": "uyOMJzdSTAZx",
        "colab_type": "text"
      },
      "cell_type": "markdown",
      "source": [
        "Можно зафиксировать допустимые поля в классе с помощью `__slots__` (но на практике это редко используется)"
      ]
    },
    {
      "metadata": {
        "id": "EDRdqzN7TAZy",
        "colab_type": "code",
        "colab": {},
        "outputId": "b5bd866b-a423-4be6-b20e-e232a20d88d4"
      },
      "cell_type": "code",
      "source": [
        "class MyClass:\n",
        "    __slots__ = ['var1', 'var2']\n",
        "    \n",
        "    def __init__(self):\n",
        "        self.var1 = 1\n",
        "        self.new_var = 2\n",
        "\n",
        "t = MyClass()"
      ],
      "execution_count": 0,
      "outputs": [
        {
          "output_type": "error",
          "ename": "AttributeError",
          "evalue": "'MyClass' object has no attribute 'new_var'",
          "traceback": [
            "\u001b[1;31m---------------------------------------------------------------------------\u001b[0m",
            "\u001b[1;31mAttributeError\u001b[0m                            Traceback (most recent call last)",
            "\u001b[1;32m<ipython-input-53-7ae14f342aae>\u001b[0m in \u001b[0;36m<module>\u001b[1;34m()\u001b[0m\n\u001b[0;32m      6\u001b[0m         \u001b[0mself\u001b[0m\u001b[1;33m.\u001b[0m\u001b[0mnew_var\u001b[0m \u001b[1;33m=\u001b[0m \u001b[1;36m2\u001b[0m\u001b[1;33m\u001b[0m\u001b[0m\n\u001b[0;32m      7\u001b[0m \u001b[1;33m\u001b[0m\u001b[0m\n\u001b[1;32m----> 8\u001b[1;33m \u001b[0mt\u001b[0m \u001b[1;33m=\u001b[0m \u001b[0mMyClass\u001b[0m\u001b[1;33m(\u001b[0m\u001b[1;33m)\u001b[0m\u001b[1;33m\u001b[0m\u001b[0m\n\u001b[0m",
            "\u001b[1;32m<ipython-input-53-7ae14f342aae>\u001b[0m in \u001b[0;36m__init__\u001b[1;34m(self)\u001b[0m\n\u001b[0;32m      4\u001b[0m     \u001b[1;32mdef\u001b[0m \u001b[0m__init__\u001b[0m\u001b[1;33m(\u001b[0m\u001b[0mself\u001b[0m\u001b[1;33m)\u001b[0m\u001b[1;33m:\u001b[0m\u001b[1;33m\u001b[0m\u001b[0m\n\u001b[0;32m      5\u001b[0m         \u001b[0mself\u001b[0m\u001b[1;33m.\u001b[0m\u001b[0mvar1\u001b[0m \u001b[1;33m=\u001b[0m \u001b[1;36m1\u001b[0m\u001b[1;33m\u001b[0m\u001b[0m\n\u001b[1;32m----> 6\u001b[1;33m         \u001b[0mself\u001b[0m\u001b[1;33m.\u001b[0m\u001b[0mnew_var\u001b[0m \u001b[1;33m=\u001b[0m \u001b[1;36m2\u001b[0m\u001b[1;33m\u001b[0m\u001b[0m\n\u001b[0m\u001b[0;32m      7\u001b[0m \u001b[1;33m\u001b[0m\u001b[0m\n\u001b[0;32m      8\u001b[0m \u001b[0mt\u001b[0m \u001b[1;33m=\u001b[0m \u001b[0mMyClass\u001b[0m\u001b[1;33m(\u001b[0m\u001b[1;33m)\u001b[0m\u001b[1;33m\u001b[0m\u001b[0m\n",
            "\u001b[1;31mAttributeError\u001b[0m: 'MyClass' object has no attribute 'new_var'"
          ]
        }
      ]
    },
    {
      "metadata": {
        "id": "KtHAmutCTAZ8",
        "colab_type": "text"
      },
      "cell_type": "markdown",
      "source": [
        "### Наследование\n",
        "\n",
        "- по умолчанию все классы унаследованы от `object`\n",
        "- поддерживается множественное наследование\n",
        "- при обращении к полям и методам обьекта Python сначала пытается найти их в самом объекте, потом в его классе, потом в предках в порядке `Method resolution order`\n",
        "- посмотреть MRO обьекта можно с помощью метода `.mro()`"
      ]
    },
    {
      "metadata": {
        "id": "bl8vU8G9TAZ8",
        "colab_type": "code",
        "colab": {},
        "outputId": "6e0ff4c0-9d52-4ea1-ad0a-61c5124548e1"
      },
      "cell_type": "code",
      "source": [
        "class Course:\n",
        "    def __init__(self):\n",
        "        print('Course __init__')\n",
        "        self.room = None\n",
        "\n",
        "        \n",
        "class CSCCourse(Course):\n",
        "    def __init__(self):\n",
        "        print('CSCCourse __init__')\n",
        "        super().__init__()\n",
        "        self.room = 123\n",
        "\n",
        "        \n",
        "class NSUCourse(Course):\n",
        "    def __init__(self):\n",
        "        print('NSUCourse __init__')\n",
        "        super().__init__()\n",
        "        self.room = 456\n",
        "\n",
        "        \n",
        "class DLCourse(CSCCourse, NSUCourse):\n",
        "    def __init__(self):\n",
        "        print('DLCourse __init__')\n",
        "        super().__init__()\n",
        "        \n",
        "        \n",
        "course = DLCourse()"
      ],
      "execution_count": 0,
      "outputs": [
        {
          "output_type": "stream",
          "text": [
            "DLCourse __init__\n",
            "CSCCourse __init__\n",
            "NSUCourse __init__\n",
            "Course __init__\n"
          ],
          "name": "stdout"
        }
      ]
    },
    {
      "metadata": {
        "id": "42ToIH8iTAZ9",
        "colab_type": "code",
        "colab": {},
        "outputId": "9528f3cc-e529-4c4b-c3ed-011f242dfd85"
      },
      "cell_type": "code",
      "source": [
        "DLCourse.mro()"
      ],
      "execution_count": 0,
      "outputs": [
        {
          "output_type": "execute_result",
          "data": {
            "text/plain": [
              "[__main__.DLCourse,\n",
              " __main__.CSCCourse,\n",
              " __main__.NSUCourse,\n",
              " __main__.Course,\n",
              " object]"
            ]
          },
          "metadata": {
            "tags": []
          },
          "execution_count": 55
        }
      ]
    },
    {
      "metadata": {
        "id": "fvtWoNvLTAZ-",
        "colab_type": "code",
        "colab": {},
        "outputId": "ce6b269c-967c-46c8-83d6-f36fc33f0f21"
      },
      "cell_type": "code",
      "source": [
        "print(course.room)"
      ],
      "execution_count": 0,
      "outputs": [
        {
          "output_type": "stream",
          "text": [
            "123\n"
          ],
          "name": "stdout"
        }
      ]
    },
    {
      "metadata": {
        "id": "z68ijoy5TAZ-",
        "colab_type": "code",
        "colab": {}
      },
      "cell_type": "code",
      "source": [
        ""
      ],
      "execution_count": 0,
      "outputs": []
    }
  ]
}