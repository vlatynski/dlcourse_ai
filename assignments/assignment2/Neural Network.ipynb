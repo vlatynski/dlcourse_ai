{
 "cells": [
  {
   "cell_type": "markdown",
   "metadata": {},
   "source": [
    "# Задание 2.1 - Нейронные сети\n",
    "\n",
    "В этом задании вы реализуете и натренируете настоящую нейроную сеть своими руками!\n",
    "\n",
    "В некотором смысле это будет расширением прошлого задания - нам нужно просто составить несколько линейных классификаторов вместе!\n",
    "\n",
    "<img src=\"https://i.redd.it/n9fgba8b0qr01.png\" alt=\"Stack_more_layers\" width=\"400px\"/>"
   ]
  },
  {
   "cell_type": "code",
   "execution_count": 1,
   "metadata": {},
   "outputs": [],
   "source": [
    "import numpy as np\n",
    "import matplotlib.pyplot as plt\n",
    "\n",
    "%matplotlib inline\n",
    "\n",
    "%load_ext autoreload\n",
    "%autoreload 2"
   ]
  },
  {
   "cell_type": "code",
   "execution_count": 5,
   "metadata": {},
   "outputs": [],
   "source": [
    "from dataset import load_svhn, random_split_train_val\n",
    "from gradient_check import check_layer_gradient, check_layer_param_gradient, check_model_gradient\n",
    "from layers import FullyConnectedLayer, ReLULayer\n",
    "from model import TwoLayerNet\n",
    "from trainer import Trainer, Dataset\n",
    "from optim import SGD, MomentumSGD\n",
    "from metrics import multiclass_accuracy"
   ]
  },
  {
   "cell_type": "markdown",
   "metadata": {},
   "source": [
    "# Загружаем данные\n",
    "\n",
    "И разделяем их на training и validation."
   ]
  },
  {
   "cell_type": "code",
   "execution_count": 6,
   "metadata": {},
   "outputs": [],
   "source": [
    "def prepare_for_neural_network(train_X, test_X):\n",
    "    train_flat = train_X.reshape(train_X.shape[0], -1).astype(np.float) / 255.0\n",
    "    test_flat = test_X.reshape(test_X.shape[0], -1).astype(np.float) / 255.0\n",
    "    \n",
    "    # Subtract mean\n",
    "    mean_image = np.mean(train_flat, axis = 0)\n",
    "    train_flat -= mean_image\n",
    "    test_flat -= mean_image\n",
    "    \n",
    "    return train_flat, test_flat\n",
    "    \n",
    "train_X, train_y, test_X, test_y = load_svhn(\"data\", max_train=10000, max_test=1000)    \n",
    "train_X, test_X = prepare_for_neural_network(train_X, test_X)\n",
    "# Split train into train and val\n",
    "train_X, train_y, val_X, val_y = random_split_train_val(train_X, train_y, num_val = 1000)"
   ]
  },
  {
   "cell_type": "markdown",
   "metadata": {},
   "source": [
    "# Как всегда, начинаем с кирпичиков\n",
    "\n",
    "Мы будем реализовывать необходимые нам слои по очереди. Каждый слой должен реализовать:\n",
    "- прямой проход (forward pass), который генерирует выход слоя по входу и запоминает необходимые данные\n",
    "- обратный проход (backward pass), который получает градиент по выходу слоя и вычисляет градиент по входу и по параметрам\n",
    "\n",
    "Начнем с ReLU, у которого параметров нет."
   ]
  },
  {
   "cell_type": "code",
   "execution_count": 7,
   "metadata": {
    "scrolled": false
   },
   "outputs": [
    {
     "name": "stdout",
     "output_type": "stream",
     "text": [
      "\u001b[42mGradient check passed!\u001b[0m\n"
     ]
    }
   ],
   "source": [
    "# TODO: Implement ReLULayer layer in layers.py\n",
    "# Note: you'll need to copy implementation of the gradient_check function from the previous assignment\n",
    "\n",
    "X = np.array([[1,-2,3],\n",
    "              [-1, 2, 0.1]\n",
    "              ])\n",
    "\n",
    "assert check_layer_gradient(ReLULayer(), X)"
   ]
  },
  {
   "cell_type": "markdown",
   "metadata": {},
   "source": [
    "А теперь реализуем полносвязный слой (fully connected layer), у которого будет два массива параметров: W (weights) и B (bias).\n",
    "\n",
    "Все параметры наши слои будут использовать для параметров специальный класс `Param`, в котором будут храниться значения параметров и градиенты этих параметров, вычисляемые во время обратного прохода.\n",
    "\n",
    "Это даст возможность аккумулировать (суммировать) градиенты из разных частей функции потерь, например, из cross-entropy loss и regularization loss."
   ]
  },
  {
   "cell_type": "code",
   "execution_count": 15,
   "metadata": {},
   "outputs": [
    {
     "name": "stdout",
     "output_type": "stream",
     "text": [
      "\u001b[42mGradient check passed!\u001b[0m\n",
      "\u001b[42mGradient check passed!\u001b[0m\n",
      "\u001b[42mGradient check passed!\u001b[0m\n"
     ]
    }
   ],
   "source": [
    "# TODO: Implement FullyConnected layer forward and backward methods\n",
    "assert check_layer_gradient(FullyConnectedLayer(3, 4), X)\n",
    "# TODO: Implement storing gradients for W and B\n",
    "assert check_layer_param_gradient(FullyConnectedLayer(3, 4), X, 'W')\n",
    "assert check_layer_param_gradient(FullyConnectedLayer(3, 4), X, 'B')"
   ]
  },
  {
   "cell_type": "markdown",
   "metadata": {},
   "source": [
    "## Создаем нейронную сеть\n",
    "\n",
    "Теперь мы реализуем простейшую нейронную сеть с двумя полносвязным слоями и нелинейностью ReLU. Реализуйте функцию `compute_loss_and_gradients`, она должна запустить прямой и обратный проход через оба слоя для вычисления градиентов.\n",
    "\n",
    "Не забудьте реализовать очистку градиентов в начале функции."
   ]
  },
  {
   "cell_type": "code",
   "execution_count": 16,
   "metadata": {},
   "outputs": [
    {
     "name": "stdout",
     "output_type": "stream",
     "text": [
      "(2, 3072)\n",
      "[9 9]\n",
      "n_input 3072\n",
      "n_output 10\n",
      "hidden_layer_size 3\n",
      "************************************************************\n",
      "[[-0.08975373 -0.03568431  0.08994824 ... -0.12654745 -0.03998549\n",
      "   0.09710392]\n",
      " [ 0.01612863  0.01921765  0.05465412 ... -0.15007686 -0.13410314\n",
      "  -0.10681765]]\n",
      "Checking gradient for 0_W\n",
      "\u001b[42mGradient check passed!\u001b[0m\n",
      "Checking gradient for 0_B\n",
      "\u001b[42mGradient check passed!\u001b[0m\n",
      "Checking gradient for 2_W\n",
      "\u001b[42mGradient check passed!\u001b[0m\n",
      "Checking gradient for 2_B\n",
      "\u001b[42mGradient check passed!\u001b[0m\n"
     ]
    },
    {
     "data": {
      "text/plain": [
       "True"
      ]
     },
     "execution_count": 16,
     "metadata": {},
     "output_type": "execute_result"
    }
   ],
   "source": [
    "# TODO: In model.py, implement compute_loss_and_gradients function\n",
    "print(train_X[:2].shape)\n",
    "print(train_y[:2])\n",
    "\n",
    "\n",
    "\n",
    "model = TwoLayerNet(n_input = train_X.shape[1], n_output = 10, hidden_layer_size = 3, reg = 0)\n",
    "loss = model.compute_loss_and_gradients(train_X[:2], train_y[:2])\n",
    "print(\"*\"*60)\n",
    "print(train_X[:2])\n",
    "# TODO Now implement backward pass and aggregate all of the params\n",
    "check_model_gradient(model, train_X[:2], train_y[:2])"
   ]
  },
  {
   "cell_type": "markdown",
   "metadata": {},
   "source": [
    "Теперь добавьте к модели регуляризацию - она должна прибавляться к loss и делать свой вклад в градиенты."
   ]
  },
  {
   "cell_type": "code",
   "execution_count": 17,
   "metadata": {},
   "outputs": [
    {
     "name": "stdout",
     "output_type": "stream",
     "text": [
      "n_input 3072\n",
      "n_output 10\n",
      "hidden_layer_size 3\n",
      "Checking gradient for 0_W\n",
      "\u001b[42mGradient check passed!\u001b[0m\n",
      "Checking gradient for 0_B\n",
      "\u001b[42mGradient check passed!\u001b[0m\n",
      "Checking gradient for 2_W\n",
      "\u001b[42mGradient check passed!\u001b[0m\n",
      "Checking gradient for 2_B\n",
      "\u001b[42mGradient check passed!\u001b[0m\n",
      "CPU times: user 35.8 s, sys: 13.1 s, total: 48.9 s\n",
      "Wall time: 30.7 s\n"
     ]
    }
   ],
   "source": [
    "%%time\n",
    "# TODO Now implement l2 regularization in the forward and backward pass\n",
    "model_with_reg = TwoLayerNet(n_input = train_X.shape[1], n_output = 10, hidden_layer_size = 3, reg = 1e1)\n",
    "loss_with_reg = model_with_reg.compute_loss_and_gradients(train_X[:2], train_y[:2])\n",
    "assert loss_with_reg > loss and not np.isclose(loss_with_reg, loss), \\\n",
    "    \"Loss with regularization (%2.4f) should be higher than without it (%2.4f)!\" % (loss, loss_with_reg)\n",
    "\n",
    "check_model_gradient(model_with_reg, train_X[:2], train_y[:2])"
   ]
  },
  {
   "cell_type": "markdown",
   "metadata": {},
   "source": [
    "Также реализуем функцию предсказания (вычисления значения) модели на новых данных.\n",
    "\n",
    "Какое значение точности мы ожидаем увидеть до начала тренировки?"
   ]
  },
  {
   "cell_type": "code",
   "execution_count": 19,
   "metadata": {},
   "outputs": [
    {
     "name": "stdout",
     "output_type": "stream",
     "text": [
      "[9 9 2 1 7 1 3 5 3 6 4 2 9 1 0 7 2 1 4 7 5 9 5 3 8 9 6 6 5 1]\n"
     ]
    },
    {
     "data": {
      "text/plain": [
       "0.06666666666666667"
      ]
     },
     "execution_count": 19,
     "metadata": {},
     "output_type": "execute_result"
    }
   ],
   "source": [
    "# Finally, implement predict function!\n",
    "\n",
    "# TODO: Implement predict function\n",
    "# What would be the value we expect?\n",
    "print(train_y[:30])\n",
    "multiclass_accuracy(model_with_reg.predict(train_X[:30]), train_y[:30]) \n",
    "#model_with_reg.predict(train_X[:30])"
   ]
  },
  {
   "cell_type": "markdown",
   "metadata": {},
   "source": [
    "# Допишем код для процесса тренировки"
   ]
  },
  {
   "cell_type": "code",
   "execution_count": 28,
   "metadata": {},
   "outputs": [
    {
     "name": "stdout",
     "output_type": "stream",
     "text": [
      "n_input 3072\n",
      "n_output 10\n",
      "hidden_layer_size 100\n",
      "Loss: 2.219591, Train accuracy: 0.196667, val accuracy: 0.206000\n",
      "Loss: 2.294364, Train accuracy: 0.273889, val accuracy: 0.277000\n",
      "Loss: 1.474355, Train accuracy: 0.379778, val accuracy: 0.368000\n",
      "Loss: 1.588909, Train accuracy: 0.460111, val accuracy: 0.438000\n",
      "Loss: 1.527245, Train accuracy: 0.516667, val accuracy: 0.489000\n",
      "Loss: 1.629716, Train accuracy: 0.529667, val accuracy: 0.511000\n",
      "Loss: 1.383967, Train accuracy: 0.530000, val accuracy: 0.513000\n",
      "Loss: 1.580411, Train accuracy: 0.507222, val accuracy: 0.476000\n",
      "Loss: 2.353345, Train accuracy: 0.507222, val accuracy: 0.486000\n",
      "Loss: 1.274851, Train accuracy: 0.549444, val accuracy: 0.540000\n",
      "Loss: 1.542667, Train accuracy: 0.539222, val accuracy: 0.535000\n",
      "Loss: 1.293627, Train accuracy: 0.579556, val accuracy: 0.566000\n",
      "Loss: 1.443972, Train accuracy: 0.567111, val accuracy: 0.543000\n",
      "Loss: 1.259294, Train accuracy: 0.553556, val accuracy: 0.537000\n",
      "Loss: 1.378062, Train accuracy: 0.580556, val accuracy: 0.560000\n",
      "Loss: 1.359652, Train accuracy: 0.571667, val accuracy: 0.563000\n",
      "Loss: 1.393395, Train accuracy: 0.592556, val accuracy: 0.552000\n",
      "Loss: 0.948703, Train accuracy: 0.599111, val accuracy: 0.573000\n",
      "Loss: 1.409763, Train accuracy: 0.591111, val accuracy: 0.577000\n",
      "Loss: 1.465991, Train accuracy: 0.579889, val accuracy: 0.555000\n"
     ]
    }
   ],
   "source": [
    "# model = TwoLayerNet(n_input = train_X.shape[1], n_output = 10, hidden_layer_size = 100, reg = 1e1-3)\n",
    "# dataset = Dataset(train_X, train_y, val_X, val_y)\n",
    "# #trainer = Trainer(model, dataset, SGD())\n",
    "# trainer = Trainer(model, dataset, SGD(), learning_rate=1e-2)\n",
    "\n",
    "\n",
    "model = TwoLayerNet(hidden_layer_size = 100, n_input = train_X.shape[1], n_output = 10, reg = 0.001)\n",
    "dataset = Dataset(train_X, train_y, val_X, val_y)\n",
    "trainer = Trainer(model, dataset, SGD(), learning_rate=1e-1)\n",
    "\n",
    "# TODO Implement missing pieces in Trainer.fit function\n",
    "# You should expect loss to go down and train and val accuracy go up for every epoch\n",
    "loss_history, train_history, val_history = trainer.fit()"
   ]
  },
  {
   "cell_type": "code",
   "execution_count": 40,
   "metadata": {},
   "outputs": [
    {
     "data": {
      "text/plain": [
       "[<matplotlib.lines.Line2D at 0x10a81b828>]"
      ]
     },
     "execution_count": 40,
     "metadata": {},
     "output_type": "execute_result"
    },
    {
     "data": {
      "image/png": "[encoded data removed]",
      "text/plain": [
       "<matplotlib.figure.Figure at 0x1082237f0>"
      ]
     },
     "metadata": {},
     "output_type": "display_data"
    }
   ],
   "source": [
    "plt.plot(train_history)\n",
    "plt.plot(val_history)"
   ]
  },
  {
   "cell_type": "markdown",
   "metadata": {},
   "source": [
    "# Улучшаем процесс тренировки\n",
    "\n",
    "Мы реализуем несколько ключевых оптимизаций, необходимых для тренировки современных нейросетей."
   ]
  },
  {
   "cell_type": "markdown",
   "metadata": {},
   "source": [
    "## Уменьшение скорости обучения (learning rate decay)\n",
    "\n",
    "Одна из необходимых оптимизаций во время тренировки нейронных сетей - постепенное уменьшение скорости обучения по мере тренировки.\n",
    "\n",
    "Один из стандартных методов - уменьшение скорости обучения (learning rate) каждые N эпох на коэффициент d (часто называемый decay). Значения N и d, как всегда, являются гиперпараметрами и должны подбираться на основе эффективности на проверочных данных (validation data). \n",
    "\n",
    "В нашем случае N будет равным 1."
   ]
  },
  {
   "cell_type": "code",
   "execution_count": 37,
   "metadata": {},
   "outputs": [
    {
     "name": "stdout",
     "output_type": "stream",
     "text": [
      "n_input 3072\n",
      "n_output 10\n",
      "hidden_layer_size 100\n",
      "Loss: 2.270483, Train accuracy: 0.196667, val accuracy: 0.206000\n",
      "Loss: 1.977249, Train accuracy: 0.296556, val accuracy: 0.308000\n",
      "Loss: 1.859580, Train accuracy: 0.392333, val accuracy: 0.397000\n",
      "Loss: 1.692940, Train accuracy: 0.457889, val accuracy: 0.467000\n",
      "Loss: 1.377178, Train accuracy: 0.504667, val accuracy: 0.493000\n",
      "Loss: 1.860862, Train accuracy: 0.503222, val accuracy: 0.494000\n",
      "Loss: 1.232431, Train accuracy: 0.538000, val accuracy: 0.509000\n",
      "Loss: 1.436310, Train accuracy: 0.546444, val accuracy: 0.526000\n",
      "Loss: 1.004136, Train accuracy: 0.543778, val accuracy: 0.540000\n",
      "Loss: 1.260936, Train accuracy: 0.543778, val accuracy: 0.543000\n",
      "Loss: 1.581981, Train accuracy: 0.566667, val accuracy: 0.555000\n",
      "Loss: 1.799937, Train accuracy: 0.544778, val accuracy: 0.524000\n",
      "Loss: 1.668248, Train accuracy: 0.574444, val accuracy: 0.559000\n",
      "Loss: 1.556249, Train accuracy: 0.567333, val accuracy: 0.558000\n",
      "Loss: 1.782776, Train accuracy: 0.589000, val accuracy: 0.572000\n",
      "Loss: 1.204752, Train accuracy: 0.558444, val accuracy: 0.564000\n",
      "Loss: 1.458867, Train accuracy: 0.574778, val accuracy: 0.561000\n",
      "Loss: 1.346006, Train accuracy: 0.569000, val accuracy: 0.568000\n",
      "Loss: 1.032872, Train accuracy: 0.591889, val accuracy: 0.585000\n",
      "Loss: 1.452322, Train accuracy: 0.579000, val accuracy: 0.567000\n"
     ]
    }
   ],
   "source": [
    "# TODO Implement learning rate decay inside Trainer.fit method\n",
    "# Decay should happen once per epoch\n",
    "\n",
    "#model = TwoLayerNet(n_input = train_X.shape[1], n_output = 10, hidden_layer_size = 100, reg = 1e-1)\n",
    "#dataset = Dataset(train_X, train_y, val_X, val_y)\n",
    "#trainer = Trainer(model, dataset, SGD(), learning_rate_decay=0.99)\n",
    "\n",
    "model = TwoLayerNet(hidden_layer_size = 100, n_input = train_X.shape[1], n_output = 10, reg = 0.001)\n",
    "dataset = Dataset(train_X, train_y, val_X, val_y)\n",
    "trainer = Trainer(model, dataset, SGD(), learning_rate=1e-1, learning_rate_decay=0.99)\n",
    "\n",
    "\n",
    "initial_learning_rate = trainer.learning_rate\n",
    "loss_history, train_history, val_history = trainer.fit()\n",
    "\n",
    "assert trainer.learning_rate < initial_learning_rate, \"Learning rate should've been reduced\"\n",
    "assert trainer.learning_rate > 0.5*initial_learning_rate, \"Learning rate shouldn'tve been reduced that much!\""
   ]
  },
  {
   "cell_type": "markdown",
   "metadata": {},
   "source": [
    "# Накопление импульса (Momentum SGD)\n",
    "\n",
    "Другой большой класс оптимизаций - использование более эффективных методов градиентного спуска. Мы реализуем один из них - накопление импульса (Momentum SGD).\n",
    "\n",
    "Этот метод хранит скорость движения, использует градиент для ее изменения на каждом шаге, и изменяет веса пропорционально значению скорости.\n",
    "(Физическая аналогия: Вместо скорости градиенты теперь будут задавать ускорение, но будет присутствовать сила трения.)\n",
    "\n",
    "```\n",
    "velocity = momentum * velocity - learning_rate * gradient \n",
    "w = w + velocity\n",
    "```\n",
    "\n",
    "`momentum` здесь коэффициент затухания, который тоже является гиперпараметром (к счастью, для него часто есть хорошее значение по умолчанию, типичный диапазон -- 0.8-0.99).\n",
    "\n",
    "Несколько полезных ссылок, где метод разбирается более подробно:  \n",
    "http://cs231n.github.io/neural-networks-3/#sgd  \n",
    "https://distill.pub/2017/momentum/"
   ]
  },
  {
   "cell_type": "code",
   "execution_count": 39,
   "metadata": {},
   "outputs": [
    {
     "name": "stdout",
     "output_type": "stream",
     "text": [
      "n_input 3072\n",
      "n_output 10\n",
      "hidden_layer_size 100\n",
      "Loss: 2.240555, Train accuracy: 0.196667, val accuracy: 0.206000\n",
      "Loss: 2.235754, Train accuracy: 0.196667, val accuracy: 0.206000\n",
      "Loss: 2.174535, Train accuracy: 0.196667, val accuracy: 0.206000\n",
      "Loss: 2.335046, Train accuracy: 0.196667, val accuracy: 0.206000\n",
      "Loss: 2.307133, Train accuracy: 0.196667, val accuracy: 0.206000\n",
      "Loss: 2.222573, Train accuracy: 0.196667, val accuracy: 0.206000\n",
      "Loss: 2.207723, Train accuracy: 0.196667, val accuracy: 0.206000\n",
      "Loss: 2.421446, Train accuracy: 0.196667, val accuracy: 0.206000\n",
      "Loss: 2.200580, Train accuracy: 0.196667, val accuracy: 0.206000\n",
      "Loss: 2.263781, Train accuracy: 0.196667, val accuracy: 0.206000\n",
      "Loss: 2.121391, Train accuracy: 0.197111, val accuracy: 0.206000\n",
      "Loss: 2.277801, Train accuracy: 0.225222, val accuracy: 0.229000\n",
      "Loss: 2.255960, Train accuracy: 0.245222, val accuracy: 0.247000\n",
      "Loss: 2.161333, Train accuracy: 0.265778, val accuracy: 0.266000\n",
      "Loss: 1.795552, Train accuracy: 0.271111, val accuracy: 0.268000\n",
      "Loss: 2.207438, Train accuracy: 0.278000, val accuracy: 0.278000\n",
      "Loss: 1.781982, Train accuracy: 0.283667, val accuracy: 0.282000\n",
      "Loss: 2.229071, Train accuracy: 0.285778, val accuracy: 0.282000\n",
      "Loss: 1.999502, Train accuracy: 0.289667, val accuracy: 0.293000\n",
      "Loss: 1.556011, Train accuracy: 0.295111, val accuracy: 0.296000\n"
     ]
    }
   ],
   "source": [
    "# TODO: Implement MomentumSGD.update function in optim.py\n",
    "\n",
    "# model = TwoLayerNet(hidden_layer_size = 100, n_input = train_X.shape[1], n_output = 10, reg = 0.001)\n",
    "# dataset = Dataset(train_X, train_y, val_X, val_y)\n",
    "# trainer = Trainer(model, dataset, SGD(), learning_rate=1e-1, learning_rate_decay=0.99)\n",
    "\n",
    "\n",
    "\n",
    "\n",
    "model = TwoLayerNet(n_input = train_X.shape[1], n_output = 10, hidden_layer_size = 100, reg = 0.001)\n",
    "dataset = Dataset(train_X, train_y, val_X, val_y)\n",
    "trainer = Trainer(model, dataset, MomentumSGD(), learning_rate=1e-3, learning_rate_decay=0.99)\n",
    "\n",
    "# You should see even better results than before!\n",
    "loss_history, train_history, val_history = trainer.fit()"
   ]
  },
  {
   "cell_type": "markdown",
   "metadata": {},
   "source": [
    "# Ну что, давайте уже тренировать сеть!"
   ]
  },
  {
   "cell_type": "markdown",
   "metadata": {},
   "source": [
    "## Последний тест - переобучимся (overfit) на маленьком наборе данных\n",
    "\n",
    "Хороший способ проверить, все ли реализовано корректно - переобучить сеть на маленьком наборе данных.  \n",
    "Наша модель обладает достаточной мощностью, чтобы приблизить маленький набор данных идеально, поэтому мы ожидаем, что на нем мы быстро дойдем до 100% точности на тренировочном наборе. \n",
    "\n",
    "Если этого не происходит, то где-то была допущена ошибка!"
   ]
  },
  {
   "cell_type": "code",
   "execution_count": 57,
   "metadata": {},
   "outputs": [
    {
     "name": "stdout",
     "output_type": "stream",
     "text": [
      "n_input 3072\n",
      "n_output 10\n",
      "hidden_layer_size 100\n",
      "Loss: 2.314963, Train accuracy: 0.200000, val accuracy: 0.066667\n",
      "Loss: 2.294254, Train accuracy: 0.200000, val accuracy: 0.133333\n",
      "Loss: 2.289132, Train accuracy: 0.200000, val accuracy: 0.066667\n",
      "Loss: 2.308178, Train accuracy: 0.200000, val accuracy: 0.133333\n",
      "Loss: 2.268752, Train accuracy: 0.200000, val accuracy: 0.133333\n",
      "Loss: 2.306423, Train accuracy: 0.266667, val accuracy: 0.000000\n",
      "Loss: 2.211330, Train accuracy: 0.266667, val accuracy: 0.000000\n",
      "Loss: 2.135544, Train accuracy: 0.266667, val accuracy: 0.000000\n",
      "Loss: 2.221152, Train accuracy: 0.266667, val accuracy: 0.000000\n",
      "Loss: 2.152039, Train accuracy: 0.266667, val accuracy: 0.000000\n",
      "Loss: 2.098917, Train accuracy: 0.266667, val accuracy: 0.000000\n",
      "Loss: 2.299753, Train accuracy: 0.400000, val accuracy: 0.000000\n",
      "Loss: 1.721297, Train accuracy: 0.400000, val accuracy: 0.000000\n",
      "Loss: 2.035154, Train accuracy: 0.400000, val accuracy: 0.000000\n",
      "Loss: 2.178121, Train accuracy: 0.400000, val accuracy: 0.000000\n",
      "Loss: 1.696568, Train accuracy: 0.400000, val accuracy: 0.000000\n",
      "Loss: 1.386604, Train accuracy: 0.333333, val accuracy: 0.000000\n",
      "Loss: 1.467972, Train accuracy: 0.400000, val accuracy: 0.000000\n",
      "Loss: 1.965702, Train accuracy: 0.400000, val accuracy: 0.000000\n",
      "Loss: 1.588289, Train accuracy: 0.400000, val accuracy: 0.000000\n",
      "Loss: 1.367872, Train accuracy: 0.400000, val accuracy: 0.000000\n",
      "Loss: 1.386060, Train accuracy: 0.400000, val accuracy: 0.000000\n",
      "Loss: 1.285339, Train accuracy: 0.466667, val accuracy: 0.000000\n",
      "Loss: 1.345347, Train accuracy: 0.466667, val accuracy: 0.000000\n",
      "Loss: 1.741135, Train accuracy: 0.466667, val accuracy: 0.066667\n",
      "Loss: 1.797088, Train accuracy: 0.466667, val accuracy: 0.066667\n",
      "Loss: 1.528345, Train accuracy: 0.466667, val accuracy: 0.066667\n",
      "Loss: 1.114662, Train accuracy: 0.466667, val accuracy: 0.066667\n",
      "Loss: 1.835144, Train accuracy: 0.533333, val accuracy: 0.066667\n",
      "Loss: 1.750122, Train accuracy: 0.533333, val accuracy: 0.066667\n",
      "Loss: 1.013258, Train accuracy: 0.533333, val accuracy: 0.066667\n",
      "Loss: 1.126965, Train accuracy: 0.600000, val accuracy: 0.066667\n",
      "Loss: 1.779361, Train accuracy: 0.600000, val accuracy: 0.066667\n",
      "Loss: 1.307828, Train accuracy: 0.600000, val accuracy: 0.066667\n",
      "Loss: 1.414223, Train accuracy: 0.600000, val accuracy: 0.066667\n",
      "Loss: 0.894098, Train accuracy: 0.600000, val accuracy: 0.066667\n",
      "Loss: 1.300363, Train accuracy: 0.600000, val accuracy: 0.066667\n",
      "Loss: 1.645158, Train accuracy: 0.600000, val accuracy: 0.066667\n",
      "Loss: 1.394331, Train accuracy: 0.600000, val accuracy: 0.066667\n",
      "Loss: 0.832223, Train accuracy: 0.600000, val accuracy: 0.066667\n",
      "Loss: 0.830346, Train accuracy: 0.600000, val accuracy: 0.066667\n",
      "Loss: 0.540092, Train accuracy: 0.600000, val accuracy: 0.066667\n",
      "Loss: 1.603352, Train accuracy: 0.666667, val accuracy: 0.066667\n",
      "Loss: 1.236576, Train accuracy: 0.666667, val accuracy: 0.066667\n",
      "Loss: 1.129266, Train accuracy: 0.666667, val accuracy: 0.066667\n",
      "Loss: 0.706467, Train accuracy: 0.666667, val accuracy: 0.066667\n",
      "Loss: 0.959106, Train accuracy: 0.733333, val accuracy: 0.066667\n",
      "Loss: 0.620719, Train accuracy: 0.733333, val accuracy: 0.066667\n",
      "Loss: 1.224445, Train accuracy: 0.733333, val accuracy: 0.066667\n",
      "Loss: 0.918885, Train accuracy: 0.733333, val accuracy: 0.066667\n",
      "Loss: 0.499006, Train accuracy: 0.733333, val accuracy: 0.066667\n",
      "Loss: 0.700190, Train accuracy: 0.666667, val accuracy: 0.066667\n",
      "Loss: 0.678742, Train accuracy: 0.733333, val accuracy: 0.066667\n",
      "Loss: 0.470479, Train accuracy: 0.733333, val accuracy: 0.066667\n",
      "Loss: 0.680530, Train accuracy: 0.733333, val accuracy: 0.066667\n",
      "Loss: 0.587158, Train accuracy: 0.733333, val accuracy: 0.066667\n",
      "Loss: 0.779899, Train accuracy: 0.800000, val accuracy: 0.066667\n",
      "Loss: 1.412275, Train accuracy: 0.800000, val accuracy: 0.066667\n",
      "Loss: 0.938175, Train accuracy: 0.800000, val accuracy: 0.066667\n",
      "Loss: 0.437454, Train accuracy: 0.866667, val accuracy: 0.066667\n",
      "Loss: 1.104651, Train accuracy: 0.866667, val accuracy: 0.066667\n",
      "Loss: 0.638677, Train accuracy: 0.866667, val accuracy: 0.066667\n",
      "Loss: 0.407158, Train accuracy: 0.866667, val accuracy: 0.066667\n",
      "Loss: 0.589485, Train accuracy: 0.866667, val accuracy: 0.066667\n",
      "Loss: 0.785502, Train accuracy: 0.866667, val accuracy: 0.066667\n",
      "Loss: 0.434108, Train accuracy: 0.866667, val accuracy: 0.066667\n",
      "Loss: 0.472497, Train accuracy: 0.933333, val accuracy: 0.066667\n",
      "Loss: 0.328704, Train accuracy: 0.933333, val accuracy: 0.066667\n",
      "Loss: 0.246419, Train accuracy: 0.933333, val accuracy: 0.066667\n",
      "Loss: 0.734948, Train accuracy: 0.933333, val accuracy: 0.066667\n",
      "Loss: 0.482762, Train accuracy: 0.933333, val accuracy: 0.066667\n",
      "Loss: 0.434681, Train accuracy: 0.933333, val accuracy: 0.066667\n",
      "Loss: 0.422962, Train accuracy: 0.933333, val accuracy: 0.066667\n",
      "Loss: 0.440092, Train accuracy: 0.933333, val accuracy: 0.066667\n",
      "Loss: 0.431649, Train accuracy: 0.933333, val accuracy: 0.066667\n",
      "Loss: 0.241196, Train accuracy: 0.933333, val accuracy: 0.066667\n",
      "Loss: 0.216834, Train accuracy: 0.933333, val accuracy: 0.066667\n",
      "Loss: 0.746157, Train accuracy: 0.933333, val accuracy: 0.066667\n",
      "Loss: 0.635114, Train accuracy: 0.933333, val accuracy: 0.066667\n",
      "Loss: 0.287533, Train accuracy: 0.933333, val accuracy: 0.066667\n",
      "Loss: 0.477037, Train accuracy: 0.933333, val accuracy: 0.066667\n",
      "Loss: 0.386805, Train accuracy: 0.933333, val accuracy: 0.066667\n",
      "Loss: 0.298776, Train accuracy: 0.933333, val accuracy: 0.066667\n",
      "Loss: 0.280685, Train accuracy: 0.933333, val accuracy: 0.066667\n",
      "Loss: 0.610332, Train accuracy: 0.933333, val accuracy: 0.066667\n",
      "Loss: 0.291250, Train accuracy: 0.933333, val accuracy: 0.066667\n",
      "Loss: 0.611463, Train accuracy: 0.933333, val accuracy: 0.066667\n",
      "Loss: 0.321246, Train accuracy: 1.000000, val accuracy: 0.066667\n",
      "Loss: 0.213560, Train accuracy: 1.000000, val accuracy: 0.066667\n",
      "Loss: 0.248423, Train accuracy: 1.000000, val accuracy: 0.066667\n",
      "Loss: 0.339972, Train accuracy: 1.000000, val accuracy: 0.066667\n",
      "Loss: 0.260933, Train accuracy: 1.000000, val accuracy: 0.066667\n",
      "Loss: 0.331773, Train accuracy: 1.000000, val accuracy: 0.066667\n",
      "Loss: 0.641219, Train accuracy: 1.000000, val accuracy: 0.066667\n",
      "Loss: 0.297533, Train accuracy: 1.000000, val accuracy: 0.066667\n",
      "Loss: 0.247183, Train accuracy: 1.000000, val accuracy: 0.066667\n",
      "Loss: 0.261632, Train accuracy: 1.000000, val accuracy: 0.066667\n",
      "Loss: 0.251504, Train accuracy: 1.000000, val accuracy: 0.066667\n",
      "Loss: 0.553879, Train accuracy: 1.000000, val accuracy: 0.066667\n",
      "Loss: 0.579231, Train accuracy: 1.000000, val accuracy: 0.066667\n",
      "Loss: 0.291872, Train accuracy: 1.000000, val accuracy: 0.066667\n",
      "Loss: 0.240483, Train accuracy: 1.000000, val accuracy: 0.066667\n",
      "Loss: 0.232684, Train accuracy: 1.000000, val accuracy: 0.066667\n",
      "Loss: 0.232119, Train accuracy: 1.000000, val accuracy: 0.066667\n",
      "Loss: 0.284350, Train accuracy: 1.000000, val accuracy: 0.066667\n",
      "Loss: 0.224236, Train accuracy: 1.000000, val accuracy: 0.066667\n",
      "Loss: 0.264215, Train accuracy: 1.000000, val accuracy: 0.066667\n",
      "Loss: 0.238188, Train accuracy: 1.000000, val accuracy: 0.066667\n",
      "Loss: 0.281599, Train accuracy: 1.000000, val accuracy: 0.066667\n",
      "Loss: 0.528988, Train accuracy: 1.000000, val accuracy: 0.066667\n",
      "Loss: 0.279740, Train accuracy: 1.000000, val accuracy: 0.066667\n",
      "Loss: 0.229850, Train accuracy: 1.000000, val accuracy: 0.066667\n",
      "Loss: 0.248930, Train accuracy: 1.000000, val accuracy: 0.066667\n",
      "Loss: 0.273598, Train accuracy: 1.000000, val accuracy: 0.066667\n",
      "Loss: 0.291395, Train accuracy: 1.000000, val accuracy: 0.066667\n",
      "Loss: 0.229757, Train accuracy: 1.000000, val accuracy: 0.066667\n",
      "Loss: 0.517831, Train accuracy: 1.000000, val accuracy: 0.066667\n",
      "Loss: 0.529319, Train accuracy: 1.000000, val accuracy: 0.066667\n",
      "Loss: 0.265392, Train accuracy: 1.000000, val accuracy: 0.066667\n",
      "Loss: 0.529672, Train accuracy: 1.000000, val accuracy: 0.066667\n",
      "Loss: 0.247491, Train accuracy: 1.000000, val accuracy: 0.066667\n",
      "Loss: 0.239006, Train accuracy: 1.000000, val accuracy: 0.066667\n",
      "Loss: 0.242891, Train accuracy: 1.000000, val accuracy: 0.066667\n",
      "Loss: 0.261369, Train accuracy: 1.000000, val accuracy: 0.066667\n",
      "Loss: 0.546071, Train accuracy: 1.000000, val accuracy: 0.066667\n",
      "Loss: 0.256770, Train accuracy: 1.000000, val accuracy: 0.066667\n",
      "Loss: 0.533218, Train accuracy: 1.000000, val accuracy: 0.066667\n",
      "Loss: 0.537665, Train accuracy: 1.000000, val accuracy: 0.066667\n",
      "Loss: 0.253505, Train accuracy: 1.000000, val accuracy: 0.066667\n",
      "Loss: 0.252120, Train accuracy: 1.000000, val accuracy: 0.066667\n",
      "Loss: 0.499122, Train accuracy: 1.000000, val accuracy: 0.066667\n",
      "Loss: 0.510182, Train accuracy: 1.000000, val accuracy: 0.066667\n",
      "Loss: 0.225651, Train accuracy: 1.000000, val accuracy: 0.066667\n",
      "Loss: 0.253424, Train accuracy: 1.000000, val accuracy: 0.066667\n",
      "Loss: 0.507547, Train accuracy: 1.000000, val accuracy: 0.066667\n",
      "Loss: 0.244537, Train accuracy: 1.000000, val accuracy: 0.066667\n",
      "Loss: 0.504849, Train accuracy: 1.000000, val accuracy: 0.066667\n",
      "Loss: 0.484818, Train accuracy: 1.000000, val accuracy: 0.066667\n",
      "Loss: 0.487147, Train accuracy: 1.000000, val accuracy: 0.066667\n",
      "Loss: 0.252933, Train accuracy: 1.000000, val accuracy: 0.066667\n",
      "Loss: 0.244343, Train accuracy: 1.000000, val accuracy: 0.066667\n",
      "Loss: 0.257971, Train accuracy: 1.000000, val accuracy: 0.066667\n",
      "Loss: 0.245639, Train accuracy: 1.000000, val accuracy: 0.066667\n",
      "Loss: 0.495293, Train accuracy: 1.000000, val accuracy: 0.066667\n",
      "Loss: 0.238037, Train accuracy: 1.000000, val accuracy: 0.066667\n",
      "Loss: 0.502918, Train accuracy: 1.000000, val accuracy: 0.066667\n",
      "Loss: 0.247334, Train accuracy: 1.000000, val accuracy: 0.066667\n",
      "Loss: 0.243272, Train accuracy: 1.000000, val accuracy: 0.066667\n",
      "Loss: 0.223110, Train accuracy: 1.000000, val accuracy: 0.066667\n",
      "Loss: 0.259515, Train accuracy: 1.000000, val accuracy: 0.066667\n"
     ]
    }
   ],
   "source": [
    "data_size = 15\n",
    "model = TwoLayerNet(n_input = train_X.shape[1], n_output = 10, hidden_layer_size = 100, reg = 0.01)\n",
    "dataset = Dataset(train_X[:data_size], train_y[:data_size], val_X[:data_size], val_y[:data_size])\n",
    "trainer = Trainer(model, dataset, SGD(), learning_rate=1e-1, num_epochs=150, batch_size=5)\n",
    "\n",
    "\n",
    "#model = TwoLayerNet(100, 3072, 10, reg = 0.001)\n",
    "#dataset = Dataset(train_X[:data_size], train_y[:data_size], val_X[:data_size], val_y[:data_size])\n",
    "#trainer = Trainer(model, dataset, SGD(), learning_rate=1e-1, num_epochs=150, batch_size=5)\n",
    "\n",
    "# You should expect this to reach 1.0 training accuracy \n",
    "loss_history, train_history, val_history = trainer.fit()"
   ]
  },
  {
   "cell_type": "markdown",
   "metadata": {},
   "source": [
    "Теперь найдем гипепараметры, для которых этот процесс сходится быстрее.\n",
    "Если все реализовано корректно, то существуют параметры, при которых процесс сходится в **20** эпох или еще быстрее.\n",
    "Найдите их!"
   ]
  },
  {
   "cell_type": "code",
   "execution_count": 60,
   "metadata": {},
   "outputs": [
    {
     "name": "stdout",
     "output_type": "stream",
     "text": [
      "n_input 3072\n",
      "n_output 10\n",
      "hidden_layer_size 100\n",
      "Loss: 2.317259, Train accuracy: 0.200000, val accuracy: 0.066667\n",
      "Loss: 2.313212, Train accuracy: 0.200000, val accuracy: 0.066667\n",
      "Loss: 2.298604, Train accuracy: 0.200000, val accuracy: 0.066667\n",
      "Loss: 2.269913, Train accuracy: 0.200000, val accuracy: 0.066667\n",
      "Loss: 2.286836, Train accuracy: 0.200000, val accuracy: 0.066667\n",
      "Loss: 2.264099, Train accuracy: 0.266667, val accuracy: 0.066667\n",
      "Loss: 2.262226, Train accuracy: 0.266667, val accuracy: 0.000000\n",
      "Loss: 2.344336, Train accuracy: 0.266667, val accuracy: 0.000000\n",
      "Loss: 2.292329, Train accuracy: 0.266667, val accuracy: 0.000000\n",
      "Loss: 2.167753, Train accuracy: 0.266667, val accuracy: 0.000000\n",
      "Loss: 2.191639, Train accuracy: 0.266667, val accuracy: 0.000000\n",
      "Loss: 2.178633, Train accuracy: 0.266667, val accuracy: 0.000000\n",
      "Loss: 1.995397, Train accuracy: 0.266667, val accuracy: 0.000000\n",
      "Loss: 2.320156, Train accuracy: 0.400000, val accuracy: 0.000000\n",
      "Loss: 1.678529, Train accuracy: 0.400000, val accuracy: 0.000000\n",
      "Loss: 2.433717, Train accuracy: 0.400000, val accuracy: 0.000000\n",
      "Loss: 2.388905, Train accuracy: 0.400000, val accuracy: 0.000000\n",
      "Loss: 1.777798, Train accuracy: 0.333333, val accuracy: 0.000000\n",
      "Loss: 1.756132, Train accuracy: 0.333333, val accuracy: 0.000000\n",
      "Loss: 1.599645, Train accuracy: 0.333333, val accuracy: 0.000000\n"
     ]
    }
   ],
   "source": [
    "# Now, tweak some hyper parameters and make it train to 1.0 accuracy in 20 epochs or less\n",
    "\n",
    "model = TwoLayerNet(n_input = train_X.shape[1], n_output = 10, hidden_layer_size = 100, reg = 0.1)\n",
    "dataset = Dataset(train_X[:data_size], train_y[:data_size], val_X[:data_size], val_y[:data_size])\n",
    "# TODO: Change any hyperparamers or optimizators to reach training accuracy in 20 epochs\n",
    "trainer = Trainer(model, dataset, SGD(), learning_rate=1e-1, num_epochs=20, batch_size=5)\n",
    "\n",
    "loss_history, train_history, val_history = trainer.fit()"
   ]
  },
  {
   "cell_type": "markdown",
   "metadata": {},
   "source": [
    "# Итак, основное мероприятие!\n",
    "\n",
    "Натренируйте лучшую нейросеть! Можно добавлять и изменять параметры, менять количество нейронов в слоях сети и как угодно экспериментировать. \n",
    "\n",
    "Добейтесь точности лучше **40%** на validation set."
   ]
  },
  {
   "cell_type": "code",
   "execution_count": 65,
   "metadata": {
    "scrolled": true
   },
   "outputs": [
    {
     "name": "stdout",
     "output_type": "stream",
     "text": [
      "n_input 3072\n",
      "n_output 10\n",
      "hidden_layer_size 256\n",
      "Loss: 2.329177, Train accuracy: 0.196667, val accuracy: 0.206000\n",
      "Loss: 2.270695, Train accuracy: 0.196667, val accuracy: 0.206000\n",
      "Loss: 2.080275, Train accuracy: 0.202889, val accuracy: 0.209000\n",
      "Loss: 2.100074, Train accuracy: 0.278444, val accuracy: 0.282000\n",
      "Loss: 1.673857, Train accuracy: 0.337778, val accuracy: 0.336000\n",
      "Loss: 1.625877, Train accuracy: 0.427333, val accuracy: 0.418000\n",
      "Loss: 1.765355, Train accuracy: 0.511889, val accuracy: 0.513000\n",
      "Loss: 1.308409, Train accuracy: 0.563556, val accuracy: 0.559000\n",
      "Loss: 1.558079, Train accuracy: 0.611556, val accuracy: 0.600000\n",
      "Loss: 1.224174, Train accuracy: 0.643556, val accuracy: 0.643000\n",
      "Loss: 1.279012, Train accuracy: 0.660111, val accuracy: 0.644000\n",
      "Loss: 1.246283, Train accuracy: 0.684556, val accuracy: 0.669000\n",
      "Loss: 1.557325, Train accuracy: 0.695111, val accuracy: 0.678000\n",
      "Loss: 1.058458, Train accuracy: 0.716000, val accuracy: 0.679000\n",
      "Loss: 0.958246, Train accuracy: 0.718222, val accuracy: 0.698000\n",
      "Loss: 0.836920, Train accuracy: 0.740778, val accuracy: 0.710000\n",
      "Loss: 1.047398, Train accuracy: 0.731222, val accuracy: 0.687000\n",
      "Loss: 1.162930, Train accuracy: 0.757667, val accuracy: 0.708000\n",
      "Loss: 0.951248, Train accuracy: 0.759667, val accuracy: 0.727000\n",
      "Loss: 0.984930, Train accuracy: 0.768778, val accuracy: 0.719000\n",
      "Loss: 0.991528, Train accuracy: 0.780222, val accuracy: 0.731000\n",
      "Loss: 1.091780, Train accuracy: 0.775111, val accuracy: 0.718000\n",
      "Loss: 0.876733, Train accuracy: 0.788111, val accuracy: 0.723000\n",
      "Loss: 1.012789, Train accuracy: 0.784556, val accuracy: 0.720000\n",
      "Loss: 0.888936, Train accuracy: 0.801889, val accuracy: 0.737000\n",
      "Loss: 0.767129, Train accuracy: 0.813222, val accuracy: 0.745000\n",
      "Loss: 1.048392, Train accuracy: 0.811000, val accuracy: 0.748000\n",
      "Loss: 0.590185, Train accuracy: 0.820444, val accuracy: 0.743000\n",
      "Loss: 1.156276, Train accuracy: 0.820111, val accuracy: 0.724000\n",
      "Loss: 0.846712, Train accuracy: 0.827889, val accuracy: 0.746000\n",
      "Loss: 0.813344, Train accuracy: 0.841000, val accuracy: 0.744000\n",
      "Loss: 0.875043, Train accuracy: 0.837667, val accuracy: 0.746000\n",
      "Loss: 0.842967, Train accuracy: 0.833000, val accuracy: 0.748000\n",
      "Loss: 1.321663, Train accuracy: 0.851111, val accuracy: 0.763000\n",
      "Loss: 0.971545, Train accuracy: 0.839778, val accuracy: 0.750000\n",
      "Loss: 0.777569, Train accuracy: 0.850444, val accuracy: 0.750000\n",
      "Loss: 0.723583, Train accuracy: 0.866000, val accuracy: 0.765000\n",
      "Loss: 0.735345, Train accuracy: 0.849778, val accuracy: 0.751000\n",
      "Loss: 0.861486, Train accuracy: 0.861333, val accuracy: 0.765000\n",
      "Loss: 0.879326, Train accuracy: 0.864667, val accuracy: 0.751000\n",
      "Loss: 0.825139, Train accuracy: 0.861889, val accuracy: 0.763000\n",
      "Loss: 0.979061, Train accuracy: 0.872333, val accuracy: 0.751000\n",
      "Loss: 0.767913, Train accuracy: 0.878000, val accuracy: 0.764000\n",
      "Loss: 0.928279, Train accuracy: 0.848222, val accuracy: 0.753000\n",
      "Loss: 0.763351, Train accuracy: 0.883000, val accuracy: 0.764000\n",
      "Loss: 0.936955, Train accuracy: 0.875778, val accuracy: 0.755000\n",
      "Loss: 0.684805, Train accuracy: 0.886222, val accuracy: 0.768000\n",
      "Loss: 0.628662, Train accuracy: 0.891667, val accuracy: 0.782000\n",
      "Loss: 0.798596, Train accuracy: 0.889111, val accuracy: 0.770000\n",
      "Loss: 0.800622, Train accuracy: 0.895556, val accuracy: 0.779000\n",
      "Loss: 0.644016, Train accuracy: 0.894222, val accuracy: 0.772000\n",
      "Loss: 0.796752, Train accuracy: 0.894111, val accuracy: 0.761000\n",
      "Loss: 0.690012, Train accuracy: 0.897667, val accuracy: 0.773000\n",
      "Loss: 0.929844, Train accuracy: 0.903444, val accuracy: 0.775000\n",
      "Loss: 0.881393, Train accuracy: 0.900333, val accuracy: 0.766000\n",
      "Loss: 0.737454, Train accuracy: 0.899889, val accuracy: 0.774000\n",
      "Loss: 0.665977, Train accuracy: 0.908556, val accuracy: 0.773000\n",
      "Loss: 0.688318, Train accuracy: 0.897556, val accuracy: 0.770000\n",
      "Loss: 0.746167, Train accuracy: 0.891667, val accuracy: 0.765000\n",
      "Loss: 0.503148, Train accuracy: 0.903333, val accuracy: 0.760000\n",
      "Loss: 0.628809, Train accuracy: 0.884111, val accuracy: 0.762000\n",
      "Loss: 0.808304, Train accuracy: 0.904000, val accuracy: 0.780000\n",
      "Loss: 0.613491, Train accuracy: 0.904778, val accuracy: 0.771000\n",
      "Loss: 0.637771, Train accuracy: 0.909556, val accuracy: 0.775000\n",
      "Loss: 0.725016, Train accuracy: 0.915778, val accuracy: 0.778000\n",
      "Loss: 0.861935, Train accuracy: 0.906889, val accuracy: 0.771000\n",
      "Loss: 0.683060, Train accuracy: 0.913556, val accuracy: 0.769000\n",
      "Loss: 0.930898, Train accuracy: 0.920889, val accuracy: 0.785000\n",
      "Loss: 0.725544, Train accuracy: 0.917556, val accuracy: 0.768000\n",
      "Loss: 0.882955, Train accuracy: 0.926333, val accuracy: 0.770000\n",
      "Loss: 0.681925, Train accuracy: 0.924556, val accuracy: 0.782000\n",
      "Loss: 0.807259, Train accuracy: 0.908889, val accuracy: 0.765000\n",
      "Loss: 0.738525, Train accuracy: 0.912556, val accuracy: 0.771000\n",
      "Loss: 0.804306, Train accuracy: 0.920778, val accuracy: 0.777000\n",
      "Loss: 0.835393, Train accuracy: 0.920000, val accuracy: 0.775000\n",
      "Loss: 0.942260, Train accuracy: 0.910000, val accuracy: 0.773000\n",
      "Loss: 0.711068, Train accuracy: 0.912556, val accuracy: 0.771000\n",
      "Loss: 0.754555, Train accuracy: 0.917111, val accuracy: 0.769000\n",
      "Loss: 0.725454, Train accuracy: 0.930556, val accuracy: 0.784000\n",
      "Loss: 0.669244, Train accuracy: 0.922111, val accuracy: 0.776000\n",
      "Loss: 0.680878, Train accuracy: 0.924889, val accuracy: 0.784000\n",
      "Loss: 0.773925, Train accuracy: 0.926222, val accuracy: 0.778000\n",
      "Loss: 0.682110, Train accuracy: 0.927444, val accuracy: 0.774000\n",
      "Loss: 0.786843, Train accuracy: 0.918556, val accuracy: 0.766000\n",
      "Loss: 0.720574, Train accuracy: 0.928556, val accuracy: 0.780000\n",
      "Loss: 0.648955, Train accuracy: 0.933667, val accuracy: 0.783000\n",
      "Loss: 0.654819, Train accuracy: 0.934444, val accuracy: 0.776000\n",
      "Loss: 0.778592, Train accuracy: 0.927111, val accuracy: 0.770000\n",
      "Loss: 0.986149, Train accuracy: 0.924333, val accuracy: 0.768000\n",
      "Loss: 0.704538, Train accuracy: 0.930778, val accuracy: 0.786000\n",
      "Loss: 0.688458, Train accuracy: 0.932778, val accuracy: 0.777000\n",
      "Loss: 0.649457, Train accuracy: 0.941222, val accuracy: 0.789000\n",
      "Loss: 0.585874, Train accuracy: 0.931333, val accuracy: 0.771000\n",
      "Loss: 0.724163, Train accuracy: 0.932333, val accuracy: 0.783000\n",
      "Loss: 0.625544, Train accuracy: 0.936556, val accuracy: 0.764000\n",
      "Loss: 1.006190, Train accuracy: 0.929778, val accuracy: 0.785000\n",
      "Loss: 0.742145, Train accuracy: 0.917556, val accuracy: 0.765000\n",
      "Loss: 0.726562, Train accuracy: 0.931222, val accuracy: 0.782000\n",
      "Loss: 0.758915, Train accuracy: 0.934111, val accuracy: 0.779000\n",
      "Loss: 0.734847, Train accuracy: 0.917444, val accuracy: 0.774000\n",
      "Loss: 0.761887, Train accuracy: 0.935000, val accuracy: 0.772000\n",
      "Loss: 0.668630, Train accuracy: 0.920667, val accuracy: 0.770000\n",
      "Loss: 0.743604, Train accuracy: 0.943333, val accuracy: 0.791000\n",
      "Loss: 0.686707, Train accuracy: 0.945667, val accuracy: 0.792000\n",
      "Loss: 0.594216, Train accuracy: 0.930111, val accuracy: 0.779000\n",
      "Loss: 0.759453, Train accuracy: 0.929444, val accuracy: 0.766000\n",
      "Loss: 0.973763, Train accuracy: 0.927333, val accuracy: 0.775000\n",
      "Loss: 0.610888, Train accuracy: 0.931889, val accuracy: 0.787000\n",
      "Loss: 0.791161, Train accuracy: 0.936444, val accuracy: 0.782000\n",
      "Loss: 0.737812, Train accuracy: 0.939778, val accuracy: 0.786000\n",
      "Loss: 0.758607, Train accuracy: 0.940000, val accuracy: 0.775000\n",
      "Loss: 0.713608, Train accuracy: 0.944889, val accuracy: 0.783000\n",
      "Loss: 0.669722, Train accuracy: 0.947444, val accuracy: 0.790000\n",
      "Loss: 0.584578, Train accuracy: 0.938444, val accuracy: 0.785000\n",
      "Loss: 0.766173, Train accuracy: 0.941889, val accuracy: 0.775000\n",
      "Loss: 0.634810, Train accuracy: 0.946778, val accuracy: 0.782000\n",
      "Loss: 0.860949, Train accuracy: 0.927111, val accuracy: 0.768000\n",
      "Loss: 0.559262, Train accuracy: 0.947444, val accuracy: 0.788000\n",
      "Loss: 0.950860, Train accuracy: 0.946111, val accuracy: 0.781000\n",
      "Loss: 0.620812, Train accuracy: 0.944111, val accuracy: 0.776000\n",
      "Loss: 0.680448, Train accuracy: 0.938667, val accuracy: 0.782000\n",
      "Loss: 0.709521, Train accuracy: 0.940000, val accuracy: 0.781000\n",
      "Loss: 0.621432, Train accuracy: 0.945444, val accuracy: 0.783000\n",
      "Loss: 0.651227, Train accuracy: 0.934556, val accuracy: 0.777000\n",
      "Loss: 0.674065, Train accuracy: 0.945333, val accuracy: 0.769000\n",
      "Loss: 0.621803, Train accuracy: 0.943444, val accuracy: 0.787000\n",
      "Loss: 0.675528, Train accuracy: 0.947778, val accuracy: 0.777000\n",
      "Loss: 0.758399, Train accuracy: 0.937111, val accuracy: 0.781000\n",
      "Loss: 0.616277, Train accuracy: 0.936222, val accuracy: 0.780000\n",
      "Loss: 0.708210, Train accuracy: 0.948556, val accuracy: 0.790000\n",
      "Loss: 0.787586, Train accuracy: 0.948444, val accuracy: 0.782000\n",
      "Loss: 0.605430, Train accuracy: 0.943000, val accuracy: 0.779000\n",
      "Loss: 0.746805, Train accuracy: 0.944333, val accuracy: 0.781000\n",
      "Loss: 0.790941, Train accuracy: 0.933778, val accuracy: 0.763000\n",
      "Loss: 0.768944, Train accuracy: 0.940889, val accuracy: 0.783000\n",
      "Loss: 0.778533, Train accuracy: 0.934889, val accuracy: 0.770000\n",
      "Loss: 0.667775, Train accuracy: 0.933778, val accuracy: 0.770000\n",
      "Loss: 0.655527, Train accuracy: 0.946000, val accuracy: 0.775000\n",
      "Loss: 0.655306, Train accuracy: 0.937111, val accuracy: 0.787000\n",
      "Loss: 0.816020, Train accuracy: 0.937667, val accuracy: 0.783000\n",
      "Loss: 0.781347, Train accuracy: 0.944111, val accuracy: 0.778000\n",
      "Loss: 0.758248, Train accuracy: 0.938556, val accuracy: 0.769000\n",
      "Loss: 0.737938, Train accuracy: 0.928333, val accuracy: 0.771000\n",
      "Loss: 0.576536, Train accuracy: 0.946778, val accuracy: 0.775000\n",
      "Loss: 0.769652, Train accuracy: 0.940667, val accuracy: 0.783000\n",
      "Loss: 0.724969, Train accuracy: 0.944333, val accuracy: 0.783000\n",
      "Loss: 0.769639, Train accuracy: 0.945333, val accuracy: 0.779000\n",
      "Loss: 0.808826, Train accuracy: 0.941222, val accuracy: 0.774000\n",
      "Loss: 0.661603, Train accuracy: 0.939000, val accuracy: 0.788000\n",
      "Loss: 0.666192, Train accuracy: 0.939333, val accuracy: 0.775000\n",
      "Loss: 0.627936, Train accuracy: 0.940222, val accuracy: 0.775000\n",
      "Loss: 0.532023, Train accuracy: 0.948667, val accuracy: 0.779000\n",
      "Loss: 0.645245, Train accuracy: 0.946556, val accuracy: 0.782000\n",
      "Loss: 0.678327, Train accuracy: 0.941333, val accuracy: 0.786000\n",
      "Loss: 0.634874, Train accuracy: 0.942889, val accuracy: 0.786000\n",
      "Loss: 0.766896, Train accuracy: 0.949778, val accuracy: 0.778000\n",
      "Loss: 0.852258, Train accuracy: 0.944000, val accuracy: 0.789000\n",
      "Loss: 0.707974, Train accuracy: 0.946667, val accuracy: 0.783000\n",
      "Loss: 0.537837, Train accuracy: 0.948111, val accuracy: 0.783000\n",
      "Loss: 0.972797, Train accuracy: 0.943000, val accuracy: 0.777000\n",
      "Loss: 0.859016, Train accuracy: 0.935444, val accuracy: 0.763000\n",
      "Loss: 0.825722, Train accuracy: 0.942889, val accuracy: 0.785000\n",
      "Loss: 0.626448, Train accuracy: 0.943111, val accuracy: 0.788000\n",
      "Loss: 0.884425, Train accuracy: 0.940333, val accuracy: 0.781000\n",
      "Loss: 0.674841, Train accuracy: 0.945000, val accuracy: 0.788000\n",
      "Loss: 0.770052, Train accuracy: 0.946222, val accuracy: 0.782000\n",
      "Loss: 0.642133, Train accuracy: 0.943667, val accuracy: 0.782000\n",
      "Loss: 0.744592, Train accuracy: 0.942444, val accuracy: 0.782000\n",
      "Loss: 0.741628, Train accuracy: 0.945000, val accuracy: 0.781000\n",
      "Loss: 0.874192, Train accuracy: 0.953889, val accuracy: 0.786000\n",
      "Loss: 0.819043, Train accuracy: 0.937111, val accuracy: 0.776000\n",
      "Loss: 0.652954, Train accuracy: 0.934778, val accuracy: 0.771000\n",
      "Loss: 0.648508, Train accuracy: 0.940444, val accuracy: 0.775000\n",
      "Loss: 0.671424, Train accuracy: 0.941889, val accuracy: 0.780000\n",
      "Loss: 0.632353, Train accuracy: 0.940778, val accuracy: 0.786000\n",
      "Loss: 0.617891, Train accuracy: 0.948444, val accuracy: 0.783000\n",
      "Loss: 0.676398, Train accuracy: 0.951333, val accuracy: 0.791000\n",
      "Loss: 0.734605, Train accuracy: 0.947444, val accuracy: 0.785000\n",
      "Loss: 0.720278, Train accuracy: 0.937444, val accuracy: 0.786000\n",
      "Loss: 0.605561, Train accuracy: 0.956667, val accuracy: 0.787000\n",
      "Loss: 0.635118, Train accuracy: 0.923000, val accuracy: 0.759000\n",
      "Loss: 0.648852, Train accuracy: 0.926667, val accuracy: 0.775000\n",
      "Loss: 0.725063, Train accuracy: 0.944778, val accuracy: 0.783000\n",
      "Loss: 0.713081, Train accuracy: 0.954667, val accuracy: 0.775000\n",
      "Loss: 0.596059, Train accuracy: 0.947333, val accuracy: 0.791000\n",
      "Loss: 0.641536, Train accuracy: 0.954667, val accuracy: 0.790000\n",
      "Loss: 0.685806, Train accuracy: 0.944889, val accuracy: 0.772000\n",
      "Loss: 0.765136, Train accuracy: 0.947778, val accuracy: 0.791000\n",
      "Loss: 0.628746, Train accuracy: 0.934778, val accuracy: 0.774000\n",
      "Loss: 0.566871, Train accuracy: 0.940222, val accuracy: 0.782000\n",
      "Loss: 0.742157, Train accuracy: 0.955333, val accuracy: 0.788000\n",
      "Loss: 0.694202, Train accuracy: 0.945000, val accuracy: 0.779000\n",
      "Loss: 0.771620, Train accuracy: 0.957778, val accuracy: 0.789000\n",
      "Loss: 0.711319, Train accuracy: 0.950444, val accuracy: 0.792000\n",
      "Loss: 0.708006, Train accuracy: 0.944000, val accuracy: 0.778000\n",
      "Loss: 0.735449, Train accuracy: 0.948889, val accuracy: 0.783000\n",
      "Loss: 0.739152, Train accuracy: 0.938222, val accuracy: 0.775000\n",
      "Loss: 0.650352, Train accuracy: 0.950222, val accuracy: 0.790000\n",
      "Loss: 0.617625, Train accuracy: 0.953222, val accuracy: 0.787000\n",
      "Loss: 0.742538, Train accuracy: 0.952778, val accuracy: 0.792000\n",
      "next\n",
      "best validation accuracy achieved: 0.792000\n"
     ]
    }
   ],
   "source": [
    "learning_rates = [1e-2]\n",
    "reg_strengths = [1e-3]\n",
    "learning_rate_decay = [0.99]\n",
    "hidden_layer_sizes = [256]\n",
    "num_epochs = [200]\n",
    "batch_size = 64\n",
    "\n",
    "best_classifier = None\n",
    "best_val_accuracy = None\n",
    "\n",
    "loss_history = []\n",
    "train_history = []\n",
    "val_history = []\n",
    "best_learning_rate = 0\n",
    "best_reg_strength = 0\n",
    "best_hidden_layer_size = 0\n",
    "best_num_epoch = 0\n",
    "\n",
    "for learning_rate in learning_rates:\n",
    "    for reg_strength in reg_strengths:\n",
    "        for hidden_layer_size in hidden_layer_sizes:\n",
    "            for num_epoch in num_epochs:\n",
    "                #model = TwoLayerNet(hidden_layer_size, 3072, 10, reg = reg_strength)\n",
    "                model = TwoLayerNet(n_input = train_X.shape[1], n_output = 10, hidden_layer_size = hidden_layer_size, reg = reg_strength)\n",
    "                dataset = Dataset(train_X, train_y, val_X, val_y)\n",
    "                trainer = Trainer(model, dataset, MomentumSGD(), learning_rate=learning_rate, num_epochs=num_epoch, batch_size=batch_size)\n",
    "\n",
    "                loss_history, train_history, val_history = trainer.fit()\n",
    "                \n",
    "                if best_classifier == None:\n",
    "                    best_classifier = model\n",
    "                    best_val_accuracy = val_history[-1]\n",
    "                \n",
    "                if best_val_accuracy<best_val_accuracy:\n",
    "                    best_classifier = model\n",
    "                    best_val_accuracy = val_history[-1]\n",
    "                    best_learning_rate = learning_rate\n",
    "                    best_reg_strength = reg_strength\n",
    "                    best_hidden_layer_size = hidden_layer_size\n",
    "                    best_num_epoch = num_epoch\n",
    "                print('next')\n",
    "\n",
    "print('best validation accuracy achieved: %f' % best_val_accuracy)"
   ]
  },
  {
   "cell_type": "code",
   "execution_count": 67,
   "metadata": {},
   "outputs": [
    {
     "data": {
      "text/plain": [
       "[<matplotlib.lines.Line2D at 0x10a67c320>]"
      ]
     },
     "execution_count": 67,
     "metadata": {},
     "output_type": "execute_result"
    },
    {
     "data": {
      "image/png": "[encoded data removed]",
      "text/plain": [
       "<matplotlib.figure.Figure at 0x1040aa390>"
      ]
     },
     "metadata": {},
     "output_type": "display_data"
    }
   ],
   "source": [
    "plt.figure(figsize=(15, 7))\n",
    "plt.subplot(211)\n",
    "plt.title(\"Loss\")\n",
    "plt.plot(loss_history)\n",
    "plt.subplot(212)\n",
    "plt.title(\"Train/validation accuracy\")\n",
    "plt.plot(train_history)\n",
    "plt.plot(val_history)"
   ]
  },
  {
   "cell_type": "markdown",
   "metadata": {},
   "source": [
    "# Как обычно, посмотрим, как наша лучшая модель работает на тестовых данных"
   ]
  },
  {
   "cell_type": "code",
   "execution_count": 68,
   "metadata": {},
   "outputs": [
    {
     "name": "stdout",
     "output_type": "stream",
     "text": [
      "Neural net test set accuracy: 0.769000\n"
     ]
    }
   ],
   "source": [
    "test_pred = best_classifier.predict(test_X)\n",
    "test_accuracy = multiclass_accuracy(test_pred, test_y)\n",
    "print('Neural net test set accuracy: %f' % (test_accuracy, ))"
   ]
  },
  {
   "cell_type": "code",
   "execution_count": null,
   "metadata": {},
   "outputs": [],
   "source": []
  }
 ],
 "metadata": {
  "kernelspec": {
   "display_name": "Python 3",
   "language": "python",
   "name": "python3"
  },
  "language_info": {
   "codemirror_mode": {
    "name": "ipython",
    "version": 3
   },
   "file_extension": ".py",
   "mimetype": "text/x-python",
   "name": "python",
   "nbconvert_exporter": "python",
   "pygments_lexer": "ipython3",
   "version": "3.6.8"
  }
 },
 "nbformat": 4,
 "nbformat_minor": 2
}
